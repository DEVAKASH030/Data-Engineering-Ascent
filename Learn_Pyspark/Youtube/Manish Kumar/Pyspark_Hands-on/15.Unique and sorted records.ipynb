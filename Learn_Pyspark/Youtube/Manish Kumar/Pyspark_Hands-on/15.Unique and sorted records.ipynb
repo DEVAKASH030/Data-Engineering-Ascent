{
 "cells": [
  {
   "cell_type": "markdown",
   "metadata": {
    "application/vnd.databricks.v1+cell": {
     "cellMetadata": {},
     "inputWidgets": {},
     "nuid": "61c36e53-ab59-4581-bfc0-a9f2c4cc3d13",
     "showTitle": false,
     "title": ""
    }
   },
   "source": [
    "Todays's Topic\n",
    "----------------\n",
    "1. How to find unique rows?\n",
    "2. How to drop duplicates rows?\n",
    "3. How to sort the data in ascending and descending order?\n",
    "4. One simple question of Pyspark."
   ]
  },
  {
   "cell_type": "code",
   "execution_count": null,
   "metadata": {
    "application/vnd.databricks.v1+cell": {
     "cellMetadata": {
      "byteLimit": 2048000,
      "rowLimit": 10000
     },
     "inputWidgets": {},
     "nuid": "c4f5e87d-9c1f-4538-8eaf-157895457f13",
     "showTitle": false,
     "title": ""
    }
   },
   "outputs": [],
   "source": [
    "data=[(10 ,'Anil',50000, 18),\n",
    "(11 ,'Vikas',75000,  16),\n",
    "(12 ,'Nisha',40000,  18),\n",
    "(13 ,'Nidhi',60000,  17),\n",
    "(14 ,'Priya',80000,  18),\n",
    "(15 ,'Mohit',45000,  18),\n",
    "(16 ,'Rajesh',90000, 10),\n",
    "(17 ,'Raman',55000, 16),\n",
    "(18 ,'Sam',65000,   17),\n",
    "(15 ,'Mohit',45000,  18),\n",
    "(13 ,'Nidhi',60000,  17),      \n",
    "(14 ,'Priya',90000,  18),  \n",
    "(18 ,'Sam',65000,   17)\n",
    "]\n",
    "\n",
    "schema = ['id','Name','sal','mgr_id']\n",
    "\n",
    "manager_df = spark.createDataFrame(data = data,schema = schema)\n"
   ]
  },
  {
   "cell_type": "code",
   "execution_count": null,
   "metadata": {
    "application/vnd.databricks.v1+cell": {
     "cellMetadata": {
      "byteLimit": 2048000,
      "rowLimit": 10000
     },
     "inputWidgets": {},
     "nuid": "d872fe89-80a6-44fb-88e5-ce49a194da6a",
     "showTitle": false,
     "title": ""
    }
   },
   "outputs": [
    {
     "name": "stdout",
     "output_type": "stream",
     "text": [
      "+---+------+-----+------+\n",
      "|id |Name  |sal  |mgr_id|\n",
      "+---+------+-----+------+\n",
      "|10 |Anil  |50000|18    |\n",
      "|11 |Vikas |75000|16    |\n",
      "|12 |Nisha |40000|18    |\n",
      "|13 |Nidhi |60000|17    |\n",
      "|14 |Priya |80000|18    |\n",
      "|15 |Mohit |45000|18    |\n",
      "|16 |Rajesh|90000|10    |\n",
      "|17 |Raman |55000|16    |\n",
      "|18 |Sam   |65000|17    |\n",
      "|15 |Mohit |45000|18    |\n",
      "|13 |Nidhi |60000|17    |\n",
      "|14 |Priya |90000|18    |\n",
      "|18 |Sam   |65000|17    |\n",
      "+---+------+-----+------+\n",
      "\n"
     ]
    }
   ],
   "source": [
    "manager_df.show(truncate=False)"
   ]
  },
  {
   "cell_type": "code",
   "execution_count": null,
   "metadata": {
    "application/vnd.databricks.v1+cell": {
     "cellMetadata": {
      "byteLimit": 2048000,
      "rowLimit": 10000
     },
     "inputWidgets": {},
     "nuid": "198808b2-68d9-468e-9aaf-1c613b11b43b",
     "showTitle": false,
     "title": ""
    }
   },
   "outputs": [
    {
     "name": "stdout",
     "output_type": "stream",
     "text": [
      "+---+------+-----+------+\n",
      "| id|  Name|  sal|mgr_id|\n",
      "+---+------+-----+------+\n",
      "| 10|  Anil|50000|    18|\n",
      "| 12| Nisha|40000|    18|\n",
      "| 11| Vikas|75000|    16|\n",
      "| 13| Nidhi|60000|    17|\n",
      "| 15| Mohit|45000|    18|\n",
      "| 14| Priya|80000|    18|\n",
      "| 16|Rajesh|90000|    10|\n",
      "| 17| Raman|55000|    16|\n",
      "| 18|   Sam|65000|    17|\n",
      "| 14| Priya|90000|    18|\n",
      "+---+------+-----+------+\n",
      "\n"
     ]
    }
   ],
   "source": [
    "# Showing distinct columns while considering all the columns to determine duplicates rows\n",
    "manager_df.distinct().show()"
   ]
  },
  {
   "cell_type": "code",
   "execution_count": null,
   "metadata": {
    "application/vnd.databricks.v1+cell": {
     "cellMetadata": {
      "byteLimit": 2048000,
      "rowLimit": 10000
     },
     "inputWidgets": {},
     "nuid": "00c48a8a-fb72-4736-bfae-5e502283c816",
     "showTitle": false,
     "title": ""
    }
   },
   "outputs": [
    {
     "name": "stdout",
     "output_type": "stream",
     "text": [
      "Out[9]: 13"
     ]
    }
   ],
   "source": [
    "# Count number of records before applying distinct\n",
    "manager_df.count()"
   ]
  },
  {
   "cell_type": "code",
   "execution_count": null,
   "metadata": {
    "application/vnd.databricks.v1+cell": {
     "cellMetadata": {
      "byteLimit": 2048000,
      "rowLimit": 10000
     },
     "inputWidgets": {},
     "nuid": "b6a788a3-4765-4ec8-ad4c-5aca7778bf98",
     "showTitle": false,
     "title": ""
    }
   },
   "outputs": [
    {
     "name": "stdout",
     "output_type": "stream",
     "text": [
      "Out[44]: 10"
     ]
    }
   ],
   "source": [
    "# Count number of records after applying distinct\n",
    "manager_df.distinct().count()"
   ]
  },
  {
   "cell_type": "code",
   "execution_count": null,
   "metadata": {
    "application/vnd.databricks.v1+cell": {
     "cellMetadata": {
      "byteLimit": 2048000,
      "rowLimit": 10000
     },
     "inputWidgets": {},
     "nuid": "cdd37df2-39b5-4518-ab76-1fdc0b6aabf5",
     "showTitle": false,
     "title": ""
    }
   },
   "outputs": [
    {
     "name": "stdout",
     "output_type": "stream",
     "text": [
      "+---+------+\n",
      "| id|  name|\n",
      "+---+------+\n",
      "| 10|  Anil|\n",
      "| 11| Vikas|\n",
      "| 12| Nisha|\n",
      "| 13| Nidhi|\n",
      "| 15| Mohit|\n",
      "| 14| Priya|\n",
      "| 17| Raman|\n",
      "| 16|Rajesh|\n",
      "| 18|   Sam|\n",
      "+---+------+\n",
      "\n"
     ]
    }
   ],
   "source": [
    "# Applying distinct on specified columns\n",
    "manager_df.select(\"id\",\"name\").distinct().show()"
   ]
  },
  {
   "cell_type": "code",
   "execution_count": null,
   "metadata": {
    "application/vnd.databricks.v1+cell": {
     "cellMetadata": {
      "byteLimit": 2048000,
      "rowLimit": 10000
     },
     "inputWidgets": {},
     "nuid": "be579581-bc61-4cfd-b983-130af4273dc9",
     "showTitle": false,
     "title": ""
    }
   },
   "outputs": [],
   "source": [
    "# Droping some specified duplicates column from the dataframe and storing it in another df\n",
    "drop_duplicate_manager_df = manager_df.drop_duplicates([\"id\",\"name\",\"sal\",\"mgr_id\"])"
   ]
  },
  {
   "cell_type": "code",
   "execution_count": null,
   "metadata": {
    "application/vnd.databricks.v1+cell": {
     "cellMetadata": {
      "byteLimit": 2048000,
      "rowLimit": 10000
     },
     "inputWidgets": {},
     "nuid": "8e56d8e3-53a6-4bb0-891a-2d97efc45b6b",
     "showTitle": false,
     "title": ""
    }
   },
   "outputs": [
    {
     "name": "stdout",
     "output_type": "stream",
     "text": [
      "+---+------+-----+------+\n",
      "| id|  Name|  sal|mgr_id|\n",
      "+---+------+-----+------+\n",
      "| 10|  Anil|50000|    18|\n",
      "| 12| Nisha|40000|    18|\n",
      "| 11| Vikas|75000|    16|\n",
      "| 13| Nidhi|60000|    17|\n",
      "| 15| Mohit|45000|    18|\n",
      "| 14| Priya|80000|    18|\n",
      "| 16|Rajesh|90000|    10|\n",
      "| 17| Raman|55000|    16|\n",
      "| 18|   Sam|65000|    17|\n",
      "| 14| Priya|90000|    18|\n",
      "+---+------+-----+------+\n",
      "\n"
     ]
    }
   ],
   "source": [
    "drop_duplicate_manager_df.show()"
   ]
  },
  {
   "cell_type": "code",
   "execution_count": null,
   "metadata": {
    "application/vnd.databricks.v1+cell": {
     "cellMetadata": {
      "byteLimit": 2048000,
      "rowLimit": 10000
     },
     "inputWidgets": {},
     "nuid": "e6453ceb-24e4-4e6f-bafe-eff364a8ac01",
     "showTitle": false,
     "title": ""
    }
   },
   "outputs": [
    {
     "name": "stdout",
     "output_type": "stream",
     "text": [
      "+---+------+-----+------+\n",
      "| id|  Name|  sal|mgr_id|\n",
      "+---+------+-----+------+\n",
      "| 12| Nisha|40000|    18|\n",
      "| 15| Mohit|45000|    18|\n",
      "| 15| Mohit|45000|    18|\n",
      "| 10|  Anil|50000|    18|\n",
      "| 17| Raman|55000|    16|\n",
      "| 13| Nidhi|60000|    17|\n",
      "| 13| Nidhi|60000|    17|\n",
      "| 18|   Sam|65000|    17|\n",
      "| 18|   Sam|65000|    17|\n",
      "| 11| Vikas|75000|    16|\n",
      "| 14| Priya|80000|    18|\n",
      "| 14| Priya|90000|    18|\n",
      "| 16|Rajesh|90000|    10|\n",
      "+---+------+-----+------+\n",
      "\n"
     ]
    }
   ],
   "source": [
    "# Sort the record based on specified column\n",
    "from pyspark.sql.functions import * \n",
    "manager_df.sort(col(\"sal\")).show()"
   ]
  },
  {
   "cell_type": "code",
   "execution_count": null,
   "metadata": {
    "application/vnd.databricks.v1+cell": {
     "cellMetadata": {
      "byteLimit": 2048000,
      "rowLimit": 10000
     },
     "inputWidgets": {},
     "nuid": "1fc817b2-4b93-479f-b7f6-4a1510f3450a",
     "showTitle": false,
     "title": ""
    }
   },
   "outputs": [
    {
     "name": "stdout",
     "output_type": "stream",
     "text": [
      "+---+------+-----+------+\n",
      "| id|  Name|  sal|mgr_id|\n",
      "+---+------+-----+------+\n",
      "| 16|Rajesh|90000|    10|\n",
      "| 14| Priya|90000|    18|\n",
      "| 14| Priya|80000|    18|\n",
      "| 11| Vikas|75000|    16|\n",
      "| 18|   Sam|65000|    17|\n",
      "| 18|   Sam|65000|    17|\n",
      "| 13| Nidhi|60000|    17|\n",
      "| 13| Nidhi|60000|    17|\n",
      "| 17| Raman|55000|    16|\n",
      "| 10|  Anil|50000|    18|\n",
      "| 15| Mohit|45000|    18|\n",
      "| 15| Mohit|45000|    18|\n",
      "| 12| Nisha|40000|    18|\n",
      "+---+------+-----+------+\n",
      "\n"
     ]
    }
   ],
   "source": [
    "# Perform sorting operation in descending order on specified column\n",
    "\n",
    "manager_df.sort(col(\"sal\").desc(),col(\"name\").desc()).show()"
   ]
  },
  {
   "cell_type": "code",
   "execution_count": null,
   "metadata": {
    "application/vnd.databricks.v1+cell": {
     "cellMetadata": {
      "byteLimit": 2048000,
      "rowLimit": 10000
     },
     "inputWidgets": {},
     "nuid": "989b5073-d9f8-4eca-9402-f349106c188f",
     "showTitle": false,
     "title": ""
    }
   },
   "outputs": [],
   "source": [
    "#Leet Code problem\n",
    "leet_code_data = [\n",
    "    (1, 'Will', None),\n",
    "    (2, 'Jane', None),\n",
    "    (3, 'Alex', 2),\n",
    "    (4, 'Bill', None),\n",
    "    (5, 'Zack', 1),\n",
    "    (6, 'Mark', 2)\n",
    "]\n",
    "schema_leetcode = ['id','name','referee_id']\n",
    "\n",
    "customer_df = spark.createDataFrame(data = leet_code_data,schema = schema_leetcode)"
   ]
  },
  {
   "cell_type": "code",
   "execution_count": null,
   "metadata": {
    "application/vnd.databricks.v1+cell": {
     "cellMetadata": {
      "byteLimit": 2048000,
      "rowLimit": 10000
     },
     "inputWidgets": {},
     "nuid": "96117fe0-7ff6-43b7-9c5e-fc9f4b39c474",
     "showTitle": false,
     "title": ""
    }
   },
   "outputs": [
    {
     "name": "stdout",
     "output_type": "stream",
     "text": [
      "+---+----+----------+\n",
      "| id|name|referee_id|\n",
      "+---+----+----------+\n",
      "|  1|Will|      null|\n",
      "|  2|Jane|      null|\n",
      "|  3|Alex|         2|\n",
      "|  4|Bill|      null|\n",
      "|  5|Zack|         1|\n",
      "|  6|Mark|         2|\n",
      "+---+----+----------+\n",
      "\n"
     ]
    }
   ],
   "source": [
    "customer_df.show()"
   ]
  },
  {
   "cell_type": "code",
   "execution_count": null,
   "metadata": {
    "application/vnd.databricks.v1+cell": {
     "cellMetadata": {
      "byteLimit": 2048000,
      "rowLimit": 10000
     },
     "inputWidgets": {},
     "nuid": "09a2e375-3c14-4839-8692-137f0b8db92c",
     "showTitle": false,
     "title": ""
    }
   },
   "outputs": [
    {
     "name": "stdout",
     "output_type": "stream",
     "text": [
      "+----+\n",
      "|name|\n",
      "+----+\n",
      "|Will|\n",
      "|Jane|\n",
      "|Bill|\n",
      "|Zack|\n",
      "+----+\n",
      "\n"
     ]
    }
   ],
   "source": [
    "# Find the customer name who are not referred by id 2\n",
    "# Using expr\n",
    "customer_df.where(expr(\"referee_id !=2 or referee_id is null\")).select(\"name\").show()"
   ]
  },
  {
   "cell_type": "code",
   "execution_count": null,
   "metadata": {
    "application/vnd.databricks.v1+cell": {
     "cellMetadata": {
      "byteLimit": 2048000,
      "rowLimit": 10000
     },
     "inputWidgets": {},
     "nuid": "080e6338-3302-4354-a1f4-65a383a20a84",
     "showTitle": false,
     "title": ""
    }
   },
   "outputs": [
    {
     "name": "stdout",
     "output_type": "stream",
     "text": [
      "+----+\n",
      "|name|\n",
      "+----+\n",
      "|Will|\n",
      "|Jane|\n",
      "|Bill|\n",
      "|Zack|\n",
      "+----+\n",
      "\n"
     ]
    }
   ],
   "source": [
    "# using col method and filter method\n",
    "customer_df.filter((col(\"referee_id\") != 2) | (col(\"referee_id\").isNull())).select(\"name\").show()"
   ]
  },
  {
   "cell_type": "code",
   "execution_count": null,
   "metadata": {
    "application/vnd.databricks.v1+cell": {
     "cellMetadata": {
      "byteLimit": 2048000,
      "rowLimit": 10000
     },
     "inputWidgets": {},
     "nuid": "0a3cf46e-75b3-4e6c-8439-aac568791bd5",
     "showTitle": false,
     "title": ""
    }
   },
   "outputs": [
    {
     "name": "stdout",
     "output_type": "stream",
     "text": [
      "+----+\n",
      "|name|\n",
      "+----+\n",
      "|Will|\n",
      "|Jane|\n",
      "|Bill|\n",
      "|Zack|\n",
      "+----+\n",
      "\n"
     ]
    }
   ],
   "source": [
    "customer_df.select(\"name\").filter((col(\"referee_id\")!=2)|(col(\"referee_id\").isNull())).show()"
   ]
  },
  {
   "cell_type": "code",
   "execution_count": null,
   "metadata": {
    "application/vnd.databricks.v1+cell": {
     "cellMetadata": {
      "byteLimit": 2048000,
      "rowLimit": 10000
     },
     "inputWidgets": {},
     "nuid": "e9c50fea-043a-4a66-885f-da46bbfc8549",
     "showTitle": false,
     "title": ""
    }
   },
   "outputs": [
    {
     "name": "stdout",
     "output_type": "stream",
     "text": [
      "+----+\n",
      "|name|\n",
      "+----+\n",
      "|Will|\n",
      "|Jane|\n",
      "|Bill|\n",
      "|Zack|\n",
      "+----+\n",
      "\n"
     ]
    }
   ],
   "source": [
    "# Another approach to solve the above problem\n",
    "customer_df.withColumn(\"referee\",when(col(\"referee_id\").isNull(),\"Yes\")\\\n",
    "                                .otherwise(\"No\")).filter((col(\"referee_id\")!=2)|(col(\"referee\")=='Yes')).select(\"name\").show()"
   ]
  },
  {
   "cell_type": "code",
   "execution_count": null,
   "metadata": {
    "application/vnd.databricks.v1+cell": {
     "cellMetadata": {
      "byteLimit": 2048000,
      "rowLimit": 10000
     },
     "inputWidgets": {},
     "nuid": "227be50e-6ec4-4581-87ab-62a4dba03d00",
     "showTitle": false,
     "title": ""
    }
   },
   "outputs": [
    {
     "name": "stdout",
     "output_type": "stream",
     "text": [
      "+----+\n",
      "|name|\n",
      "+----+\n",
      "|Will|\n",
      "|Jane|\n",
      "|Bill|\n",
      "|Zack|\n",
      "+----+\n",
      "\n"
     ]
    }
   ],
   "source": [
    "# Final approach to solve the above problem\n",
    "customer_df.withColumn(\"referee\",when(col(\"referee_id\").isNull(),0)\\\n",
    "                                .otherwise(col(\"referee_id\"))).filter(col(\"referee\")!=2).select(\"name\").show()"
   ]
  }
 ],
 "metadata": {
  "application/vnd.databricks.v1+notebook": {
   "dashboards": [],
   "language": "python",
   "notebookMetadata": {
    "pythonIndentUnit": 4
   },
   "notebookName": "15.Unique and sorted records",
   "widgets": {}
  },
  "language_info": {
   "name": "python"
  }
 },
 "nbformat": 4,
 "nbformat_minor": 0
}
