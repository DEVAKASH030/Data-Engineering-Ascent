{
 "cells": [
  {
   "cell_type": "markdown",
   "metadata": {
    "application/vnd.databricks.v1+cell": {
     "cellMetadata": {},
     "inputWidgets": {},
     "nuid": "36304a87-f2db-4297-82b0-610abdfb6bf2",
     "showTitle": false,
     "title": ""
    }
   },
   "source": [
    "Potential Interview Questions\n",
    "-----------------------------\n",
    "1. What are the modes available in dataframe writer\n",
    "2. What is partitionBy and bucketBy?\n",
    "3. How to write data in multiple partition ?"
   ]
  },
  {
   "cell_type": "markdown",
   "metadata": {
    "application/vnd.databricks.v1+cell": {
     "cellMetadata": {},
     "inputWidgets": {},
     "nuid": "d7f0f7fb-cf4a-4a46-a55b-406728ab976c",
     "showTitle": false,
     "title": ""
    }
   },
   "source": [
    "#####Dataframe writer API general structure\n",
    "```\n",
    "DataFrameWriter.format()\\\n",
    "               .option()\\\n",
    "               .partitionBy()\\\n",
    "               .bucketBy()\\\n",
    "               .save()\n",
    "```\n",
    "\n",
    "> Note: We can pass path of the destination location inside save() or else we can pass it through option(\"path\",\"_____\")\n",
    "\n",
    "#####There are four different modes in DataFrame Writer:\n",
    "\n",
    "Overwrite: This mode will overwrite the existing data in the target table.\n",
    "\n",
    "Append: This mode will append the new data to the existing data in the target table.\n",
    "\n",
    "Ignore: This mode will ignore the operation if the target table already exists.\n",
    "\n",
    "ErrorIfExists: This mode will throw an exception if the target table already exists."
   ]
  },
  {
   "cell_type": "code",
   "execution_count": null,
   "metadata": {
    "application/vnd.databricks.v1+cell": {
     "cellMetadata": {
      "byteLimit": 2048000,
      "rowLimit": 10000
     },
     "inputWidgets": {},
     "nuid": "d6f15d04-ce5d-4931-8f30-265224f92583",
     "showTitle": false,
     "title": ""
    }
   },
   "outputs": [],
   "source": [
    "df = spark.read.format(\"csv\")\\\n",
    "                      .option(\"header\",\"true\")\\\n",
    "                      .option(\"inferSchema\",\"true\")\\\n",
    "                      .option(\"mode\",\"PERMISSIVE\")\\\n",
    "                      .load('/FileStore/tables/emp_write.csv')"
   ]
  },
  {
   "cell_type": "code",
   "execution_count": null,
   "metadata": {
    "application/vnd.databricks.v1+cell": {
     "cellMetadata": {
      "byteLimit": 2048000,
      "rowLimit": 10000
     },
     "inputWidgets": {},
     "nuid": "a50d6c39-afbe-49f0-a186-d42bae74856b",
     "showTitle": false,
     "title": ""
    }
   },
   "outputs": [
    {
     "name": "stdout",
     "output_type": "stream",
     "text": [
      "+---+--------+---+------+-------+------+\n",
      "| id|    name|age|salary|address|gender|\n",
      "+---+--------+---+------+-------+------+\n",
      "|  1|  Manish| 26| 75000|  INDIA|     m|\n",
      "|  2|  Nikita| 23|100000|    USA|     f|\n",
      "|  3|  Pritam| 22|150000|  INDIA|     m|\n",
      "|  4|Prantosh| 17|200000|  JAPAN|     m|\n",
      "|  5|  Vikash| 31|300000|    USA|     m|\n",
      "|  6|   Rahul| 55|300000|  INDIA|     m|\n",
      "|  7|    Raju| 67|540000|    USA|     m|\n",
      "|  8| Praveen| 28| 70000|  JAPAN|     m|\n",
      "|  9|     Dev| 32|150000|  JAPAN|     m|\n",
      "| 10|  Sherin| 16| 25000| RUSSIA|     f|\n",
      "| 11|    Ragu| 12| 35000|  INDIA|     f|\n",
      "| 12|   Sweta| 43|200000|  INDIA|     f|\n",
      "| 13| Raushan| 48|650000|    USA|     m|\n",
      "| 14|  Mukesh| 36| 95000| RUSSIA|     m|\n",
      "| 15| Prakash| 52|750000|  INDIA|     m|\n",
      "+---+--------+---+------+-------+------+\n",
      "\n"
     ]
    }
   ],
   "source": [
    "df.show()"
   ]
  },
  {
   "cell_type": "code",
   "execution_count": null,
   "metadata": {
    "application/vnd.databricks.v1+cell": {
     "cellMetadata": {
      "byteLimit": 2048000,
      "rowLimit": 10000
     },
     "inputWidgets": {},
     "nuid": "458e8d47-42fe-436c-9d1b-4f3116a4e5a9",
     "showTitle": false,
     "title": ""
    }
   },
   "outputs": [],
   "source": [
    "df.write.format(\"csv\")\\\n",
    "        .option(\"header\",\"true\")\\\n",
    "        .mode('overwrite')\\\n",
    "        .option(\"path\",'/FileStore/tables/csv_write/')\\\n",
    "        .save()"
   ]
  },
  {
   "cell_type": "code",
   "execution_count": null,
   "metadata": {
    "application/vnd.databricks.v1+cell": {
     "cellMetadata": {
      "byteLimit": 2048000,
      "rowLimit": 10000
     },
     "inputWidgets": {},
     "nuid": "702fe3e8-d019-4fd9-9b53-76dc038d1752",
     "showTitle": false,
     "title": ""
    }
   },
   "outputs": [
    {
     "name": "stdout",
     "output_type": "stream",
     "text": [
      "+-------+\n",
      "|address|\n",
      "+-------+\n",
      "|  INDIA|\n",
      "|    USA|\n",
      "|  INDIA|\n",
      "|  JAPAN|\n",
      "|    USA|\n",
      "|  INDIA|\n",
      "|    USA|\n",
      "|  JAPAN|\n",
      "|  JAPAN|\n",
      "| RUSSIA|\n",
      "|  INDIA|\n",
      "|  INDIA|\n",
      "|    USA|\n",
      "| RUSSIA|\n",
      "|  INDIA|\n",
      "+-------+\n",
      "\n"
     ]
    }
   ],
   "source": [
    "df.select(\"address\").show()"
   ]
  },
  {
   "cell_type": "code",
   "execution_count": null,
   "metadata": {
    "application/vnd.databricks.v1+cell": {
     "cellMetadata": {
      "byteLimit": 2048000,
      "rowLimit": 10000
     },
     "inputWidgets": {},
     "nuid": "58496ac6-3173-448b-842b-2ca445e0f590",
     "showTitle": false,
     "title": ""
    }
   },
   "outputs": [
    {
     "data": {
      "text/html": [
       "<style scoped>\n",
       "  .table-result-container {\n",
       "    max-height: 300px;\n",
       "    overflow: auto;\n",
       "  }\n",
       "  table, th, td {\n",
       "    border: 1px solid black;\n",
       "    border-collapse: collapse;\n",
       "  }\n",
       "  th, td {\n",
       "    padding: 5px;\n",
       "  }\n",
       "  th {\n",
       "    text-align: left;\n",
       "  }\n",
       "</style><div class='table-result-container'><table class='table-result'><thead style='background-color: white'><tr><th>path</th><th>name</th><th>size</th><th>modificationTime</th></tr></thead><tbody><tr><td>dbfs:/FileStore/tables/csv_write/_SUCCESS</td><td>_SUCCESS</td><td>0</td><td>1703858632000</td></tr><tr><td>dbfs:/FileStore/tables/csv_write/_committed_2686391652561770542</td><td>_committed_2686391652561770542</td><td>209</td><td>1703858631000</td></tr><tr><td>dbfs:/FileStore/tables/csv_write/_committed_4459680369554580258</td><td>_committed_4459680369554580258</td><td>112</td><td>1703239805000</td></tr><tr><td>dbfs:/FileStore/tables/csv_write/_committed_vacuum1802088241501712716</td><td>_committed_vacuum1802088241501712716</td><td>96</td><td>1703858632000</td></tr><tr><td>dbfs:/FileStore/tables/csv_write/_started_2686391652561770542</td><td>_started_2686391652561770542</td><td>0</td><td>1703858630000</td></tr><tr><td>dbfs:/FileStore/tables/csv_write/part-00000-tid-2686391652561770542-9fa2338b-6215-471f-9af9-1d4dd2df0507-3-1-c000.csv</td><td>part-00000-tid-2686391652561770542-9fa2338b-6215-471f-9af9-1d4dd2df0507-3-1-c000.csv</td><td>430</td><td>1703858631000</td></tr></tbody></table></div>"
      ]
     },
     "metadata": {
      "application/vnd.databricks.v1+output": {
       "addedWidgets": {},
       "aggData": [],
       "aggError": "",
       "aggOverflow": false,
       "aggSchema": [],
       "aggSeriesLimitReached": false,
       "aggType": "",
       "arguments": {},
       "columnCustomDisplayInfos": {},
       "data": [
        [
         "dbfs:/FileStore/tables/csv_write/_SUCCESS",
         "_SUCCESS",
         0,
         1703858632000
        ],
        [
         "dbfs:/FileStore/tables/csv_write/_committed_2686391652561770542",
         "_committed_2686391652561770542",
         209,
         1703858631000
        ],
        [
         "dbfs:/FileStore/tables/csv_write/_committed_4459680369554580258",
         "_committed_4459680369554580258",
         112,
         1703239805000
        ],
        [
         "dbfs:/FileStore/tables/csv_write/_committed_vacuum1802088241501712716",
         "_committed_vacuum1802088241501712716",
         96,
         1703858632000
        ],
        [
         "dbfs:/FileStore/tables/csv_write/_started_2686391652561770542",
         "_started_2686391652561770542",
         0,
         1703858630000
        ],
        [
         "dbfs:/FileStore/tables/csv_write/part-00000-tid-2686391652561770542-9fa2338b-6215-471f-9af9-1d4dd2df0507-3-1-c000.csv",
         "part-00000-tid-2686391652561770542-9fa2338b-6215-471f-9af9-1d4dd2df0507-3-1-c000.csv",
         430,
         1703858631000
        ]
       ],
       "datasetInfos": [],
       "dbfsResultPath": null,
       "isJsonSchema": true,
       "metadata": {},
       "overflow": false,
       "plotOptions": {
        "customPlotOptions": {},
        "displayType": "table",
        "pivotAggregation": null,
        "pivotColumns": null,
        "xColumns": null,
        "yColumns": null
       },
       "removedWidgets": [],
       "schema": [
        {
         "metadata": "{}",
         "name": "path",
         "type": "\"string\""
        },
        {
         "metadata": "{}",
         "name": "name",
         "type": "\"string\""
        },
        {
         "metadata": "{}",
         "name": "size",
         "type": "\"long\""
        },
        {
         "metadata": "{}",
         "name": "modificationTime",
         "type": "\"long\""
        }
       ],
       "type": "table"
      }
     },
     "output_type": "display_data"
    }
   ],
   "source": [
    "display(dbutils.fs.ls('/FileStore/tables/csv_write/'))"
   ]
  },
  {
   "cell_type": "code",
   "execution_count": null,
   "metadata": {
    "application/vnd.databricks.v1+cell": {
     "cellMetadata": {
      "byteLimit": 2048000,
      "rowLimit": 10000
     },
     "inputWidgets": {},
     "nuid": "1b672bd6-a00f-47f3-8d06-1f872bff5b2f",
     "showTitle": false,
     "title": ""
    }
   },
   "outputs": [],
   "source": [
    "df.repartition(3).write.format(\"csv\")\\\n",
    "        .option(\"header\",\"true\")\\\n",
    "        .mode('overwrite')\\\n",
    "        .option(\"path\",'/FileStore/tables/csv_write_repartition/')\\\n",
    "        .save()"
   ]
  },
  {
   "cell_type": "code",
   "execution_count": null,
   "metadata": {
    "application/vnd.databricks.v1+cell": {
     "cellMetadata": {
      "byteLimit": 2048000,
      "rowLimit": 10000
     },
     "inputWidgets": {},
     "nuid": "24216dcd-29ba-4e98-a34d-accdbec85e0e",
     "showTitle": false,
     "title": ""
    }
   },
   "outputs": [
    {
     "data": {
      "text/html": [
       "<style scoped>\n",
       "  .table-result-container {\n",
       "    max-height: 300px;\n",
       "    overflow: auto;\n",
       "  }\n",
       "  table, th, td {\n",
       "    border: 1px solid black;\n",
       "    border-collapse: collapse;\n",
       "  }\n",
       "  th, td {\n",
       "    padding: 5px;\n",
       "  }\n",
       "  th {\n",
       "    text-align: left;\n",
       "  }\n",
       "</style><div class='table-result-container'><table class='table-result'><thead style='background-color: white'><tr><th>path</th><th>name</th><th>size</th><th>modificationTime</th></tr></thead><tbody><tr><td>dbfs:/FileStore/tables/csv_write_repartition/_SUCCESS</td><td>_SUCCESS</td><td>0</td><td>1703858713000</td></tr><tr><td>dbfs:/FileStore/tables/csv_write_repartition/_committed_5786244782490213400</td><td>_committed_5786244782490213400</td><td>288</td><td>1703239996000</td></tr><tr><td>dbfs:/FileStore/tables/csv_write_repartition/_committed_8942736472736517808</td><td>_committed_8942736472736517808</td><td>562</td><td>1703858713000</td></tr><tr><td>dbfs:/FileStore/tables/csv_write_repartition/_committed_vacuum4897074785973260677</td><td>_committed_vacuum4897074785973260677</td><td>96</td><td>1703858714000</td></tr><tr><td>dbfs:/FileStore/tables/csv_write_repartition/_started_8942736472736517808</td><td>_started_8942736472736517808</td><td>0</td><td>1703858712000</td></tr><tr><td>dbfs:/FileStore/tables/csv_write_repartition/part-00000-tid-8942736472736517808-10e55d88-0b6b-422a-bc45-6719cac6e308-14-1-c000.csv</td><td>part-00000-tid-8942736472736517808-10e55d88-0b6b-422a-bc45-6719cac6e308-14-1-c000.csv</td><td>167</td><td>1703858713000</td></tr><tr><td>dbfs:/FileStore/tables/csv_write_repartition/part-00001-tid-8942736472736517808-10e55d88-0b6b-422a-bc45-6719cac6e308-15-1-c000.csv</td><td>part-00001-tid-8942736472736517808-10e55d88-0b6b-422a-bc45-6719cac6e308-15-1-c000.csv</td><td>162</td><td>1703858713000</td></tr><tr><td>dbfs:/FileStore/tables/csv_write_repartition/part-00002-tid-8942736472736517808-10e55d88-0b6b-422a-bc45-6719cac6e308-16-1-c000.csv</td><td>part-00002-tid-8942736472736517808-10e55d88-0b6b-422a-bc45-6719cac6e308-16-1-c000.csv</td><td>169</td><td>1703858713000</td></tr></tbody></table></div>"
      ]
     },
     "metadata": {
      "application/vnd.databricks.v1+output": {
       "addedWidgets": {},
       "aggData": [],
       "aggError": "",
       "aggOverflow": false,
       "aggSchema": [],
       "aggSeriesLimitReached": false,
       "aggType": "",
       "arguments": {},
       "columnCustomDisplayInfos": {},
       "data": [
        [
         "dbfs:/FileStore/tables/csv_write_repartition/_SUCCESS",
         "_SUCCESS",
         0,
         1703858713000
        ],
        [
         "dbfs:/FileStore/tables/csv_write_repartition/_committed_5786244782490213400",
         "_committed_5786244782490213400",
         288,
         1703239996000
        ],
        [
         "dbfs:/FileStore/tables/csv_write_repartition/_committed_8942736472736517808",
         "_committed_8942736472736517808",
         562,
         1703858713000
        ],
        [
         "dbfs:/FileStore/tables/csv_write_repartition/_committed_vacuum4897074785973260677",
         "_committed_vacuum4897074785973260677",
         96,
         1703858714000
        ],
        [
         "dbfs:/FileStore/tables/csv_write_repartition/_started_8942736472736517808",
         "_started_8942736472736517808",
         0,
         1703858712000
        ],
        [
         "dbfs:/FileStore/tables/csv_write_repartition/part-00000-tid-8942736472736517808-10e55d88-0b6b-422a-bc45-6719cac6e308-14-1-c000.csv",
         "part-00000-tid-8942736472736517808-10e55d88-0b6b-422a-bc45-6719cac6e308-14-1-c000.csv",
         167,
         1703858713000
        ],
        [
         "dbfs:/FileStore/tables/csv_write_repartition/part-00001-tid-8942736472736517808-10e55d88-0b6b-422a-bc45-6719cac6e308-15-1-c000.csv",
         "part-00001-tid-8942736472736517808-10e55d88-0b6b-422a-bc45-6719cac6e308-15-1-c000.csv",
         162,
         1703858713000
        ],
        [
         "dbfs:/FileStore/tables/csv_write_repartition/part-00002-tid-8942736472736517808-10e55d88-0b6b-422a-bc45-6719cac6e308-16-1-c000.csv",
         "part-00002-tid-8942736472736517808-10e55d88-0b6b-422a-bc45-6719cac6e308-16-1-c000.csv",
         169,
         1703858713000
        ]
       ],
       "datasetInfos": [],
       "dbfsResultPath": null,
       "isJsonSchema": true,
       "metadata": {},
       "overflow": false,
       "plotOptions": {
        "customPlotOptions": {},
        "displayType": "table",
        "pivotAggregation": null,
        "pivotColumns": null,
        "xColumns": null,
        "yColumns": null
       },
       "removedWidgets": [],
       "schema": [
        {
         "metadata": "{}",
         "name": "path",
         "type": "\"string\""
        },
        {
         "metadata": "{}",
         "name": "name",
         "type": "\"string\""
        },
        {
         "metadata": "{}",
         "name": "size",
         "type": "\"long\""
        },
        {
         "metadata": "{}",
         "name": "modificationTime",
         "type": "\"long\""
        }
       ],
       "type": "table"
      }
     },
     "output_type": "display_data"
    }
   ],
   "source": [
    "display(dbutils.fs.ls('/FileStore/tables/csv_write_repartition/'))"
   ]
  }
 ],
 "metadata": {
  "application/vnd.databricks.v1+notebook": {
   "dashboards": [],
   "language": "python",
   "notebookMetadata": {
    "pythonIndentUnit": 4
   },
   "notebookName": "08. How to write dataframe to disk in spark",
   "widgets": {}
  },
  "language_info": {
   "name": "python"
  }
 },
 "nbformat": 4,
 "nbformat_minor": 0
}
