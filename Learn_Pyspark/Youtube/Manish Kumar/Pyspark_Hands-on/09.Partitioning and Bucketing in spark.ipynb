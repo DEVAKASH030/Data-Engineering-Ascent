{
 "cells": [
  {
   "cell_type": "markdown",
   "metadata": {
    "application/vnd.databricks.v1+cell": {
     "cellMetadata": {},
     "inputWidgets": {},
     "nuid": "5e8ec1c8-e80e-4b3f-94c6-192ef3cd19e6",
     "showTitle": false,
     "title": ""
    }
   },
   "source": [
    "Potential Interview Questions\n",
    "-----------------------------\n",
    "1. What is partitioning in spark?\n",
    "2. What is bucketing in spark?\n",
    "3. Why do we need these two?\n",
    "4. When to use partitioning?\n",
    "5. When to use bucketing?"
   ]
  },
  {
   "cell_type": "code",
   "execution_count": 0,
   "metadata": {
    "application/vnd.databricks.v1+cell": {
     "cellMetadata": {
      "byteLimit": 2048000,
      "rowLimit": 10000
     },
     "inputWidgets": {},
     "nuid": "7e903de4-60b3-4674-bf61-6c25ce309bb9",
     "showTitle": false,
     "title": ""
    }
   },
   "outputs": [],
   "source": [
    "df = spark.read.format(\"csv\")\\\n",
    "                      .option(\"header\",\"true\")\\\n",
    "                      .option(\"inferSchema\",\"true\")\\\n",
    "                      .option(\"mode\",\"PERMISSIVE\")\\\n",
    "                      .load('/FileStore/tables/emp_write.csv')"
   ]
  },
  {
   "cell_type": "code",
   "execution_count": 0,
   "metadata": {
    "application/vnd.databricks.v1+cell": {
     "cellMetadata": {
      "byteLimit": 2048000,
      "rowLimit": 10000
     },
     "inputWidgets": {},
     "nuid": "1e673661-200d-4567-bf4b-fa69910f03e4",
     "showTitle": false,
     "title": ""
    }
   },
   "outputs": [
    {
     "output_type": "stream",
     "name": "stdout",
     "output_type": "stream",
     "text": [
      "+---+--------+---+------+-------+------+\n|id |name    |age|salary|address|gender|\n+---+--------+---+------+-------+------+\n|1  |Manish  |26 |75000 |INDIA  |m     |\n|2  |Nikita  |23 |100000|USA    |f     |\n|3  |Pritam  |22 |150000|INDIA  |m     |\n|4  |Prantosh|17 |200000|JAPAN  |m     |\n|5  |Vikash  |31 |300000|USA    |m     |\n|6  |Rahul   |55 |300000|INDIA  |m     |\n|7  |Raju    |67 |540000|USA    |m     |\n|8  |Praveen |28 |70000 |JAPAN  |m     |\n|9  |Dev     |32 |150000|JAPAN  |m     |\n|10 |Sherin  |16 |25000 |RUSSIA |f     |\n|11 |Ragu    |12 |35000 |INDIA  |f     |\n|12 |Sweta   |43 |200000|INDIA  |f     |\n|13 |Raushan |48 |650000|USA    |m     |\n|14 |Mukesh  |36 |95000 |RUSSIA |m     |\n|15 |Prakash |52 |750000|INDIA  |m     |\n+---+--------+---+------+-------+------+\n\n"
     ]
    }
   ],
   "source": [
    "df.show(truncate=False)"
   ]
  },
  {
   "cell_type": "code",
   "execution_count": 0,
   "metadata": {
    "application/vnd.databricks.v1+cell": {
     "cellMetadata": {
      "byteLimit": 2048000,
      "rowLimit": 10000
     },
     "inputWidgets": {},
     "nuid": "7a221189-0ad7-4df4-b104-a2530b7ec6f0",
     "showTitle": false,
     "title": ""
    }
   },
   "outputs": [],
   "source": [
    "df.write.format(\"csv\")\\\n",
    "        .option(\"header\",\"true\")\\\n",
    "        .option(\"mode\",\"overwrite\")\\\n",
    "        .partitionBy(\"address\")\\\n",
    "        .save('/FileStore/tables/partition_by_address')"
   ]
  },
  {
   "cell_type": "code",
   "execution_count": 0,
   "metadata": {
    "application/vnd.databricks.v1+cell": {
     "cellMetadata": {},
     "inputWidgets": {},
     "nuid": "a66ea51e-e974-4208-96a9-1f488a8eca00",
     "showTitle": false,
     "title": ""
    }
   },
   "outputs": [],
   "source": [
    "# How to delete a file in dbfs\n",
    "dbutils.fs.rm('file_path')"
   ]
  },
  {
   "cell_type": "code",
   "execution_count": 0,
   "metadata": {
    "application/vnd.databricks.v1+cell": {
     "cellMetadata": {
      "byteLimit": 2048000,
      "rowLimit": 10000
     },
     "inputWidgets": {},
     "nuid": "1491faa4-7b57-48cf-bfc8-cf557ad76817",
     "showTitle": false,
     "title": ""
    }
   },
   "outputs": [
    {
     "output_type": "display_data",
     "data": {
      "text/html": [
       "<style scoped>\n",
       "  .ansiout {\n",
       "    display: block;\n",
       "    unicode-bidi: embed;\n",
       "    white-space: pre-wrap;\n",
       "    word-wrap: break-word;\n",
       "    word-break: break-all;\n",
       "    font-family: \"Menlo\", \"Monaco\", \"Consolas\", \"Ubuntu Mono\", \"Source Code Pro\", monospace;\n",
       "    font-size: 13px;\n",
       "    color: #555;\n",
       "    margin-left: 4px;\n",
       "    line-height: 19px;\n",
       "  }\n",
       "</style>\n",
       "<div class=\"ansiout\">res1: Boolean = true\n",
       "</div>"
      ]
     },
     "metadata": {
      "application/vnd.databricks.v1+output": {
       "addedWidgets": {},
       "arguments": {},
       "data": "<div class=\"ansiout\">res1: Boolean = true\n</div>",
       "datasetInfos": [],
       "metadata": {
        "isDbfsCommandResult": false
       },
       "removedWidgets": [],
       "type": "html"
      }
     },
     "output_type": "display_data"
    }
   ],
   "source": [
    "# How to delete a folder in dbfs\n",
    "%fs rm -r '/FileStore/tables/partition_by_csv'"
   ]
  },
  {
   "cell_type": "code",
   "execution_count": 0,
   "metadata": {
    "application/vnd.databricks.v1+cell": {
     "cellMetadata": {
      "byteLimit": 2048000,
      "rowLimit": 10000
     },
     "inputWidgets": {},
     "nuid": "aef4616f-c44e-4723-923d-970a6579c370",
     "showTitle": false,
     "title": ""
    }
   },
   "outputs": [
    {
     "output_type": "display_data",
     "data": {
      "text/html": [
       "<style scoped>\n",
       "  .table-result-container {\n",
       "    max-height: 300px;\n",
       "    overflow: auto;\n",
       "  }\n",
       "  table, th, td {\n",
       "    border: 1px solid black;\n",
       "    border-collapse: collapse;\n",
       "  }\n",
       "  th, td {\n",
       "    padding: 5px;\n",
       "  }\n",
       "  th {\n",
       "    text-align: left;\n",
       "  }\n",
       "</style><div class='table-result-container'><table class='table-result'><thead style='background-color: white'><tr><th>path</th><th>name</th><th>size</th><th>modificationTime</th></tr></thead><tbody><tr><td>dbfs:/FileStore/tables/partition_by_address/_SUCCESS</td><td>_SUCCESS</td><td>0</td><td>1703243842000</td></tr><tr><td>dbfs:/FileStore/tables/partition_by_address/address=INDIA/</td><td>address=INDIA/</td><td>0</td><td>0</td></tr><tr><td>dbfs:/FileStore/tables/partition_by_address/address=JAPAN/</td><td>address=JAPAN/</td><td>0</td><td>0</td></tr><tr><td>dbfs:/FileStore/tables/partition_by_address/address=RUSSIA/</td><td>address=RUSSIA/</td><td>0</td><td>0</td></tr><tr><td>dbfs:/FileStore/tables/partition_by_address/address=USA/</td><td>address=USA/</td><td>0</td><td>0</td></tr></tbody></table></div>"
      ]
     },
     "metadata": {
      "application/vnd.databricks.v1+output": {
       "addedWidgets": {},
       "aggData": [],
       "aggError": "",
       "aggOverflow": false,
       "aggSchema": [],
       "aggSeriesLimitReached": false,
       "aggType": "",
       "arguments": {},
       "columnCustomDisplayInfos": {},
       "data": [
        [
         "dbfs:/FileStore/tables/partition_by_address/_SUCCESS",
         "_SUCCESS",
         0,
         1703243842000
        ],
        [
         "dbfs:/FileStore/tables/partition_by_address/address=INDIA/",
         "address=INDIA/",
         0,
         0
        ],
        [
         "dbfs:/FileStore/tables/partition_by_address/address=JAPAN/",
         "address=JAPAN/",
         0,
         0
        ],
        [
         "dbfs:/FileStore/tables/partition_by_address/address=RUSSIA/",
         "address=RUSSIA/",
         0,
         0
        ],
        [
         "dbfs:/FileStore/tables/partition_by_address/address=USA/",
         "address=USA/",
         0,
         0
        ]
       ],
       "datasetInfos": [],
       "dbfsResultPath": null,
       "isJsonSchema": true,
       "metadata": {},
       "overflow": false,
       "plotOptions": {
        "customPlotOptions": {},
        "displayType": "table",
        "pivotAggregation": null,
        "pivotColumns": null,
        "xColumns": null,
        "yColumns": null
       },
       "removedWidgets": [],
       "schema": [
        {
         "metadata": "{}",
         "name": "path",
         "type": "\"string\""
        },
        {
         "metadata": "{}",
         "name": "name",
         "type": "\"string\""
        },
        {
         "metadata": "{}",
         "name": "size",
         "type": "\"long\""
        },
        {
         "metadata": "{}",
         "name": "modificationTime",
         "type": "\"long\""
        }
       ],
       "type": "table"
      }
     },
     "output_type": "display_data"
    }
   ],
   "source": [
    "display(dbutils.fs.ls('/FileStore/tables/partition_by_address'))"
   ]
  },
  {
   "cell_type": "code",
   "execution_count": 0,
   "metadata": {
    "application/vnd.databricks.v1+cell": {
     "cellMetadata": {
      "byteLimit": 2048000,
      "rowLimit": 10000
     },
     "inputWidgets": {},
     "nuid": "47c01a3c-8408-4708-877d-966948306631",
     "showTitle": false,
     "title": ""
    }
   },
   "outputs": [],
   "source": [
    "df.write.format(\"csv\")\\\n",
    "        .option(\"header\",\"true\")\\\n",
    "        .option(\"mode\",\"overwrite\")\\\n",
    "        .partitionBy(\"id\")\\\n",
    "        .save('/FileStore/tables/partition_by_id')"
   ]
  },
  {
   "cell_type": "code",
   "execution_count": 0,
   "metadata": {
    "application/vnd.databricks.v1+cell": {
     "cellMetadata": {
      "byteLimit": 2048000,
      "rowLimit": 10000
     },
     "inputWidgets": {},
     "nuid": "bf8d333f-177b-4ee3-a531-f2acdcbb3c7f",
     "showTitle": false,
     "title": ""
    }
   },
   "outputs": [
    {
     "output_type": "display_data",
     "data": {
      "text/html": [
       "<style scoped>\n",
       "  .table-result-container {\n",
       "    max-height: 300px;\n",
       "    overflow: auto;\n",
       "  }\n",
       "  table, th, td {\n",
       "    border: 1px solid black;\n",
       "    border-collapse: collapse;\n",
       "  }\n",
       "  th, td {\n",
       "    padding: 5px;\n",
       "  }\n",
       "  th {\n",
       "    text-align: left;\n",
       "  }\n",
       "</style><div class='table-result-container'><table class='table-result'><thead style='background-color: white'><tr><th>path</th><th>name</th><th>size</th><th>modificationTime</th></tr></thead><tbody><tr><td>dbfs:/FileStore/tables/partition_by_id/_SUCCESS</td><td>_SUCCESS</td><td>0</td><td>1703243914000</td></tr><tr><td>dbfs:/FileStore/tables/partition_by_id/id=1/</td><td>id=1/</td><td>0</td><td>0</td></tr><tr><td>dbfs:/FileStore/tables/partition_by_id/id=10/</td><td>id=10/</td><td>0</td><td>0</td></tr><tr><td>dbfs:/FileStore/tables/partition_by_id/id=11/</td><td>id=11/</td><td>0</td><td>0</td></tr><tr><td>dbfs:/FileStore/tables/partition_by_id/id=12/</td><td>id=12/</td><td>0</td><td>0</td></tr><tr><td>dbfs:/FileStore/tables/partition_by_id/id=13/</td><td>id=13/</td><td>0</td><td>0</td></tr><tr><td>dbfs:/FileStore/tables/partition_by_id/id=14/</td><td>id=14/</td><td>0</td><td>0</td></tr><tr><td>dbfs:/FileStore/tables/partition_by_id/id=15/</td><td>id=15/</td><td>0</td><td>0</td></tr><tr><td>dbfs:/FileStore/tables/partition_by_id/id=2/</td><td>id=2/</td><td>0</td><td>0</td></tr><tr><td>dbfs:/FileStore/tables/partition_by_id/id=3/</td><td>id=3/</td><td>0</td><td>0</td></tr><tr><td>dbfs:/FileStore/tables/partition_by_id/id=4/</td><td>id=4/</td><td>0</td><td>0</td></tr><tr><td>dbfs:/FileStore/tables/partition_by_id/id=5/</td><td>id=5/</td><td>0</td><td>0</td></tr><tr><td>dbfs:/FileStore/tables/partition_by_id/id=6/</td><td>id=6/</td><td>0</td><td>0</td></tr><tr><td>dbfs:/FileStore/tables/partition_by_id/id=7/</td><td>id=7/</td><td>0</td><td>0</td></tr><tr><td>dbfs:/FileStore/tables/partition_by_id/id=8/</td><td>id=8/</td><td>0</td><td>0</td></tr><tr><td>dbfs:/FileStore/tables/partition_by_id/id=9/</td><td>id=9/</td><td>0</td><td>0</td></tr></tbody></table></div>"
      ]
     },
     "metadata": {
      "application/vnd.databricks.v1+output": {
       "addedWidgets": {},
       "aggData": [],
       "aggError": "",
       "aggOverflow": false,
       "aggSchema": [],
       "aggSeriesLimitReached": false,
       "aggType": "",
       "arguments": {},
       "columnCustomDisplayInfos": {},
       "data": [
        [
         "dbfs:/FileStore/tables/partition_by_id/_SUCCESS",
         "_SUCCESS",
         0,
         1703243914000
        ],
        [
         "dbfs:/FileStore/tables/partition_by_id/id=1/",
         "id=1/",
         0,
         0
        ],
        [
         "dbfs:/FileStore/tables/partition_by_id/id=10/",
         "id=10/",
         0,
         0
        ],
        [
         "dbfs:/FileStore/tables/partition_by_id/id=11/",
         "id=11/",
         0,
         0
        ],
        [
         "dbfs:/FileStore/tables/partition_by_id/id=12/",
         "id=12/",
         0,
         0
        ],
        [
         "dbfs:/FileStore/tables/partition_by_id/id=13/",
         "id=13/",
         0,
         0
        ],
        [
         "dbfs:/FileStore/tables/partition_by_id/id=14/",
         "id=14/",
         0,
         0
        ],
        [
         "dbfs:/FileStore/tables/partition_by_id/id=15/",
         "id=15/",
         0,
         0
        ],
        [
         "dbfs:/FileStore/tables/partition_by_id/id=2/",
         "id=2/",
         0,
         0
        ],
        [
         "dbfs:/FileStore/tables/partition_by_id/id=3/",
         "id=3/",
         0,
         0
        ],
        [
         "dbfs:/FileStore/tables/partition_by_id/id=4/",
         "id=4/",
         0,
         0
        ],
        [
         "dbfs:/FileStore/tables/partition_by_id/id=5/",
         "id=5/",
         0,
         0
        ],
        [
         "dbfs:/FileStore/tables/partition_by_id/id=6/",
         "id=6/",
         0,
         0
        ],
        [
         "dbfs:/FileStore/tables/partition_by_id/id=7/",
         "id=7/",
         0,
         0
        ],
        [
         "dbfs:/FileStore/tables/partition_by_id/id=8/",
         "id=8/",
         0,
         0
        ],
        [
         "dbfs:/FileStore/tables/partition_by_id/id=9/",
         "id=9/",
         0,
         0
        ]
       ],
       "datasetInfos": [],
       "dbfsResultPath": null,
       "isJsonSchema": true,
       "metadata": {},
       "overflow": false,
       "plotOptions": {
        "customPlotOptions": {},
        "displayType": "table",
        "pivotAggregation": null,
        "pivotColumns": null,
        "xColumns": null,
        "yColumns": null
       },
       "removedWidgets": [],
       "schema": [
        {
         "metadata": "{}",
         "name": "path",
         "type": "\"string\""
        },
        {
         "metadata": "{}",
         "name": "name",
         "type": "\"string\""
        },
        {
         "metadata": "{}",
         "name": "size",
         "type": "\"long\""
        },
        {
         "metadata": "{}",
         "name": "modificationTime",
         "type": "\"long\""
        }
       ],
       "type": "table"
      }
     },
     "output_type": "display_data"
    }
   ],
   "source": [
    "display(dbutils.fs.ls('/FileStore/tables/partition_by_id'))"
   ]
  },
  {
   "cell_type": "code",
   "execution_count": 0,
   "metadata": {
    "application/vnd.databricks.v1+cell": {
     "cellMetadata": {
      "byteLimit": 2048000,
      "rowLimit": 10000
     },
     "inputWidgets": {},
     "nuid": "e3232eac-51a2-4c31-9a90-7f57897e951d",
     "showTitle": false,
     "title": ""
    }
   },
   "outputs": [],
   "source": [
    "df.write.format(\"csv\")\\\n",
    "        .option(\"header\",\"true\")\\\n",
    "        .option(\"mode\",\"overwrite\")\\\n",
    "        .partitionBy(\"address\",\"gender\")\\\n",
    "        .save('/FileStore/tables/partition_by_address_gender')"
   ]
  },
  {
   "cell_type": "code",
   "execution_count": 0,
   "metadata": {
    "application/vnd.databricks.v1+cell": {
     "cellMetadata": {
      "byteLimit": 2048000,
      "rowLimit": 10000
     },
     "inputWidgets": {},
     "nuid": "6eedf86b-a121-42e0-a9ff-6f11c47da3b1",
     "showTitle": false,
     "title": ""
    }
   },
   "outputs": [
    {
     "output_type": "display_data",
     "data": {
      "text/html": [
       "<style scoped>\n",
       "  .table-result-container {\n",
       "    max-height: 300px;\n",
       "    overflow: auto;\n",
       "  }\n",
       "  table, th, td {\n",
       "    border: 1px solid black;\n",
       "    border-collapse: collapse;\n",
       "  }\n",
       "  th, td {\n",
       "    padding: 5px;\n",
       "  }\n",
       "  th {\n",
       "    text-align: left;\n",
       "  }\n",
       "</style><div class='table-result-container'><table class='table-result'><thead style='background-color: white'><tr><th>path</th><th>name</th><th>size</th><th>modificationTime</th></tr></thead><tbody><tr><td>dbfs:/FileStore/tables/partition_by_address_gender/_SUCCESS</td><td>_SUCCESS</td><td>0</td><td>1703243975000</td></tr><tr><td>dbfs:/FileStore/tables/partition_by_address_gender/address=INDIA/</td><td>address=INDIA/</td><td>0</td><td>0</td></tr><tr><td>dbfs:/FileStore/tables/partition_by_address_gender/address=JAPAN/</td><td>address=JAPAN/</td><td>0</td><td>0</td></tr><tr><td>dbfs:/FileStore/tables/partition_by_address_gender/address=RUSSIA/</td><td>address=RUSSIA/</td><td>0</td><td>0</td></tr><tr><td>dbfs:/FileStore/tables/partition_by_address_gender/address=USA/</td><td>address=USA/</td><td>0</td><td>0</td></tr></tbody></table></div>"
      ]
     },
     "metadata": {
      "application/vnd.databricks.v1+output": {
       "addedWidgets": {},
       "aggData": [],
       "aggError": "",
       "aggOverflow": false,
       "aggSchema": [],
       "aggSeriesLimitReached": false,
       "aggType": "",
       "arguments": {},
       "columnCustomDisplayInfos": {},
       "data": [
        [
         "dbfs:/FileStore/tables/partition_by_address_gender/_SUCCESS",
         "_SUCCESS",
         0,
         1703243975000
        ],
        [
         "dbfs:/FileStore/tables/partition_by_address_gender/address=INDIA/",
         "address=INDIA/",
         0,
         0
        ],
        [
         "dbfs:/FileStore/tables/partition_by_address_gender/address=JAPAN/",
         "address=JAPAN/",
         0,
         0
        ],
        [
         "dbfs:/FileStore/tables/partition_by_address_gender/address=RUSSIA/",
         "address=RUSSIA/",
         0,
         0
        ],
        [
         "dbfs:/FileStore/tables/partition_by_address_gender/address=USA/",
         "address=USA/",
         0,
         0
        ]
       ],
       "datasetInfos": [],
       "dbfsResultPath": null,
       "isJsonSchema": true,
       "metadata": {},
       "overflow": false,
       "plotOptions": {
        "customPlotOptions": {},
        "displayType": "table",
        "pivotAggregation": null,
        "pivotColumns": null,
        "xColumns": null,
        "yColumns": null
       },
       "removedWidgets": [],
       "schema": [
        {
         "metadata": "{}",
         "name": "path",
         "type": "\"string\""
        },
        {
         "metadata": "{}",
         "name": "name",
         "type": "\"string\""
        },
        {
         "metadata": "{}",
         "name": "size",
         "type": "\"long\""
        },
        {
         "metadata": "{}",
         "name": "modificationTime",
         "type": "\"long\""
        }
       ],
       "type": "table"
      }
     },
     "output_type": "display_data"
    }
   ],
   "source": [
    "display(dbutils.fs.ls('/FileStore/tables/partition_by_address_gender'))"
   ]
  },
  {
   "cell_type": "code",
   "execution_count": 0,
   "metadata": {
    "application/vnd.databricks.v1+cell": {
     "cellMetadata": {
      "byteLimit": 2048000,
      "rowLimit": 10000
     },
     "inputWidgets": {},
     "nuid": "b136477a-e39a-47ad-a41e-22b166ab88d5",
     "showTitle": false,
     "title": ""
    }
   },
   "outputs": [
    {
     "output_type": "display_data",
     "data": {
      "text/html": [
       "<style scoped>\n",
       "  .table-result-container {\n",
       "    max-height: 300px;\n",
       "    overflow: auto;\n",
       "  }\n",
       "  table, th, td {\n",
       "    border: 1px solid black;\n",
       "    border-collapse: collapse;\n",
       "  }\n",
       "  th, td {\n",
       "    padding: 5px;\n",
       "  }\n",
       "  th {\n",
       "    text-align: left;\n",
       "  }\n",
       "</style><div class='table-result-container'><table class='table-result'><thead style='background-color: white'><tr><th>path</th><th>name</th><th>size</th><th>modificationTime</th></tr></thead><tbody><tr><td>dbfs:/FileStore/tables/partition_by_address_gender/address=INDIA/gender=f/</td><td>gender=f/</td><td>0</td><td>0</td></tr><tr><td>dbfs:/FileStore/tables/partition_by_address_gender/address=INDIA/gender=m/</td><td>gender=m/</td><td>0</td><td>0</td></tr></tbody></table></div>"
      ]
     },
     "metadata": {
      "application/vnd.databricks.v1+output": {
       "addedWidgets": {},
       "aggData": [],
       "aggError": "",
       "aggOverflow": false,
       "aggSchema": [],
       "aggSeriesLimitReached": false,
       "aggType": "",
       "arguments": {},
       "columnCustomDisplayInfos": {},
       "data": [
        [
         "dbfs:/FileStore/tables/partition_by_address_gender/address=INDIA/gender=f/",
         "gender=f/",
         0,
         0
        ],
        [
         "dbfs:/FileStore/tables/partition_by_address_gender/address=INDIA/gender=m/",
         "gender=m/",
         0,
         0
        ]
       ],
       "datasetInfos": [],
       "dbfsResultPath": null,
       "isJsonSchema": true,
       "metadata": {},
       "overflow": false,
       "plotOptions": {
        "customPlotOptions": {},
        "displayType": "table",
        "pivotAggregation": null,
        "pivotColumns": null,
        "xColumns": null,
        "yColumns": null
       },
       "removedWidgets": [],
       "schema": [
        {
         "metadata": "{}",
         "name": "path",
         "type": "\"string\""
        },
        {
         "metadata": "{}",
         "name": "name",
         "type": "\"string\""
        },
        {
         "metadata": "{}",
         "name": "size",
         "type": "\"long\""
        },
        {
         "metadata": "{}",
         "name": "modificationTime",
         "type": "\"long\""
        }
       ],
       "type": "table"
      }
     },
     "output_type": "display_data"
    }
   ],
   "source": [
    "display(dbutils.fs.ls('/FileStore/tables/partition_by_address_gender/address=INDIA/'))"
   ]
  },
  {
   "cell_type": "code",
   "execution_count": 0,
   "metadata": {
    "application/vnd.databricks.v1+cell": {
     "cellMetadata": {
      "byteLimit": 2048000,
      "rowLimit": 10000
     },
     "inputWidgets": {},
     "nuid": "b123d712-7549-4dbf-a512-a36029bc8f90",
     "showTitle": false,
     "title": ""
    }
   },
   "outputs": [],
   "source": [
    "df.write.format(\"csv\")\\\n",
    "        .option(\"header\",\"true\")\\\n",
    "        .option(\"mode\",\"overwrite\")\\\n",
    "        .partitionBy(\"gender\",\"address\")\\\n",
    "        .save('/FileStore/tables/partition_by_gender_address')"
   ]
  },
  {
   "cell_type": "code",
   "execution_count": 0,
   "metadata": {
    "application/vnd.databricks.v1+cell": {
     "cellMetadata": {
      "byteLimit": 2048000,
      "rowLimit": 10000
     },
     "inputWidgets": {},
     "nuid": "beda6ab0-5e26-4b36-bac0-1defc795fd00",
     "showTitle": false,
     "title": ""
    }
   },
   "outputs": [
    {
     "output_type": "display_data",
     "data": {
      "text/html": [
       "<style scoped>\n",
       "  .table-result-container {\n",
       "    max-height: 300px;\n",
       "    overflow: auto;\n",
       "  }\n",
       "  table, th, td {\n",
       "    border: 1px solid black;\n",
       "    border-collapse: collapse;\n",
       "  }\n",
       "  th, td {\n",
       "    padding: 5px;\n",
       "  }\n",
       "  th {\n",
       "    text-align: left;\n",
       "  }\n",
       "</style><div class='table-result-container'><table class='table-result'><thead style='background-color: white'><tr><th>path</th><th>name</th><th>size</th><th>modificationTime</th></tr></thead><tbody><tr><td>dbfs:/FileStore/tables/partition_by_gender_address/_SUCCESS</td><td>_SUCCESS</td><td>0</td><td>1703244149000</td></tr><tr><td>dbfs:/FileStore/tables/partition_by_gender_address/gender=f/</td><td>gender=f/</td><td>0</td><td>0</td></tr><tr><td>dbfs:/FileStore/tables/partition_by_gender_address/gender=m/</td><td>gender=m/</td><td>0</td><td>0</td></tr></tbody></table></div>"
      ]
     },
     "metadata": {
      "application/vnd.databricks.v1+output": {
       "addedWidgets": {},
       "aggData": [],
       "aggError": "",
       "aggOverflow": false,
       "aggSchema": [],
       "aggSeriesLimitReached": false,
       "aggType": "",
       "arguments": {},
       "columnCustomDisplayInfos": {},
       "data": [
        [
         "dbfs:/FileStore/tables/partition_by_gender_address/_SUCCESS",
         "_SUCCESS",
         0,
         1703244149000
        ],
        [
         "dbfs:/FileStore/tables/partition_by_gender_address/gender=f/",
         "gender=f/",
         0,
         0
        ],
        [
         "dbfs:/FileStore/tables/partition_by_gender_address/gender=m/",
         "gender=m/",
         0,
         0
        ]
       ],
       "datasetInfos": [],
       "dbfsResultPath": null,
       "isJsonSchema": true,
       "metadata": {},
       "overflow": false,
       "plotOptions": {
        "customPlotOptions": {},
        "displayType": "table",
        "pivotAggregation": null,
        "pivotColumns": null,
        "xColumns": null,
        "yColumns": null
       },
       "removedWidgets": [],
       "schema": [
        {
         "metadata": "{}",
         "name": "path",
         "type": "\"string\""
        },
        {
         "metadata": "{}",
         "name": "name",
         "type": "\"string\""
        },
        {
         "metadata": "{}",
         "name": "size",
         "type": "\"long\""
        },
        {
         "metadata": "{}",
         "name": "modificationTime",
         "type": "\"long\""
        }
       ],
       "type": "table"
      }
     },
     "output_type": "display_data"
    }
   ],
   "source": [
    "display(dbutils.fs.ls('/FileStore/tables/partition_by_gender_address'))"
   ]
  },
  {
   "cell_type": "code",
   "execution_count": 0,
   "metadata": {
    "application/vnd.databricks.v1+cell": {
     "cellMetadata": {
      "byteLimit": 2048000,
      "rowLimit": 10000
     },
     "inputWidgets": {},
     "nuid": "83abfffe-fc5a-4b3f-aa7a-05a975f3012e",
     "showTitle": false,
     "title": ""
    }
   },
   "outputs": [
    {
     "output_type": "display_data",
     "data": {
      "text/html": [
       "<style scoped>\n",
       "  .table-result-container {\n",
       "    max-height: 300px;\n",
       "    overflow: auto;\n",
       "  }\n",
       "  table, th, td {\n",
       "    border: 1px solid black;\n",
       "    border-collapse: collapse;\n",
       "  }\n",
       "  th, td {\n",
       "    padding: 5px;\n",
       "  }\n",
       "  th {\n",
       "    text-align: left;\n",
       "  }\n",
       "</style><div class='table-result-container'><table class='table-result'><thead style='background-color: white'><tr><th>path</th><th>name</th><th>size</th><th>modificationTime</th></tr></thead><tbody><tr><td>dbfs:/FileStore/tables/partition_by_gender_address/gender=m/address=INDIA/</td><td>address=INDIA/</td><td>0</td><td>0</td></tr><tr><td>dbfs:/FileStore/tables/partition_by_gender_address/gender=m/address=JAPAN/</td><td>address=JAPAN/</td><td>0</td><td>0</td></tr><tr><td>dbfs:/FileStore/tables/partition_by_gender_address/gender=m/address=RUSSIA/</td><td>address=RUSSIA/</td><td>0</td><td>0</td></tr><tr><td>dbfs:/FileStore/tables/partition_by_gender_address/gender=m/address=USA/</td><td>address=USA/</td><td>0</td><td>0</td></tr></tbody></table></div>"
      ]
     },
     "metadata": {
      "application/vnd.databricks.v1+output": {
       "addedWidgets": {},
       "aggData": [],
       "aggError": "",
       "aggOverflow": false,
       "aggSchema": [],
       "aggSeriesLimitReached": false,
       "aggType": "",
       "arguments": {},
       "columnCustomDisplayInfos": {},
       "data": [
        [
         "dbfs:/FileStore/tables/partition_by_gender_address/gender=m/address=INDIA/",
         "address=INDIA/",
         0,
         0
        ],
        [
         "dbfs:/FileStore/tables/partition_by_gender_address/gender=m/address=JAPAN/",
         "address=JAPAN/",
         0,
         0
        ],
        [
         "dbfs:/FileStore/tables/partition_by_gender_address/gender=m/address=RUSSIA/",
         "address=RUSSIA/",
         0,
         0
        ],
        [
         "dbfs:/FileStore/tables/partition_by_gender_address/gender=m/address=USA/",
         "address=USA/",
         0,
         0
        ]
       ],
       "datasetInfos": [],
       "dbfsResultPath": null,
       "isJsonSchema": true,
       "metadata": {},
       "overflow": false,
       "plotOptions": {
        "customPlotOptions": {},
        "displayType": "table",
        "pivotAggregation": null,
        "pivotColumns": null,
        "xColumns": null,
        "yColumns": null
       },
       "removedWidgets": [],
       "schema": [
        {
         "metadata": "{}",
         "name": "path",
         "type": "\"string\""
        },
        {
         "metadata": "{}",
         "name": "name",
         "type": "\"string\""
        },
        {
         "metadata": "{}",
         "name": "size",
         "type": "\"long\""
        },
        {
         "metadata": "{}",
         "name": "modificationTime",
         "type": "\"long\""
        }
       ],
       "type": "table"
      }
     },
     "output_type": "display_data"
    }
   ],
   "source": [
    "display(dbutils.fs.ls('/FileStore/tables/partition_by_gender_address/gender=m/'))"
   ]
  },
  {
   "cell_type": "code",
   "execution_count": 0,
   "metadata": {
    "application/vnd.databricks.v1+cell": {
     "cellMetadata": {
      "byteLimit": 2048000,
      "rowLimit": 10000
     },
     "inputWidgets": {},
     "nuid": "fec777c0-ac43-4a58-b36c-0d0de423f050",
     "showTitle": false,
     "title": ""
    }
   },
   "outputs": [],
   "source": [
    "df.write.format(\"csv\")\\\n",
    "        .option(\"header\",\"true\")\\\n",
    "        .option(\"mode\",\"overwrite\")\\\n",
    "        .bucketBy(3,\"id\")\\\n",
    "        .option(\"path\",'/FileStore/tables/bucket_by_id')\\\n",
    "        .saveAsTable(\"emp_bucket_by_id\")"
   ]
  },
  {
   "cell_type": "code",
   "execution_count": 0,
   "metadata": {
    "application/vnd.databricks.v1+cell": {
     "cellMetadata": {
      "byteLimit": 2048000,
      "rowLimit": 10000
     },
     "inputWidgets": {},
     "nuid": "45b2a3f8-140a-4af6-ac42-9000f0cc821e",
     "showTitle": false,
     "title": ""
    }
   },
   "outputs": [
    {
     "output_type": "display_data",
     "data": {
      "text/html": [
       "<style scoped>\n",
       "  .table-result-container {\n",
       "    max-height: 300px;\n",
       "    overflow: auto;\n",
       "  }\n",
       "  table, th, td {\n",
       "    border: 1px solid black;\n",
       "    border-collapse: collapse;\n",
       "  }\n",
       "  th, td {\n",
       "    padding: 5px;\n",
       "  }\n",
       "  th {\n",
       "    text-align: left;\n",
       "  }\n",
       "</style><div class='table-result-container'><table class='table-result'><thead style='background-color: white'><tr><th>path</th><th>name</th><th>size</th><th>modificationTime</th></tr></thead><tbody><tr><td>dbfs:/FileStore/tables/bucket_by_id/_SUCCESS</td><td>_SUCCESS</td><td>0</td><td>1703244515000</td></tr><tr><td>dbfs:/FileStore/tables/bucket_by_id/_committed_1437846646421472739</td><td>_committed_1437846646421472739</td><td>309</td><td>1703244515000</td></tr><tr><td>dbfs:/FileStore/tables/bucket_by_id/_started_1437846646421472739</td><td>_started_1437846646421472739</td><td>0</td><td>1703244514000</td></tr><tr><td>dbfs:/FileStore/tables/bucket_by_id/part-00000-tid-1437846646421472739-c6d941bb-e88d-4cfa-a83f-9a3ed7394c6d-193-1_00000.c000.csv</td><td>part-00000-tid-1437846646421472739-c6d941bb-e88d-4cfa-a83f-9a3ed7394c6d-193-1_00000.c000.csv</td><td>270</td><td>1703244514000</td></tr><tr><td>dbfs:/FileStore/tables/bucket_by_id/part-00000-tid-1437846646421472739-c6d941bb-e88d-4cfa-a83f-9a3ed7394c6d-193-2_00001.c000.csv</td><td>part-00000-tid-1437846646421472739-c6d941bb-e88d-4cfa-a83f-9a3ed7394c6d-193-2_00001.c000.csv</td><td>113</td><td>1703244514000</td></tr><tr><td>dbfs:/FileStore/tables/bucket_by_id/part-00000-tid-1437846646421472739-c6d941bb-e88d-4cfa-a83f-9a3ed7394c6d-193-3_00002.c000.csv</td><td>part-00000-tid-1437846646421472739-c6d941bb-e88d-4cfa-a83f-9a3ed7394c6d-193-3_00002.c000.csv</td><td>115</td><td>1703244515000</td></tr></tbody></table></div>"
      ]
     },
     "metadata": {
      "application/vnd.databricks.v1+output": {
       "addedWidgets": {},
       "aggData": [],
       "aggError": "",
       "aggOverflow": false,
       "aggSchema": [],
       "aggSeriesLimitReached": false,
       "aggType": "",
       "arguments": {},
       "columnCustomDisplayInfos": {},
       "data": [
        [
         "dbfs:/FileStore/tables/bucket_by_id/_SUCCESS",
         "_SUCCESS",
         0,
         1703244515000
        ],
        [
         "dbfs:/FileStore/tables/bucket_by_id/_committed_1437846646421472739",
         "_committed_1437846646421472739",
         309,
         1703244515000
        ],
        [
         "dbfs:/FileStore/tables/bucket_by_id/_started_1437846646421472739",
         "_started_1437846646421472739",
         0,
         1703244514000
        ],
        [
         "dbfs:/FileStore/tables/bucket_by_id/part-00000-tid-1437846646421472739-c6d941bb-e88d-4cfa-a83f-9a3ed7394c6d-193-1_00000.c000.csv",
         "part-00000-tid-1437846646421472739-c6d941bb-e88d-4cfa-a83f-9a3ed7394c6d-193-1_00000.c000.csv",
         270,
         1703244514000
        ],
        [
         "dbfs:/FileStore/tables/bucket_by_id/part-00000-tid-1437846646421472739-c6d941bb-e88d-4cfa-a83f-9a3ed7394c6d-193-2_00001.c000.csv",
         "part-00000-tid-1437846646421472739-c6d941bb-e88d-4cfa-a83f-9a3ed7394c6d-193-2_00001.c000.csv",
         113,
         1703244514000
        ],
        [
         "dbfs:/FileStore/tables/bucket_by_id/part-00000-tid-1437846646421472739-c6d941bb-e88d-4cfa-a83f-9a3ed7394c6d-193-3_00002.c000.csv",
         "part-00000-tid-1437846646421472739-c6d941bb-e88d-4cfa-a83f-9a3ed7394c6d-193-3_00002.c000.csv",
         115,
         1703244515000
        ]
       ],
       "datasetInfos": [],
       "dbfsResultPath": null,
       "isJsonSchema": true,
       "metadata": {},
       "overflow": false,
       "plotOptions": {
        "customPlotOptions": {},
        "displayType": "table",
        "pivotAggregation": null,
        "pivotColumns": null,
        "xColumns": null,
        "yColumns": null
       },
       "removedWidgets": [],
       "schema": [
        {
         "metadata": "{}",
         "name": "path",
         "type": "\"string\""
        },
        {
         "metadata": "{}",
         "name": "name",
         "type": "\"string\""
        },
        {
         "metadata": "{}",
         "name": "size",
         "type": "\"long\""
        },
        {
         "metadata": "{}",
         "name": "modificationTime",
         "type": "\"long\""
        }
       ],
       "type": "table"
      }
     },
     "output_type": "display_data"
    }
   ],
   "source": [
    "display(dbutils.fs.ls('/FileStore/tables/bucket_by_id'))"
   ]
  }
 ],
 "metadata": {
  "application/vnd.databricks.v1+notebook": {
   "dashboards": [],
   "language": "python",
   "notebookMetadata": {
    "mostRecentlyExecutedCommandWithImplicitDF": {
     "commandId": 2598948922757432,
     "dataframes": [
      "_sqldf"
     ]
    },
    "pythonIndentUnit": 4
   },
   "notebookName": "09.Partitioning and Bucketing in spark",
   "widgets": {}
  }
 },
 "nbformat": 4,
 "nbformat_minor": 0
}
