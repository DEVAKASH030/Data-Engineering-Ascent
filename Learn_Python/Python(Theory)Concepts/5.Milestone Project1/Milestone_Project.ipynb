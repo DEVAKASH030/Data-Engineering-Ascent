{
 "cells": [
  {
   "cell_type": "code",
   "execution_count": 1,
   "metadata": {},
   "outputs": [],
   "source": [
    "def display(board):\n",
    "    print(board[7]+'|'+board[8]+'|'+board[9])\n",
    "    print('-----')\n",
    "    print(board[4]+'|'+board[5]+'|'+board[6])\n",
    "    print('-----')\n",
    "    print(board[1]+'|'+board[2]+'|'+board[3])"
   ]
  },
  {
   "cell_type": "code",
   "execution_count": 2,
   "metadata": {},
   "outputs": [
    {
     "name": "stdout",
     "output_type": "stream",
     "text": [
      "X|O|X\n",
      "-----\n",
      "O|X|O\n",
      "-----\n",
      "X|O|X\n"
     ]
    }
   ],
   "source": [
    "test_board = ['#', 'X', 'O', 'X', 'O', 'X', 'O', 'X', 'O', 'X']\n",
    "display(test_board)"
   ]
  },
  {
   "cell_type": "code",
   "execution_count": 3,
   "metadata": {},
   "outputs": [],
   "source": [
    "def player_input():\n",
    "\n",
    "    marker = ''\n",
    "\n",
    "    while not (marker == 'X' or marker == 'O'):\n",
    "\n",
    "        marker = input(\"Player1: Choose X or O: \").upper()\n",
    "\n",
    "        if marker == 'X':\n",
    "            return ('X', 'O')\n",
    "        else:\n",
    "            return ('O', 'X')"
   ]
  },
  {
   "cell_type": "code",
   "execution_count": 4,
   "metadata": {},
   "outputs": [],
   "source": [
    "player1_marker, player2_marker = player_input()"
   ]
  },
  {
   "cell_type": "code",
   "execution_count": 5,
   "metadata": {},
   "outputs": [],
   "source": [
    "def place_marker(board, marker, position):\n",
    "    board[position] = marker"
   ]
  },
  {
   "cell_type": "code",
   "execution_count": 6,
   "metadata": {},
   "outputs": [
    {
     "name": "stdout",
     "output_type": "stream",
     "text": [
      "X|O|X\n",
      "-----\n",
      "O|X|O\n",
      "-----\n",
      "X|O|X\n"
     ]
    }
   ],
   "source": [
    "display(test_board)"
   ]
  },
  {
   "cell_type": "code",
   "execution_count": 7,
   "metadata": {},
   "outputs": [
    {
     "name": "stdout",
     "output_type": "stream",
     "text": [
      "X|$|X\n",
      "-----\n",
      "O|X|O\n",
      "-----\n",
      "X|O|X\n"
     ]
    }
   ],
   "source": [
    "place_marker(test_board, '$', 8)\n",
    "display(test_board)"
   ]
  },
  {
   "cell_type": "code",
   "execution_count": 8,
   "metadata": {},
   "outputs": [],
   "source": [
    "def win_check(board, mark):\n",
    "    return (\n",
    "        # across the top\n",
    "        (board[7] == mark and board[8] == mark and board[9] == mark) or\n",
    "        # across the middle\n",
    "        (board[4] == mark and board[5] == mark and board[6] == mark) or\n",
    "        # across the bottom\n",
    "        (board[1] == mark and board[2] == mark and board[3] == mark) or\n",
    "        # down the middle\n",
    "        (board[7] == mark and board[4] == mark and board[1] == mark) or\n",
    "        # down the middle\n",
    "        (board[8] == mark and board[5] == mark and board[2] == mark) or\n",
    "        # down the right side\n",
    "        (board[9] == mark and board[6] == mark and board[3] == mark) or\n",
    "        # diagonal\n",
    "        (board[7] == mark and board[5] == mark and board[3] == mark) or\n",
    "        # diagonal\n",
    "        (board[9] == mark and board[5] == mark and board[1] == mark))"
   ]
  },
  {
   "cell_type": "code",
   "execution_count": 9,
   "metadata": {},
   "outputs": [
    {
     "name": "stdout",
     "output_type": "stream",
     "text": [
      "X|$|X\n",
      "-----\n",
      "O|X|O\n",
      "-----\n",
      "X|O|X\n"
     ]
    },
    {
     "data": {
      "text/plain": [
       "True"
      ]
     },
     "execution_count": 9,
     "metadata": {},
     "output_type": "execute_result"
    }
   ],
   "source": [
    "display(test_board)\n",
    "win_check(test_board, 'X')"
   ]
  },
  {
   "cell_type": "code",
   "execution_count": 10,
   "metadata": {},
   "outputs": [],
   "source": [
    "import random\n",
    "\n",
    "\n",
    "def choose_first():\n",
    "    flip = random.randint(0, 1)\n",
    "\n",
    "    if flip == 0:\n",
    "        return 'Player 1'\n",
    "    else:\n",
    "        return 'Player 2'"
   ]
  },
  {
   "cell_type": "code",
   "execution_count": 11,
   "metadata": {},
   "outputs": [],
   "source": [
    "def space_check(board, position):\n",
    "    return board[position] == ' '"
   ]
  },
  {
   "cell_type": "code",
   "execution_count": 12,
   "metadata": {},
   "outputs": [],
   "source": [
    "def full_board_check(board):\n",
    "    for i in range(1, 10):\n",
    "        if space_check(board, i):\n",
    "            return False\n",
    "\n",
    "    # BOARD IS FULL IF IT RETURNS TRUE\n",
    "    return True"
   ]
  },
  {
   "cell_type": "code",
   "execution_count": 13,
   "metadata": {},
   "outputs": [],
   "source": [
    "def player_choice(board):\n",
    "\n",
    "    position = 0\n",
    "\n",
    "    while position not in [0, 1, 2, 3, 4, 5, 6, 7, 8, 9] or not space_check(board, position):\n",
    "        position = int(input('Choose position: (1-9) '))\n",
    "\n",
    "    return position"
   ]
  },
  {
   "cell_type": "code",
   "execution_count": 14,
   "metadata": {},
   "outputs": [],
   "source": [
    "def replay():\n",
    "    choice = input(\"Play again? Enter Yes or No\")\n",
    "\n",
    "    return choice == 'Yes'"
   ]
  },
  {
   "cell_type": "code",
   "execution_count": null,
   "metadata": {},
   "outputs": [],
   "source": [
    "# WHILE LOOP TO KEEP RUNNING THE GAME\n",
    "\n",
    "print('Welcome to Tic Tac Toe')\n",
    "\n",
    "game_on = False\n",
    "\n",
    "while True:\n",
    "    # PLAY THE GAME\n",
    "\n",
    "    # SET EVERYTHING UP(BOARD, WHO'S FIRST, CHOOSE MARKERS X,O)\n",
    "    the_board = [' ']*10\n",
    "\n",
    "    player1_marker, player2_marker = player_input()\n",
    "\n",
    "    turn = choose_first()\n",
    "\n",
    "    print(turn + 'will go first')\n",
    "    play_game = input('Ready to play? y or n')\n",
    "\n",
    "    if play_game == 'y':\n",
    "        game_on == True\n",
    "    else:\n",
    "        game_on = False\n",
    "\n",
    "    # GAME PLAY\n",
    "    while True:\n",
    "        if turn == 'Player 1':\n",
    "            # Show the board\n",
    "            display(the_board)\n",
    "            # Choose a position\n",
    "            position = player_choice(the_board)\n",
    "            # Place the marker on the position\n",
    "            place_marker(the_board, player1_marker, position)\n",
    "\n",
    "            # Check if they won\n",
    "            if win_check(the_board, player1_marker):\n",
    "                display(the_board)\n",
    "                print('PLAYER 1 HAS WON')\n",
    "                game_on = False\n",
    "            else:\n",
    "                if full_board_check(the_board):\n",
    "                    display(the_board)\n",
    "                    print(\"TIE GAME!\")\n",
    "                else:\n",
    "                    turn = 'Player 2'\n",
    "\n",
    "        else:\n",
    "            # Show the board\n",
    "            display(the_board)\n",
    "            # Choose a position\n",
    "            position = player_choice(the_board)\n",
    "            # Place the marker on the position\n",
    "            place_marker(the_board, player2_marker, position)\n",
    "\n",
    "            # Check if they won\n",
    "            if win_check(the_board, player2_marker):\n",
    "                print('PLAYER 2 HAS WON')\n",
    "                display(the_board)\n",
    "                game_on = False\n",
    "            else:\n",
    "                if full_board_check(the_board):\n",
    "                    display(the_board)\n",
    "                    print(\"TIE GAME!\")\n",
    "                else:\n",
    "                    turn = 'Player 1'\n",
    "\n",
    "    # if not replay():\n",
    "    #     break\n",
    "\n",
    "\n",
    "# BREAK OUT OF THE WHILE LOOP ON replay()"
   ]
  }
 ],
 "metadata": {
  "kernelspec": {
   "display_name": "Python 3",
   "language": "python",
   "name": "python3"
  },
  "language_info": {
   "codemirror_mode": {
    "name": "ipython",
    "version": 3
   },
   "file_extension": ".py",
   "mimetype": "text/x-python",
   "name": "python",
   "nbconvert_exporter": "python",
   "pygments_lexer": "ipython3",
   "version": "3.11.5"
  },
  "orig_nbformat": 4
 },
 "nbformat": 4,
 "nbformat_minor": 2
}
