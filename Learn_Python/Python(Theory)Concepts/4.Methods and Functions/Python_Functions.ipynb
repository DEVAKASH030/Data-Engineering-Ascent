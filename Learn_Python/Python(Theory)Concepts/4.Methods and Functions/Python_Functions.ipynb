{
 "cells": [
  {
   "cell_type": "markdown",
   "metadata": {},
   "source": [
    "**Functions**:\n",
    "\n",
    "- Functions in Python are blocks of reusable code that perform a specific task.\n",
    "- They are defined using the def keyword followed by a function name, parameters (if any), and a block of code.\n",
    "- Functions are standalone and can be defined anywhere in your code.\n",
    "- They can take arguments, perform operations, and return a value using the return statement.\n"
   ]
  },
  {
   "cell_type": "code",
   "execution_count": null,
   "metadata": {},
   "outputs": [],
   "source": [
    "''' \n",
    "\n",
    "Functions allow us to create blocks of code that can be easily executed many times, without needing to constantly rewrite the entire block of code.\n",
    "\n",
    "'''"
   ]
  },
  {
   "cell_type": "code",
   "execution_count": 1,
   "metadata": {},
   "outputs": [
    {
     "name": "stdout",
     "output_type": "stream",
     "text": [
      "Hello Soumyaranjan\n"
     ]
    }
   ],
   "source": [
    "# The def keyword is used to define functions in Python\n",
    "\n",
    "# Snake case is a naming convention used in Python, especially for naming variables, functions, and other identifiers. In snake case, # words are written in lowercase, separated by underscores (_).\n",
    "\n",
    "\n",
    "def print_name(name):  # Functions can accept arguments to be passed by the user\n",
    "    '''\n",
    "    Docstring explains function\n",
    "    '''\n",
    "    print('Hello '+name)\n",
    "\n",
    "\n",
    "print_name('Soumyaranjan')"
   ]
  },
  {
   "cell_type": "code",
   "execution_count": 5,
   "metadata": {},
   "outputs": [
    {
     "data": {
      "text/plain": [
       "['W', 'e', 'l', 'c', 'o', 'm', 'e', '!', '!']"
      ]
     },
     "execution_count": 5,
     "metadata": {},
     "output_type": "execute_result"
    }
   ],
   "source": [
    "# Typically we use the return keyword to send back the result of the function, instead of just printing it out\n",
    "\n",
    "# return allows us to assign the output of the function to a new variable\n",
    "\n",
    "def extract_letters(word):\n",
    "    return [letter for letter in word]\n",
    "\n",
    "\n",
    "resultList = extract_letters('Welcome!!')\n",
    "\n",
    "resultList"
   ]
  },
  {
   "cell_type": "code",
   "execution_count": 4,
   "metadata": {},
   "outputs": [
    {
     "name": "stdout",
     "output_type": "stream",
     "text": [
      "Hello Boy!!\n"
     ]
    }
   ],
   "source": [
    "# Default value in functions parameter\n",
    "\n",
    "def say_hello(name='Boy!!'):\n",
    "    print(f'Hello {name}')\n",
    "\n",
    "\n",
    "say_hello()  # if we will not provide any parameter then it will print the default value"
   ]
  },
  {
   "cell_type": "code",
   "execution_count": 10,
   "metadata": {},
   "outputs": [
    {
     "data": {
      "text/plain": [
       "True"
      ]
     },
     "execution_count": 10,
     "metadata": {},
     "output_type": "execute_result"
    }
   ],
   "source": [
    "def check_even_list(num_list):\n",
    "    for numbers in num_list:\n",
    "        if numbers % 2 == 0:\n",
    "            return True\n",
    "        else:\n",
    "            pass\n",
    "    return False\n",
    "\n",
    "\n",
    "check_even_list([1, 2, 3, 4, 5, 6, 7])"
   ]
  },
  {
   "cell_type": "code",
   "execution_count": 11,
   "metadata": {},
   "outputs": [
    {
     "data": {
      "text/plain": [
       "False"
      ]
     },
     "execution_count": 11,
     "metadata": {},
     "output_type": "execute_result"
    }
   ],
   "source": [
    "check_even_list([7, 9, 13])"
   ]
  },
  {
   "cell_type": "code",
   "execution_count": 12,
   "metadata": {},
   "outputs": [],
   "source": [
    "# return even numbers in a list\n",
    "\n",
    "def return_even_list(num_list):\n",
    "    even_number = []\n",
    "    for numbers in num_list:\n",
    "        if numbers % 2 == 0:\n",
    "            even_number.append(numbers)\n",
    "        else:\n",
    "            pass\n",
    "    return even_number"
   ]
  },
  {
   "cell_type": "code",
   "execution_count": 13,
   "metadata": {},
   "outputs": [
    {
     "data": {
      "text/plain": [
       "[2, 4]"
      ]
     },
     "execution_count": 13,
     "metadata": {},
     "output_type": "execute_result"
    }
   ],
   "source": [
    "return_even_list([1, 2, 3, 4, 5])"
   ]
  },
  {
   "cell_type": "code",
   "execution_count": 16,
   "metadata": {},
   "outputs": [
    {
     "data": {
      "text/plain": [
       "[]"
      ]
     },
     "execution_count": 16,
     "metadata": {},
     "output_type": "execute_result"
    }
   ],
   "source": [
    "return_even_list([1, 3, 5])"
   ]
  },
  {
   "cell_type": "markdown",
   "metadata": {},
   "source": [
    "**Tuple unpacking with python functions**\n"
   ]
  },
  {
   "cell_type": "code",
   "execution_count": 20,
   "metadata": {},
   "outputs": [],
   "source": [
    "stock_prices = [('APPL', 200), ('GOOG', 400), ('MSFT', 100)]"
   ]
  },
  {
   "cell_type": "code",
   "execution_count": 21,
   "metadata": {},
   "outputs": [
    {
     "name": "stdout",
     "output_type": "stream",
     "text": [
      "('APPL', 200)\n",
      "('GOOG', 400)\n",
      "('MSFT', 100)\n"
     ]
    }
   ],
   "source": [
    "for item in stock_prices:\n",
    "    print(item)"
   ]
  },
  {
   "cell_type": "code",
   "execution_count": 23,
   "metadata": {},
   "outputs": [
    {
     "name": "stdout",
     "output_type": "stream",
     "text": [
      "220.0\n",
      "440.0\n",
      "110.0\n"
     ]
    }
   ],
   "source": [
    "for ticker, price in stock_prices:\n",
    "    print(price + (0.1 * price))"
   ]
  },
  {
   "cell_type": "code",
   "execution_count": 12,
   "metadata": {},
   "outputs": [],
   "source": [
    "work_hours = [('Abby', 1000), ('Billy', 400), ('Cassie', 800)]"
   ]
  },
  {
   "cell_type": "code",
   "execution_count": 9,
   "metadata": {},
   "outputs": [],
   "source": [
    "def employee_check(work_hours):\n",
    "    current_max = 0\n",
    "    employeeName = ''\n",
    "    for employee, hours in work_hours:\n",
    "        if hours > current_max:\n",
    "            current_max = hours\n",
    "            employeeName = employee\n",
    "        else:\n",
    "            pass\n",
    "\n",
    "    # Return\n",
    "    return (employeeName, current_max)"
   ]
  },
  {
   "cell_type": "code",
   "execution_count": 13,
   "metadata": {},
   "outputs": [
    {
     "data": {
      "text/plain": [
       "('Abby', 1000)"
      ]
     },
     "execution_count": 13,
     "metadata": {},
     "output_type": "execute_result"
    }
   ],
   "source": [
    "employee_check(work_hours)"
   ]
  },
  {
   "cell_type": "code",
   "execution_count": 17,
   "metadata": {},
   "outputs": [
    {
     "data": {
      "text/plain": [
       "'Abby'"
      ]
     },
     "execution_count": 17,
     "metadata": {},
     "output_type": "execute_result"
    }
   ],
   "source": [
    "employee, hours = employee_check(work_hours)\n",
    "\n",
    "employee"
   ]
  },
  {
   "cell_type": "code",
   "execution_count": 18,
   "metadata": {},
   "outputs": [
    {
     "data": {
      "text/plain": [
       "1000"
      ]
     },
     "execution_count": 18,
     "metadata": {},
     "output_type": "execute_result"
    }
   ],
   "source": [
    "hours"
   ]
  },
  {
   "cell_type": "code",
   "execution_count": 16,
   "metadata": {},
   "outputs": [
    {
     "data": {
      "text/plain": [
       "'Mate'"
      ]
     },
     "execution_count": 16,
     "metadata": {},
     "output_type": "execute_result"
    }
   ],
   "source": [
    "# multiple assignment or destructuring assignment through tuple unpacking\n",
    "name, age, loc = ('Mate', 43, 'NY')\n",
    "\n",
    "name"
   ]
  },
  {
   "cell_type": "markdown",
   "metadata": {},
   "source": [
    "- Typically a python script or notebook contains several functions interacting with each other\n"
   ]
  },
  {
   "cell_type": "code",
   "execution_count": 1,
   "metadata": {},
   "outputs": [],
   "source": [
    "from random import shuffle\n",
    "\n",
    "\n",
    "def my_shuffle_list(my_list):\n",
    "    shuffle(my_list)\n",
    "    return my_list\n",
    "\n",
    "\n",
    "def player_guess():\n",
    "\n",
    "    guess = ''\n",
    "    while guess not in ['0', '1', '2']:\n",
    "        guess = input('Pick a number: 0,1 or 2')\n",
    "\n",
    "    return int(guess)\n",
    "\n",
    "\n",
    "def check_player_guess(ml, guess):\n",
    "    if ml[guess] == 'O':\n",
    "        print('Your guess is correct🥳')\n",
    "        print(ml)\n",
    "    else:\n",
    "        print('Guess is wrong🥺')\n",
    "        print(ml)"
   ]
  },
  {
   "cell_type": "code",
   "execution_count": 2,
   "metadata": {},
   "outputs": [
    {
     "name": "stdout",
     "output_type": "stream",
     "text": [
      "Guess is wrong🥺\n",
      "[' ', ' ', 'O']\n"
     ]
    }
   ],
   "source": [
    "# INITIAL LIST\n",
    "game_list = [' ', 'O', ' ']\n",
    "\n",
    "# SHUFFLE LIST\n",
    "mixed_up_list = my_shuffle_list(game_list)\n",
    "\n",
    "# INPUT PLAYER GUESS\n",
    "my_guess = player_guess()\n",
    "\n",
    "# CHECK GUESS\n",
    "check_player_guess(mixed_up_list, my_guess)"
   ]
  },
  {
   "cell_type": "markdown",
   "metadata": {},
   "source": [
    "** *args and ** kwargs**"
   ]
  },
  {
   "cell_type": "code",
   "execution_count": 11,
   "metadata": {},
   "outputs": [
    {
     "name": "stdout",
     "output_type": "stream",
     "text": [
      "Hello, Alice! You are 25 years old.\n"
     ]
    }
   ],
   "source": [
    "# Positional Argument: Positional arguments are the values you pass to a function in the order they're defined in the function's parameter list.\n",
    "def greet(name, age):\n",
    "    print(f\"Hello, {name}! You are {age} years old.\")\n",
    "\n",
    "\n",
    "greet(\"Alice\", 25)  # \"Alice\" is the name, 25 is the age"
   ]
  },
  {
   "cell_type": "code",
   "execution_count": 24,
   "metadata": {},
   "outputs": [
    {
     "ename": "TypeError",
     "evalue": "myfunc() takes 4 positional arguments but 5 were given",
     "output_type": "error",
     "traceback": [
      "\u001b[1;31m---------------------------------------------------------------------------\u001b[0m",
      "\u001b[1;31mTypeError\u001b[0m                                 Traceback (most recent call last)",
      "Cell \u001b[1;32mIn[24], line 5\u001b[0m\n\u001b[0;32m      1\u001b[0m \u001b[39mdef\u001b[39;00m \u001b[39mmyfunc\u001b[39m(a, b, c, d):\n\u001b[0;32m      2\u001b[0m     \u001b[39mreturn\u001b[39;00m \u001b[39msum\u001b[39m((a, b))\n\u001b[1;32m----> 5\u001b[0m myfunc(\u001b[39m12\u001b[39;49m, \u001b[39m34\u001b[39;49m, \u001b[39m56\u001b[39;49m, \u001b[39m9\u001b[39;49m, \u001b[39m8\u001b[39;49m)\n",
      "\u001b[1;31mTypeError\u001b[0m: myfunc() takes 4 positional arguments but 5 were given"
     ]
    }
   ],
   "source": [
    "def myfunc(a, b, c=0, d=0):\n",
    "    return sum((a, b))\n",
    "\n",
    "\n",
    "myfunc(12, 34, 56, 9, 8)"
   ]
  },
  {
   "cell_type": "markdown",
   "metadata": {},
   "source": [
    "***args (Arbitrary Positional Arguments):**\n",
    "\n",
    "* *args is a special syntax in Python used inside a function's parameter list to collect a variable number of positional arguments as a tuple.\n",
    "  \n",
    "* It allows you to pass any number of positional arguments to the function, which are then accessible as elements within the tuple.\n",
    "\n",
    "* This is helpful when you're unsure how many arguments will be passed."
   ]
  },
  {
   "cell_type": "code",
   "execution_count": 22,
   "metadata": {},
   "outputs": [
    {
     "data": {
      "text/plain": [
       "3.57"
      ]
     },
     "execution_count": 22,
     "metadata": {},
     "output_type": "execute_result"
    }
   ],
   "source": [
    "def myfunc_arg(*args):\n",
    "    return sum(args)*0.03\n",
    "\n",
    "\n",
    "myfunc_arg(12, 34, 56, 9, 8)"
   ]
  },
  {
   "cell_type": "code",
   "execution_count": 23,
   "metadata": {},
   "outputs": [
    {
     "name": "stdout",
     "output_type": "stream",
     "text": [
      "(12, 34, 56, 9, 8)\n"
     ]
    }
   ],
   "source": [
    "def myfunc_arg(*args):\n",
    "    print(args)\n",
    "\n",
    "\n",
    "myfunc_arg(12, 34, 56, 9, 8)"
   ]
  },
  {
   "cell_type": "markdown",
   "metadata": {},
   "source": [
    "****kwargs (Keyword Arguments):**\n",
    "\n",
    "* **kwargs is another special syntax used inside a function's parameter list to collect a variable number of keyword arguments as a dictionary.\n",
    "  \n",
    "* It enables you to provide additional named arguments to the function beyond what's defined in the parameter list.\n",
    "  \n",
    "* This is useful when you want to pass extra information or options to the function in a flexible way."
   ]
  },
  {
   "cell_type": "code",
   "execution_count": 6,
   "metadata": {},
   "outputs": [
    {
     "name": "stdout",
     "output_type": "stream",
     "text": [
      "{'fruit': 'Apple', 'veggie': 'lettuce'}\n",
      "My favorite fruit is Apple\n"
     ]
    }
   ],
   "source": [
    "def myfunc_kwargs(**kwargs):\n",
    "    print(kwargs)\n",
    "    if 'fruit' in kwargs:\n",
    "        print('My favorite fruit is {}'.format(kwargs['fruit']))\n",
    "    else:\n",
    "        print(\"I didn't find any fruit here!!\")\n",
    "\n",
    "\n",
    "myfunc_kwargs(fruit='Apple', veggie='lettuce')"
   ]
  },
  {
   "cell_type": "code",
   "execution_count": 10,
   "metadata": {},
   "outputs": [
    {
     "name": "stdout",
     "output_type": "stream",
     "text": [
      "I would like to take 1 litchy\n"
     ]
    }
   ],
   "source": [
    "def myfunc_arg_kwargs(*args, **kwargs):\n",
    "    print('I would like to take {} {}'.format(args[0], kwargs['fruit']))\n",
    "\n",
    "\n",
    "myfunc_arg_kwargs(1, 2, 3, 4, fruit='litchi', snacks='Petis')"
   ]
  },
  {
   "cell_type": "code",
   "execution_count": 17,
   "metadata": {},
   "outputs": [
    {
     "name": "stdout",
     "output_type": "stream",
     "text": [
      "<class 'tuple'>\n",
      "{4, 5, 23}\n"
     ]
    }
   ],
   "source": [
    "def check_args(*args):\n",
    "    print(type(args))\n",
    "    print(set(args))\n",
    "\n",
    "\n",
    "check_args(23, 4, 5)"
   ]
  },
  {
   "cell_type": "code",
   "execution_count": 24,
   "metadata": {},
   "outputs": [
    {
     "data": {
      "text/plain": [
       "'HeLlO'"
      ]
     },
     "execution_count": 24,
     "metadata": {},
     "output_type": "execute_result"
    }
   ],
   "source": [
    "strn = 'hello'\n",
    "newStr = ''\n",
    "for x, y in enumerate(strn):\n",
    "    if x % 2 == 0:\n",
    "        newStr = newStr + y.upper()\n",
    "    else:\n",
    "        newStr = newStr + y.lower()\n",
    "\n",
    "newStr"
   ]
  },
  {
   "cell_type": "markdown",
   "metadata": {},
   "source": [
    "**map function**:\n",
    "\n",
    "* The map() function in Python is a built-in function that applies a given function to all items in an iterable (such as a list, tuple, etc.) and returns an iterator containing the results\n",
    "\n",
    "* It essentially transforms each element in the iterable by applying a specified function to it.\n",
    "\n",
    "* Basic Syntax of map function:\n",
    "\n",
    "     map(function, iterable)"
   ]
  },
  {
   "cell_type": "code",
   "execution_count": 25,
   "metadata": {},
   "outputs": [
    {
     "name": "stdout",
     "output_type": "stream",
     "text": [
      "[1, 4, 9, 16, 25]\n"
     ]
    }
   ],
   "source": [
    "def square(x):\n",
    "    return x * x\n",
    "\n",
    "\n",
    "numbers = [1, 2, 3, 4, 5]\n",
    "squared_numbers = map(square, numbers)\n",
    "\n",
    "print(list(squared_numbers))  # Output: [1, 4, 9, 16, 25]"
   ]
  },
  {
   "cell_type": "code",
   "execution_count": 27,
   "metadata": {},
   "outputs": [
    {
     "data": {
      "text/plain": [
       "'H'"
      ]
     },
     "execution_count": 27,
     "metadata": {},
     "output_type": "execute_result"
    }
   ],
   "source": [
    "def splicer(mystring):\n",
    "    if len(mystring) % 2 == 0:\n",
    "        return 'EVEN'\n",
    "    else:\n",
    "        return mystring[0]\n",
    "\n",
    "\n",
    "splicer('HELLO')"
   ]
  },
  {
   "cell_type": "markdown",
   "metadata": {},
   "source": [
    "**Filter()**:\n",
    "\n",
    "* The filter() function in Python is a built-in function that filters elements from an iterable (such as a list, tuple, etc.) based on a given function's condition. \n",
    "\n",
    "* It returns an iterator containing the elements that satisfy the condition specified by the function.\n",
    "  \n",
    "* Basic Syntax of filter()\n",
    "\n",
    "  filter(function, iterable)\n"
   ]
  },
  {
   "cell_type": "code",
   "execution_count": 2,
   "metadata": {},
   "outputs": [
    {
     "name": "stdout",
     "output_type": "stream",
     "text": [
      "[2, 4, 6]\n"
     ]
    }
   ],
   "source": [
    "def is_even(x):\n",
    "    return x % 2 == 0\n",
    "\n",
    "\n",
    "numbers = [1, 2, 3, 4, 5, 6]\n",
    "even_numbers = filter(is_even, numbers)\n",
    "\n",
    "print(list(even_numbers))  # Output: [2, 4, 6]"
   ]
  },
  {
   "cell_type": "markdown",
   "metadata": {},
   "source": [
    "**Lambda function**\n",
    "\n",
    "A lambda function is an anonymous function defined using the lambda keyword. It can take any number of arguments but can only have one expression."
   ]
  },
  {
   "cell_type": "code",
   "execution_count": 29,
   "metadata": {},
   "outputs": [
    {
     "data": {
      "text/plain": [
       "9"
      ]
     },
     "execution_count": 29,
     "metadata": {},
     "output_type": "execute_result"
    }
   ],
   "source": [
    "def square(num):\n",
    "    return num ** 2\n",
    "\n",
    "\n",
    "square(3)"
   ]
  },
  {
   "cell_type": "code",
   "execution_count": 1,
   "metadata": {},
   "outputs": [],
   "source": [
    "lambda_square = lambda num: num ** 2"
   ]
  },
  {
   "cell_type": "code",
   "execution_count": 35,
   "metadata": {},
   "outputs": [
    {
     "data": {
      "text/plain": [
       "81"
      ]
     },
     "execution_count": 35,
     "metadata": {},
     "output_type": "execute_result"
    }
   ],
   "source": [
    "lambda_square(9)"
   ]
  },
  {
   "cell_type": "code",
   "execution_count": 6,
   "metadata": {},
   "outputs": [
    {
     "data": {
      "text/plain": [
       "[1, 3, 5, 7, 9]"
      ]
     },
     "execution_count": 6,
     "metadata": {},
     "output_type": "execute_result"
    }
   ],
   "source": [
    "#  The map() and filter() functions are often used in conjunction with lambda functions in Python.\n",
    "l = [1, 3, 5, 7, 9]\n",
    "result = map(lambda n: n ** 3, l)\n",
    "\n",
    "list(l)\n",
    "\n",
    "# When you use the map() function in Python, it returns an iterator that contains the transformed values based on the function you provided.\n",
    "# In order to see the actual results or output of the map() function, you need to convert the iterator into a suitable data structure like a list, tuple, or another iterable."
   ]
  },
  {
   "cell_type": "code",
   "execution_count": 9,
   "metadata": {},
   "outputs": [
    {
     "data": {
      "text/plain": [
       "[2, 8]"
      ]
     },
     "execution_count": 9,
     "metadata": {},
     "output_type": "execute_result"
    }
   ],
   "source": [
    "mynums = [3, 1, 2, 5, 7, 8, 9]\n",
    "\n",
    "list(filter(lambda x: x % 2 == 0, mynums))"
   ]
  },
  {
   "cell_type": "code",
   "execution_count": 13,
   "metadata": {},
   "outputs": [
    {
     "data": {
      "text/plain": [
       "['A', 'E', 'S']"
      ]
     },
     "execution_count": 13,
     "metadata": {},
     "output_type": "execute_result"
    }
   ],
   "source": [
    "names = ['Andy', 'Eve', 'Sam']\n",
    "\n",
    "list(map(lambda name: name[0], names))"
   ]
  },
  {
   "cell_type": "markdown",
   "metadata": {},
   "source": [
    "**Scopes in python**:\n",
    "\n",
    "In Python, scope refers to the region or part of the program where a particular variable can be accessed or modified. Python uses a concept called \"lexical scoping\" or \"static scoping,\" which determines the visibility and accessibility of variables based on their location in the code."
   ]
  },
  {
   "cell_type": "code",
   "execution_count": 3,
   "metadata": {},
   "outputs": [],
   "source": [
    "x = 25\n",
    "\n",
    "\n",
    "def printer():\n",
    "    x = 50\n",
    "    return x"
   ]
  },
  {
   "cell_type": "code",
   "execution_count": 4,
   "metadata": {},
   "outputs": [
    {
     "name": "stdout",
     "output_type": "stream",
     "text": [
      "25\n"
     ]
    }
   ],
   "source": [
    "print(x)"
   ]
  },
  {
   "cell_type": "code",
   "execution_count": 16,
   "metadata": {},
   "outputs": [
    {
     "name": "stdout",
     "output_type": "stream",
     "text": [
      "50\n"
     ]
    }
   ],
   "source": [
    "print(printer())"
   ]
  },
  {
   "cell_type": "markdown",
   "metadata": {},
   "source": [
    "**LEGB Rule**:\n",
    "\n",
    "* L: Local --- Names assigned in any way within a function (def or lambda), and not declared global in that function.\n",
    "  \n",
    "* E: Enclosing function locals --- Names in the local scope of any and all enclosing functions(def or lambda), from inner to outer.\n",
    "  \n",
    "* G: Global(module) --- Names assigned at the top-level of a module file, or declared global in a def within the file.\n",
    "  \n",
    "* B: built-in(Python) --- Names pre assigned in the built-in names module: open,range,SyntaxError,..."
   ]
  },
  {
   "cell_type": "code",
   "execution_count": 9,
   "metadata": {},
   "outputs": [],
   "source": [
    "# GLOBAL LEVEL\n",
    "name = \"Global Variable\"\n",
    "\n",
    "\n",
    "def greet():\n",
    "    # ENCLOSING FUNCTION LOCALS\n",
    "   # name = \"enclosing function locals\"\n",
    "\n",
    "    def hello():\n",
    "        # LOCAL\n",
    "        # name = \"Local Variable\"\n",
    "        print('Hello '+name)\n",
    "    hello()\n",
    "\n",
    "# It will print \"enclosing function locals\" if local variable is commented out and will print \"Global variable\" both enclosing function locals and local variable are commented out"
   ]
  },
  {
   "cell_type": "code",
   "execution_count": 10,
   "metadata": {},
   "outputs": [
    {
     "name": "stdout",
     "output_type": "stream",
     "text": [
      "Hello Global Variable\n"
     ]
    }
   ],
   "source": [
    "greet()"
   ]
  },
  {
   "cell_type": "code",
   "execution_count": null,
   "metadata": {},
   "outputs": [],
   "source": [
    "# Built-in variable are above the global variable"
   ]
  },
  {
   "cell_type": "code",
   "execution_count": 11,
   "metadata": {},
   "outputs": [],
   "source": [
    "x = 50\n",
    "\n",
    "\n",
    "def func(x):\n",
    "    print(f'X is {x}')\n",
    "\n",
    "    # LOCAL REASSIGNMENT\n",
    "    x = 300\n",
    "    print(f'I JUST LOCALLY CHANGED X TO {x}')"
   ]
  },
  {
   "cell_type": "code",
   "execution_count": 12,
   "metadata": {},
   "outputs": [
    {
     "name": "stdout",
     "output_type": "stream",
     "text": [
      "X is 50\n",
      "I JUST LOCALLY CHANGED X TO 300\n"
     ]
    }
   ],
   "source": [
    "func(x)"
   ]
  },
  {
   "cell_type": "code",
   "execution_count": 26,
   "metadata": {},
   "outputs": [
    {
     "name": "stdout",
     "output_type": "stream",
     "text": [
      "50\n"
     ]
    }
   ],
   "source": [
    "print(x)"
   ]
  },
  {
   "cell_type": "code",
   "execution_count": 33,
   "metadata": {},
   "outputs": [],
   "source": [
    "x = 7\n",
    "\n",
    "\n",
    "def func(x):\n",
    "    print(f'X is {x}')\n",
    "\n",
    "    # LOCAL REASSIGNMENT ON A GLOBAL VARIABLE\n",
    "    x = 45\n",
    "    print(f'I JUST LOCALLY CHANGED X TO {x}')\n",
    "    return x"
   ]
  },
  {
   "cell_type": "code",
   "execution_count": 34,
   "metadata": {},
   "outputs": [
    {
     "name": "stdout",
     "output_type": "stream",
     "text": [
      "X is 7\n",
      "I JUST LOCALLY CHANGED X TO 45\n"
     ]
    },
    {
     "data": {
      "text/plain": [
       "45"
      ]
     },
     "execution_count": 34,
     "metadata": {},
     "output_type": "execute_result"
    }
   ],
   "source": [
    "func(x)"
   ]
  },
  {
   "cell_type": "code",
   "execution_count": 35,
   "metadata": {},
   "outputs": [
    {
     "name": "stdout",
     "output_type": "stream",
     "text": [
      "7\n"
     ]
    }
   ],
   "source": [
    "print(x)"
   ]
  },
  {
   "cell_type": "code",
   "execution_count": 37,
   "metadata": {},
   "outputs": [
    {
     "name": "stdout",
     "output_type": "stream",
     "text": [
      "X is 7\n",
      "I JUST LOCALLY CHANGED X TO 45\n"
     ]
    }
   ],
   "source": [
    "x = func(x)"
   ]
  },
  {
   "cell_type": "code",
   "execution_count": 38,
   "metadata": {},
   "outputs": [
    {
     "name": "stdout",
     "output_type": "stream",
     "text": [
      "45\n"
     ]
    }
   ],
   "source": [
    "print(x)"
   ]
  },
  {
   "cell_type": "code",
   "execution_count": 16,
   "metadata": {},
   "outputs": [
    {
     "data": {
      "text/plain": [
       "[11, 43, 54, 10, 99, 101, 43, 161]"
      ]
     },
     "execution_count": 16,
     "metadata": {},
     "output_type": "execute_result"
    }
   ],
   "source": [
    "numbers"
   ]
  },
  {
   "cell_type": "code",
   "execution_count": 21,
   "metadata": {},
   "outputs": [
    {
     "data": {
      "text/plain": [
       "[11, 10, 101, 161]"
      ]
     },
     "execution_count": 21,
     "metadata": {},
     "output_type": "execute_result"
    }
   ],
   "source": [
    "[n for n in numbers if str(n).startswith('1')]"
   ]
  }
 ],
 "metadata": {
  "kernelspec": {
   "display_name": "Python 3",
   "language": "python",
   "name": "python3"
  },
  "language_info": {
   "codemirror_mode": {
    "name": "ipython",
    "version": 3
   },
   "file_extension": ".py",
   "mimetype": "text/x-python",
   "name": "python",
   "nbconvert_exporter": "python",
   "pygments_lexer": "ipython3",
   "version": "3.11.5"
  },
  "orig_nbformat": 4
 },
 "nbformat": 4,
 "nbformat_minor": 2
}
