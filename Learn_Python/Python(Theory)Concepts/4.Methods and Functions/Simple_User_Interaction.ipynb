{
 "cells": [
  {
   "cell_type": "code",
   "execution_count": 1,
   "metadata": {},
   "outputs": [],
   "source": [
    "def user_input():\n",
    "    choice = 'WRONG'\n",
    "    acceptable_range = range(0, 3)\n",
    "    within_range = False\n",
    "\n",
    "    while choice.isdigit() == False or within_range == False:\n",
    "\n",
    "        choice = input()\n",
    "\n",
    "        if choice.isdigit() == False:\n",
    "            print(\"Sorry! That's not a digit!\")\n",
    "\n",
    "        if choice.isdigit() == True:\n",
    "            if int(choice) in acceptable_range:\n",
    "                within_range = True\n",
    "            else:\n",
    "                within_range = False\n",
    "\n",
    "    return int(choice)"
   ]
  },
  {
   "cell_type": "code",
   "execution_count": 12,
   "metadata": {},
   "outputs": [],
   "source": [
    "from IPython.display import clear_output"
   ]
  },
  {
   "cell_type": "code",
   "execution_count": 2,
   "metadata": {},
   "outputs": [],
   "source": [
    "def display_game(game_list):\n",
    "    print(\"Here is the current list\")\n",
    "\n",
    "    print(game_list)"
   ]
  },
  {
   "cell_type": "code",
   "execution_count": 13,
   "metadata": {},
   "outputs": [],
   "source": [
    "def pick_position():\n",
    "\n",
    "    choice = 'wrong'\n",
    "\n",
    "    while choice not in ['0', '1', '2']:\n",
    "\n",
    "        choice = input(\"Please pick a position to replace(0,1,2): \")\n",
    "\n",
    "        if choice not in ['0', '1', '2']:\n",
    "            clear_output()\n",
    "            print('Sorry, but you did not choose a valid position (0,1,2)')\n",
    "\n",
    "    return int(choice)"
   ]
  },
  {
   "cell_type": "code",
   "execution_count": 14,
   "metadata": {},
   "outputs": [],
   "source": [
    "def replacement_choice(game_list, position):\n",
    "\n",
    "    user_replacement = input('Type a string to place at the position')\n",
    "\n",
    "    game_list[position] = user_replacement\n",
    "\n",
    "    return game_list"
   ]
  },
  {
   "cell_type": "code",
   "execution_count": 15,
   "metadata": {},
   "outputs": [],
   "source": [
    "def gameon_choice():\n",
    "    choice = 'wrong'\n",
    "\n",
    "    while choice not in ['Y', 'N']:\n",
    "\n",
    "        choice = input(\"Would you like to keep playing? Y or N \")\n",
    "\n",
    "        if choice not in ['Y', 'N']:\n",
    "            clear_output()\n",
    "            print(\"Sorry, I didn't understand. Please make sure to choose Y OR N.\")\n",
    "\n",
    "    if choice == 'Y':\n",
    "        return True\n",
    "    else:\n",
    "        return False"
   ]
  },
  {
   "cell_type": "code",
   "execution_count": 16,
   "metadata": {},
   "outputs": [
    {
     "name": "stdout",
     "output_type": "stream",
     "text": [
      "Sorry, I didn't understand. Please make sure to choose Y OR N.\n"
     ]
    }
   ],
   "source": [
    "# Variable to keep game playing\n",
    "game_on = True\n",
    "\n",
    "# First Game List\n",
    "game_list = [0, 1, 2]\n",
    "\n",
    "while game_on:\n",
    "\n",
    "    # Clear any historical output and show the game list\n",
    "    clear_output()\n",
    "    display_game(game_list)\n",
    "\n",
    "    # Have player choose position\n",
    "    position = pick_position()\n",
    "\n",
    "    # Rewrite that position and update game_list\n",
    "    game_list = replacement_choice(game_list, position)\n",
    "\n",
    "    # Clear Screen and show the updated game list\n",
    "    display_game(game_list)\n",
    "\n",
    "    game_on = gameon_choice()"
   ]
  },
  {
   "cell_type": "code",
   "execution_count": null,
   "metadata": {},
   "outputs": [],
   "source": []
  }
 ],
 "metadata": {
  "kernelspec": {
   "display_name": "Python 3",
   "language": "python",
   "name": "python3"
  },
  "language_info": {
   "codemirror_mode": {
    "name": "ipython",
    "version": 3
   },
   "file_extension": ".py",
   "mimetype": "text/x-python",
   "name": "python",
   "nbconvert_exporter": "python",
   "pygments_lexer": "ipython3",
   "version": "3.11.4"
  },
  "orig_nbformat": 4
 },
 "nbformat": 4,
 "nbformat_minor": 2
}
