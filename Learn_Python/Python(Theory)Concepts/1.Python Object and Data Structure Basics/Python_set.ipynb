{
 "cells": [
  {
   "cell_type": "code",
   "execution_count": 1,
   "id": "792281f3",
   "metadata": {},
   "outputs": [],
   "source": [
    "# Sets are unordered collections of unique elements. Meaning there can only be one representative of the same object.\n",
    "# Sets are mutable, meaning we can add or remove elements from a set after it is created."
   ]
  },
  {
   "cell_type": "markdown",
   "metadata": {},
   "source": [
    "**Sets are defined using curly braces {} or the set() constructor.**"
   ]
  },
  {
   "cell_type": "code",
   "execution_count": 10,
   "id": "3c5e7b54",
   "metadata": {},
   "outputs": [
    {
     "data": {
      "text/plain": [
       "{1, 2}"
      ]
     },
     "execution_count": 10,
     "metadata": {},
     "output_type": "execute_result"
    }
   ],
   "source": [
    "mySet = {1,2}\n",
    "mySet"
   ]
  },
  {
   "cell_type": "code",
   "execution_count": 1,
   "id": "23fe3824",
   "metadata": {},
   "outputs": [],
   "source": [
    "newSet = set()"
   ]
  },
  {
   "cell_type": "code",
   "execution_count": 8,
   "id": "f2e49521",
   "metadata": {},
   "outputs": [
    {
     "data": {
      "text/plain": [
       "set()"
      ]
     },
     "execution_count": 8,
     "metadata": {},
     "output_type": "execute_result"
    }
   ],
   "source": [
    "newSet"
   ]
  },
  {
   "cell_type": "code",
   "execution_count": 11,
   "id": "d41906a5",
   "metadata": {},
   "outputs": [],
   "source": [
    "newSet.add(45)"
   ]
  },
  {
   "cell_type": "code",
   "execution_count": 12,
   "id": "cfb92af4",
   "metadata": {},
   "outputs": [
    {
     "data": {
      "text/plain": [
       "{45}"
      ]
     },
     "execution_count": 12,
     "metadata": {},
     "output_type": "execute_result"
    }
   ],
   "source": [
    "newSet"
   ]
  },
  {
   "cell_type": "code",
   "execution_count": 13,
   "id": "35afa3ea",
   "metadata": {},
   "outputs": [],
   "source": [
    "newSet.add(54)"
   ]
  },
  {
   "cell_type": "code",
   "execution_count": 14,
   "id": "ff15a833",
   "metadata": {},
   "outputs": [
    {
     "data": {
      "text/plain": [
       "{45, 54}"
      ]
     },
     "execution_count": 14,
     "metadata": {},
     "output_type": "execute_result"
    }
   ],
   "source": [
    "newSet"
   ]
  },
  {
   "cell_type": "code",
   "execution_count": 16,
   "id": "e6b1a414",
   "metadata": {},
   "outputs": [
    {
     "data": {
      "text/plain": [
       "{45, 54}"
      ]
     },
     "execution_count": 16,
     "metadata": {},
     "output_type": "execute_result"
    }
   ],
   "source": [
    "newSet.add(54)\n",
    "newSet # It will not add 54 second time"
   ]
  },
  {
   "cell_type": "code",
   "execution_count": 20,
   "id": "8bf0e5be",
   "metadata": {},
   "outputs": [],
   "source": [
    "mylist = [1,1,1,1,1,1,1,2,2,2,2,2,3,3,3,3,3]"
   ]
  },
  {
   "cell_type": "code",
   "execution_count": 21,
   "id": "426e94e5",
   "metadata": {},
   "outputs": [
    {
     "data": {
      "text/plain": [
       "{1, 2, 3}"
      ]
     },
     "execution_count": 21,
     "metadata": {},
     "output_type": "execute_result"
    }
   ],
   "source": [
    "set(mylist)"
   ]
  },
  {
   "cell_type": "code",
   "execution_count": 22,
   "id": "659ac0ef",
   "metadata": {},
   "outputs": [
    {
     "data": {
      "text/plain": [
       "{'H', 'e', 'l', 'o'}"
      ]
     },
     "execution_count": 22,
     "metadata": {},
     "output_type": "execute_result"
    }
   ],
   "source": [
    "set('Hello')"
   ]
  }
 ],
 "metadata": {
  "kernelspec": {
   "display_name": "Python 3 (ipykernel)",
   "language": "python",
   "name": "python3"
  },
  "language_info": {
   "codemirror_mode": {
    "name": "ipython",
    "version": 3
   },
   "file_extension": ".py",
   "mimetype": "text/x-python",
   "name": "python",
   "nbconvert_exporter": "python",
   "pygments_lexer": "ipython3",
   "version": "3.11.5"
  }
 },
 "nbformat": 4,
 "nbformat_minor": 5
}
