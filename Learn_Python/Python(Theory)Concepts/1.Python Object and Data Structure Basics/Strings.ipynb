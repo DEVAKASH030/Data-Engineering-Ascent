{
 "cells": [
  {
   "cell_type": "code",
   "execution_count": 1,
   "id": "b2512f83",
   "metadata": {},
   "outputs": [],
   "source": [
    "demoStr = 'Welcome to LTIMindtree'"
   ]
  },
  {
   "cell_type": "code",
   "execution_count": 25,
   "id": "ae4dd4b0",
   "metadata": {},
   "outputs": [
    {
     "name": "stdout",
     "output_type": "stream",
     "text": [
      "Welcome to LTIMindtree\n"
     ]
    }
   ],
   "source": [
    "print(demoStr)"
   ]
  },
  {
   "cell_type": "code",
   "execution_count": 30,
   "id": "4281fb51",
   "metadata": {},
   "outputs": [
    {
     "name": "stdout",
     "output_type": "stream",
     "text": [
      "W\n",
      "e\n"
     ]
    }
   ],
   "source": [
    "# Indexing : Indexing refers to the process of accessing individual elements in a sequence using their position,\n",
    "#            which is represented by an integer. \n",
    "\n",
    "# Accessing first character of the string\n",
    "print(demoStr[0])\n",
    "\n",
    "# Accessing last character\n",
    "print(demoStr[21])"
   ]
  },
  {
   "cell_type": "code",
   "execution_count": 10,
   "id": "59777595",
   "metadata": {},
   "outputs": [
    {
     "name": "stdout",
     "output_type": "stream",
     "text": [
      "e\n",
      "r\n"
     ]
    }
   ],
   "source": [
    "# Reverse Indexing :\n",
    "'''\n",
    "\n",
    "It allows to access elements from the end of a sequence using negative numbers. Instead of starting from 0 like regular \n",
    "indexing, reverse indexing starts from -1 for the last element and goes backward.\n",
    "\n",
    "'''\n",
    "\n",
    "# Accessing last character of the string using reverse indexing\n",
    "print(demoStr[-1])\n",
    "# Accessing third last character of the string using reverse indexing\n",
    "print(demoStr[-3])"
   ]
  },
  {
   "cell_type": "code",
   "execution_count": 11,
   "id": "fc882421",
   "metadata": {},
   "outputs": [
    {
     "data": {
      "text/plain": [
       "'abc'"
      ]
     },
     "execution_count": 11,
     "metadata": {},
     "output_type": "execute_result"
    }
   ],
   "source": [
    "# Slicing : Slicing is the extraction of a part of a string, list, or tuple. It enables users to access the specific\n",
    "#          range of elements by mentioning their indices.\n",
    "\n",
    "#  It uses the syntax sequence[start:end:step], where start is the index of the first element you want to include in the slice,\n",
    "#  and end is the index of the first element you want to exclude from the slice.\n",
    "\n",
    "myString = 'abcdefghijk'\n",
    "\n",
    "# Printing all the letters from c\n",
    "myString[2:]  # output: 'abcdefghijk'\n",
    "\n",
    "# Printing upto the index 3(but not include the index 3)\n",
    "myString[:3]  # output: 'abc'"
   ]
  },
  {
   "cell_type": "code",
   "execution_count": 12,
   "id": "11d32195",
   "metadata": {},
   "outputs": [
    {
     "data": {
      "text/plain": [
       "'kjihgfedcba'"
      ]
     },
     "execution_count": 12,
     "metadata": {},
     "output_type": "execute_result"
    }
   ],
   "source": [
    "# Printing from the middle of the string(particular section of the string)\n",
    "# Printing 'def'\n",
    "\n",
    "myString[3:6]\n",
    "\n",
    "# printing 'efghi'\n",
    "myString[4:9]\n",
    "\n",
    "# Accessing subsection of the string using 'step' in slicing\n",
    "# Print all the letters of the string with step size 2\n",
    "myString[::2]\n",
    "\n",
    "# Combining all the parameters of slice\n",
    "myString[3:9:2]\n",
    "\n",
    "# Tricky question in slicing\n",
    "myString[::-1]  # Basically it reverse the whole string"
   ]
  },
  {
   "cell_type": "markdown",
   "id": "1c5488d6",
   "metadata": {},
   "source": [
    "String Properties and Methods"
   ]
  },
  {
   "cell_type": "code",
   "execution_count": null,
   "id": "c46cc78a",
   "metadata": {},
   "outputs": [],
   "source": [
    "# Immutability :\n",
    "\n",
    "'''\n",
    "In the context of strings in Python, immutability means that once a string is created, its content cannot be changed or modified.\n",
    "When you try to alter the value of a string, a new string is created instead of modifying the existing one.\n",
    "'''"
   ]
  },
  {
   "cell_type": "code",
   "execution_count": 49,
   "id": "05077125",
   "metadata": {},
   "outputs": [
    {
     "ename": "TypeError",
     "evalue": "'str' object does not support item assignment",
     "output_type": "error",
     "traceback": [
      "\u001b[1;31m---------------------------------------------------------------------------\u001b[0m",
      "\u001b[1;31mTypeError\u001b[0m                                 Traceback (most recent call last)",
      "Cell \u001b[1;32mIn[49], line 2\u001b[0m\n\u001b[0;32m      1\u001b[0m myName \u001b[38;5;241m=\u001b[39m \u001b[38;5;124m'\u001b[39m\u001b[38;5;124mMohan\u001b[39m\u001b[38;5;124m'\u001b[39m\n\u001b[1;32m----> 2\u001b[0m myName[\u001b[38;5;241m0\u001b[39m] \u001b[38;5;241m=\u001b[39m \u001b[38;5;124m'\u001b[39m\u001b[38;5;124mR\u001b[39m\u001b[38;5;124m'\u001b[39m\n",
      "\u001b[1;31mTypeError\u001b[0m: 'str' object does not support item assignment"
     ]
    }
   ],
   "source": [
    "myName = 'Mohan'\n",
    "myName[0] = 'R' # TypeError: 'str' object does not support item assignment"
   ]
  },
  {
   "cell_type": "code",
   "execution_count": 55,
   "id": "92045028",
   "metadata": {},
   "outputs": [
    {
     "name": "stdout",
     "output_type": "stream",
     "text": [
      "Rohan\n"
     ]
    }
   ],
   "source": [
    "# In order to modify the string, we need to create one another string(in our case it's updatedName)\n",
    "\n",
    "# Updating the above string using String Concatenation\n",
    "updatedName = 'R' + myName[1:]\n",
    "print(updatedName) # Output : Rohan"
   ]
  },
  {
   "cell_type": "code",
   "execution_count": 14,
   "id": "ffd64387",
   "metadata": {},
   "outputs": [
    {
     "data": {
      "text/plain": [
       "'World!Hello'"
      ]
     },
     "execution_count": 14,
     "metadata": {},
     "output_type": "execute_result"
    }
   ],
   "source": [
    "# Example of String concatenation\n",
    "firstString = 'Hello'\n",
    "'World!' + firstString\n",
    "\n",
    "# Note: If we concat any character or new string to the left of the existing string then it will get concat at left side\n",
    "# and vice-versa"
   ]
  },
  {
   "cell_type": "code",
   "execution_count": 68,
   "id": "2076e95e",
   "metadata": {},
   "outputs": [
    {
     "name": "stdout",
     "output_type": "stream",
     "text": [
      "This is beautiful This is beautiful This is beautiful This is beautiful \n"
     ]
    }
   ],
   "source": [
    "# String multiplication(multiplication of letters)\n",
    "\n",
    "'hy' * 3\n",
    "\n",
    "myNew = 'This is beautiful '\n",
    "print(myNew * 4)"
   ]
  },
  {
   "cell_type": "code",
   "execution_count": 70,
   "id": "bb65b123",
   "metadata": {},
   "outputs": [
    {
     "data": {
      "text/plain": [
       "'23'"
      ]
     },
     "execution_count": 70,
     "metadata": {},
     "output_type": "execute_result"
    }
   ],
   "source": [
    "# Dynamic Typing in python\n",
    "'2' + '3'"
   ]
  },
  {
   "cell_type": "code",
   "execution_count": 72,
   "id": "da814626",
   "metadata": {},
   "outputs": [],
   "source": [
    "myNewString = 'This is my new String'"
   ]
  },
  {
   "cell_type": "code",
   "execution_count": 75,
   "id": "299c7c52",
   "metadata": {},
   "outputs": [
    {
     "data": {
      "text/plain": [
       "'this is my new string'"
      ]
     },
     "execution_count": 75,
     "metadata": {},
     "output_type": "execute_result"
    }
   ],
   "source": [
    "myNewString.upper() \n",
    "# It does not alter the original string rather it coverts all the lower case letter to upper case and \n",
    "#returns a new string\n",
    "\n",
    "# Same with lower()\n",
    "myNewString.lower() "
   ]
  },
  {
   "cell_type": "code",
   "execution_count": 15,
   "id": "25084ff3",
   "metadata": {},
   "outputs": [
    {
     "name": "stdout",
     "output_type": "stream",
     "text": [
      "['Hello,', 'World!', 'Welcome', 'to', 'Python']\n",
      "['Hell', ', W', 'rld! Welc', 'me t', ' Pyth', 'n']\n"
     ]
    }
   ],
   "source": [
    "# Split : It allows us to split a string into a list of substrings based on a specified delimiter.\n",
    "\n",
    "'''\n",
    "The split() method takes one optional argument, which is the delimiter that determines where the string should be split.\n",
    "\n",
    "Syntax: string.split([delimiter])\n",
    "\n",
    "delimiter (optional): The character or substring at which the string should be split. If not specified, the method will split the string using whitespace characters (spaces, tabs, and newlines) as the default delimiter.\n",
    "\n",
    "'''\n",
    "# Splitting a string using the default delimiter (whitespace):\n",
    "sentence = \"Hello, World! Welcome to Python\"\n",
    "words = sentence.split()\n",
    "print(words)\n",
    "\n",
    "# Splitting a string using a specific delimiter ('o' in this case):\n",
    "words = sentence.split('o')\n",
    "print(words)"
   ]
  },
  {
   "cell_type": "markdown",
   "id": "460d8431",
   "metadata": {},
   "source": [
    "String formatting for Printing"
   ]
  },
  {
   "cell_type": "code",
   "execution_count": null,
   "id": "697739f9",
   "metadata": {},
   "outputs": [],
   "source": [
    "# String interpolation :\n",
    "'''\n",
    "\n",
    "String interpolation in Python refers to the process of embedding expressions or variables within a string to create a new string that incorporates their values.\n",
    "\n",
    "It allows us to combine strings with other data types seamlessly without using concatenation explicitly.\n",
    "\n",
    "In Python, there are several ways to perform string interpolation:\n",
    "\n",
    "1. Using f-strings (Formatted String Literals) - Python 3.6 and above\n",
    "2. Using str.format() method - Python 3.\n",
    "3. Using % operator - Old style formatting.\n",
    "\n",
    "'''"
   ]
  },
  {
   "cell_type": "markdown",
   "id": "ab542c7f",
   "metadata": {},
   "source": [
    "Formatting with the .format() method\n",
    "\n",
    "A good way to format objects into your strings for print statements is with the string .format() method.\n",
    "\n",
    "The Syntax is:\n",
    "\n",
    "'String here{} then also {}'.format('something1','something2')"
   ]
  },
  {
   "cell_type": "code",
   "execution_count": 5,
   "id": "dd0eaafe",
   "metadata": {},
   "outputs": [
    {
     "name": "stdout",
     "output_type": "stream",
     "text": [
      "This iS a string INSERTED\n"
     ]
    }
   ],
   "source": [
    "print('This is a string {}'.format('INSERTED'))"
   ]
  },
  {
   "cell_type": "code",
   "execution_count": 16,
   "id": "dae4593b",
   "metadata": {},
   "outputs": [
    {
     "name": "stdout",
     "output_type": "stream",
     "text": [
      "the fox brown quick\n",
      "the quick brown fox\n",
      "the quick brown fox\n"
     ]
    }
   ],
   "source": [
    "# Inserting string by same order we supply inside format\n",
    "print('the {} {} {}'.format('fox', 'brown', 'quick'))\n",
    "\n",
    "# Inserting string by index position\n",
    "print('the {2} {1} {0}'.format('fox', 'brown', 'quick'))\n",
    "\n",
    "# Inserting string by assigning keywords\n",
    "print('the {q} {b} {f}'.format(f='fox', b='brown', q='quick'))"
   ]
  },
  {
   "cell_type": "code",
   "execution_count": 13,
   "id": "1d5e302a",
   "metadata": {},
   "outputs": [
    {
     "data": {
      "text/plain": [
       "0.3879598662207358"
      ]
     },
     "execution_count": 13,
     "metadata": {},
     "output_type": "execute_result"
    }
   ],
   "source": [
    "# Float formatting follows \"{value:with.precision f}\"\n",
    "# width: Basically it describes how long or how wide we want the entire string number to be\n",
    "# precision : It basically refers that upto which place pass decimal point we want the string number to be\n",
    "\n",
    "result = 348/897\n",
    "result"
   ]
  },
  {
   "cell_type": "code",
   "execution_count": 16,
   "id": "53afd2db",
   "metadata": {},
   "outputs": [
    {
     "name": "stdout",
     "output_type": "stream",
     "text": [
      "The result was 0.3880\n"
     ]
    }
   ],
   "source": [
    "print('The result was {r:1.4f}'.format(r=result))"
   ]
  },
  {
   "cell_type": "code",
   "execution_count": 18,
   "id": "cfdfd246",
   "metadata": {},
   "outputs": [
    {
     "name": "stdout",
     "output_type": "stream",
     "text": [
      "The result was     0.3880\n"
     ]
    }
   ],
   "source": [
    "print('The result was {r:10.4f}'.format(r=result)) \n",
    "# It will add whitespace after 'was' because it is making the string 10 character long as it is mentioned in width part"
   ]
  },
  {
   "cell_type": "markdown",
   "id": "d8c9e93a",
   "metadata": {},
   "source": [
    "Formatting with the f-string\n",
    "\n",
    "With f-strings,We can embed expressions directly inside a string by prefixing the string with the letter 'f'. \n",
    "\n",
    "We can then use curly braces {} to enclose the expressions or variables you want to interpolate."
   ]
  },
  {
   "cell_type": "code",
   "execution_count": 19,
   "id": "4e17d960",
   "metadata": {},
   "outputs": [],
   "source": [
    "Name = 'Soumya'"
   ]
  },
  {
   "cell_type": "code",
   "execution_count": 20,
   "id": "46aa2c4e",
   "metadata": {},
   "outputs": [
    {
     "name": "stdout",
     "output_type": "stream",
     "text": [
      "Hello, My name is Soumya\n"
     ]
    }
   ],
   "source": [
    "print(f'Hello, My name is {Name}')"
   ]
  },
  {
   "cell_type": "code",
   "execution_count": 21,
   "id": "9d0d3921",
   "metadata": {},
   "outputs": [],
   "source": [
    "name = 'Sam'\n",
    "age = 40"
   ]
  },
  {
   "cell_type": "code",
   "execution_count": 22,
   "id": "8acf9b95",
   "metadata": {},
   "outputs": [
    {
     "name": "stdout",
     "output_type": "stream",
     "text": [
      "Sam is 40 years old\n"
     ]
    }
   ],
   "source": [
    "print(f'{name} is {age} years old')"
   ]
  },
  {
   "cell_type": "markdown",
   "id": "96f779a3",
   "metadata": {},
   "source": [
    "Formatting with the % operator\n",
    "\n",
    "The % operator can be used for string interpolation, but it is considered the old-style formatting and is less recommended\n",
    "compared to f-strings and str.format()."
   ]
  }
 ],
 "metadata": {
  "kernelspec": {
   "display_name": "Python 3 (ipykernel)",
   "language": "python",
   "name": "python3"
  },
  "language_info": {
   "codemirror_mode": {
    "name": "ipython",
    "version": 3
   },
   "file_extension": ".py",
   "mimetype": "text/x-python",
   "name": "python",
   "nbconvert_exporter": "python",
   "pygments_lexer": "ipython3",
   "version": "3.11.5"
  }
 },
 "nbformat": 4,
 "nbformat_minor": 5
}
