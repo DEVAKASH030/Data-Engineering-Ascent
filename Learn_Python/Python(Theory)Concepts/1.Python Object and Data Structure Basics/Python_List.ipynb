{
 "cells": [
  {
   "cell_type": "markdown",
   "metadata": {},
   "source": [
    "*Python List*\n",
    "- A Python list is a data structure that stores a collection of items in a sequential order.\n",
    "- Lists are mutable, meaning that the items in a list can be changed after the list has been created. \n",
    "- Lists are also ordered, meaning that the items in a list have a specific order and cannot be changed."
   ]
  },
  {
   "cell_type": "code",
   "execution_count": 6,
   "id": "fb372e24",
   "metadata": {},
   "outputs": [
    {
     "data": {
      "text/plain": [
       "[1, 2j, 4.5, 'String', True]"
      ]
     },
     "execution_count": 6,
     "metadata": {},
     "output_type": "execute_result"
    }
   ],
   "source": [
    "# Flexibility of the List(as it can hold variety of the data object)\n",
    "my_list = [1,2j,4.5,'String',True]\n",
    "my_list"
   ]
  },
  {
   "cell_type": "code",
   "execution_count": 5,
   "id": "550e0f7c",
   "metadata": {},
   "outputs": [
    {
     "data": {
      "text/plain": [
       "5"
      ]
     },
     "execution_count": 5,
     "metadata": {},
     "output_type": "execute_result"
    }
   ],
   "source": [
    "# length of the list\n",
    "len(my_list)"
   ]
  },
  {
   "cell_type": "code",
   "execution_count": 7,
   "id": "da6875be",
   "metadata": {},
   "outputs": [
    {
     "data": {
      "text/plain": [
       "4.5"
      ]
     },
     "execution_count": 7,
     "metadata": {},
     "output_type": "execute_result"
    }
   ],
   "source": [
    "# Note: List can support indexing and slicing\n",
    "# Accessing elements by index number\n",
    "my_list[2]\n"
   ]
  },
  {
   "cell_type": "code",
   "execution_count": 8,
   "id": "3863b051",
   "metadata": {},
   "outputs": [
    {
     "data": {
      "text/plain": [
       "[2j, 4.5, 'String', True]"
      ]
     },
     "execution_count": 8,
     "metadata": {},
     "output_type": "execute_result"
    }
   ],
   "source": [
    "# Accessing sub section of the list using slicing\n",
    "my_list[1:]"
   ]
  },
  {
   "cell_type": "code",
   "execution_count": 12,
   "id": "33ae4f75",
   "metadata": {},
   "outputs": [
    {
     "data": {
      "text/plain": [
       "[1, 2j, 4.5, 'String', True, 2, 4j, 5.6, 'NEW_STRING', False]"
      ]
     },
     "execution_count": 12,
     "metadata": {},
     "output_type": "execute_result"
    }
   ],
   "source": [
    "# Merging two lists\n",
    "another_list = [2,4j,5.6,'NEW_STRING',False]\n",
    "\n",
    "new_list = my_list + another_list\n",
    "new_list"
   ]
  },
  {
   "cell_type": "code",
   "execution_count": 13,
   "id": "47809f0f",
   "metadata": {},
   "outputs": [
    {
     "data": {
      "text/plain": [
       "[1, 2j, 4.5, 'STRING', True, 2, 4j, 5.6, 'NEW_STRING', False]"
      ]
     },
     "execution_count": 13,
     "metadata": {},
     "output_type": "execute_result"
    }
   ],
   "source": [
    "# Modifying List(as it is mutable data structure)\n",
    "new_list[3] = 'STRING'\n",
    "new_list"
   ]
  },
  {
   "cell_type": "code",
   "execution_count": 19,
   "id": "c51e489f",
   "metadata": {},
   "outputs": [
    {
     "data": {
      "text/plain": [
       "[1, 2j, 4.5, 'STRING', True, 2, 4j, 5.6, 'NEW_STRING', False, 'Append Element']"
      ]
     },
     "execution_count": 19,
     "metadata": {},
     "output_type": "execute_result"
    }
   ],
   "source": [
    "# List methods\n",
    "\n",
    "## Append() method\n",
    "new_list.append('Append Element')\n",
    "new_list"
   ]
  },
  {
   "cell_type": "code",
   "execution_count": 20,
   "id": "51cee771",
   "metadata": {},
   "outputs": [
    {
     "data": {
      "text/plain": [
       "'Append Element'"
      ]
     },
     "execution_count": 20,
     "metadata": {},
     "output_type": "execute_result"
    }
   ],
   "source": [
    "## pop() method\n",
    "# Note: The default index position to remove the element is -1 .\n",
    "popped_item = new_list.pop()\n",
    "popped_item"
   ]
  },
  {
   "cell_type": "code",
   "execution_count": 21,
   "id": "01e1d3e6",
   "metadata": {},
   "outputs": [
    {
     "data": {
      "text/plain": [
       "2"
      ]
     },
     "execution_count": 21,
     "metadata": {},
     "output_type": "execute_result"
    }
   ],
   "source": [
    "## remove specific item using pop(by specifying index position of corresponding item)\n",
    "# Note : reverse indexing is possible in pop(means we can provide the negative index number to remove the element from the list)\n",
    "new_popped_item = new_list.pop(5)\n",
    "new_popped_item"
   ]
  },
  {
   "cell_type": "code",
   "execution_count": 22,
   "id": "8fac666d",
   "metadata": {},
   "outputs": [
    {
     "data": {
      "text/plain": [
       "[1, 2j, 4.5, 'STRING', True, 4j, 5.6, 'NEW_STRING', False]"
      ]
     },
     "execution_count": 22,
     "metadata": {},
     "output_type": "execute_result"
    }
   ],
   "source": [
    "new_list"
   ]
  },
  {
   "cell_type": "code",
   "execution_count": 26,
   "id": "bbc528f3",
   "metadata": {},
   "outputs": [],
   "source": [
    "new_list = ['a','e','x','b','c']\n",
    "num_list = [4,1,8,3]"
   ]
  },
  {
   "cell_type": "code",
   "execution_count": 27,
   "id": "ac6cfa6b",
   "metadata": {},
   "outputs": [],
   "source": [
    "# sort() method\n",
    "#Note : It modifies the original list in place and does not return a new list.\n",
    "# Means here nothing in sorted_list because new_list.sort() does not return new list\n",
    "sorted_list = new_list.sort()\n",
    "sorted_list # It will print nothing"
   ]
  },
  {
   "cell_type": "code",
   "execution_count": 28,
   "id": "c50ee8bb",
   "metadata": {},
   "outputs": [
    {
     "data": {
      "text/plain": [
       "NoneType"
      ]
     },
     "execution_count": 28,
     "metadata": {},
     "output_type": "execute_result"
    }
   ],
   "source": [
    "type(sorted_list)"
   ]
  },
  {
   "cell_type": "code",
   "execution_count": null,
   "id": "2c26e50b",
   "metadata": {},
   "outputs": [],
   "source": [
    "'''\n",
    "NoneType:\n",
    "In Python, NoneType is a special data type that represents the absence of a value. It is used to indicate that a variable or \n",
    "object has no value or has not been assigned any value yet.\n",
    "\n",
    "The keyword None is used to represent the NoneType object, and it is often used as a placeholder when you want to initialize\n",
    "a variable without assigning a specific value to it.\n",
    "\n",
    "In other way, it is the return value of functions or methods that does not return anything.\n",
    "\n",
    "'''"
   ]
  },
  {
   "cell_type": "code",
   "execution_count": 31,
   "id": "75d7b4a1",
   "metadata": {},
   "outputs": [
    {
     "data": {
      "text/plain": [
       "['a', 'b', 'c', 'e', 'x']"
      ]
     },
     "execution_count": 31,
     "metadata": {},
     "output_type": "execute_result"
    }
   ],
   "source": [
    "new_list.sort()\n",
    "sorted_list = new_list\n",
    "sorted_list"
   ]
  },
  {
   "cell_type": "code",
   "execution_count": 32,
   "id": "0917817d",
   "metadata": {},
   "outputs": [
    {
     "data": {
      "text/plain": [
       "[1, 3, 4, 8]"
      ]
     },
     "execution_count": 32,
     "metadata": {},
     "output_type": "execute_result"
    }
   ],
   "source": [
    "num_list.sort()\n",
    "num_list"
   ]
  },
  {
   "cell_type": "code",
   "execution_count": null,
   "id": "d75650ac",
   "metadata": {},
   "outputs": [],
   "source": [
    "# Syntax : list.sort(key=None, reverse=False)\n",
    "\n",
    "'''\n",
    "Parameters:\n",
    "\n",
    "key (optional): A function that takes an element as input and returns a value based on which the elements will be sorted.\n",
    "If not provided, the elements are sorted based on their natural order.\n",
    "reverse (optional): If set to True, the list will be sorted in descending order; otherwise, it will be sorted in ascending \n",
    "order. Default is False.\n",
    "\n",
    "'''"
   ]
  },
  {
   "cell_type": "code",
   "execution_count": 33,
   "id": "e516ec33",
   "metadata": {},
   "outputs": [
    {
     "data": {
      "text/plain": [
       "[8, 4, 3, 1]"
      ]
     },
     "execution_count": 33,
     "metadata": {},
     "output_type": "execute_result"
    }
   ],
   "source": [
    "# Sort in descending order\n",
    "num_list.sort(reverse=True)\n",
    "num_list"
   ]
  },
  {
   "cell_type": "code",
   "execution_count": 34,
   "id": "c48e6de8",
   "metadata": {},
   "outputs": [
    {
     "name": "stdout",
     "output_type": "stream",
     "text": [
      "[('Charlie', 18), ('Bob', 20), ('Alice', 25)]\n"
     ]
    }
   ],
   "source": [
    "# Sorting a list of tuples based on a specific element using the key parameter\n",
    "students = [('Alice', 25), ('Bob', 20), ('Charlie', 18)]\n",
    "students.sort(key=lambda x: x[1])  # Sort based on the second element (age)\n",
    "print(students)  # Output: [('Charlie', 18), ('Bob', 20), ('Alice', 25)]"
   ]
  },
  {
   "cell_type": "markdown",
   "metadata": {},
   "source": [
    "**In Python, the following values are generally considered falsy:**\n",
    "\n",
    "- None\n",
    "- False\n",
    "- Numeric zeros: 0, 0.0, 0j\n",
    "- Empty sequences and collections: '' (empty string), [] (empty list), {} (empty dictionary), () (empty tuple)\n",
    "- Instances of user-defined classes that define a __bool__ or __len__ method that returns False or 0, respectively."
   ]
  },
  {
   "cell_type": "code",
   "execution_count": 44,
   "id": "f2c3202f",
   "metadata": {},
   "outputs": [
    {
     "name": "stdout",
     "output_type": "stream",
     "text": [
      "hello\n"
     ]
    }
   ],
   "source": [
    "if None:\n",
    "    print('hi')\n",
    "else:\n",
    "    print('hello')"
   ]
  },
  {
   "cell_type": "code",
   "execution_count": 1,
   "id": "bd9274b7",
   "metadata": {},
   "outputs": [
    {
     "name": "stdout",
     "output_type": "stream",
     "text": [
      "This is my_script.py.\n",
      "This block only runs if my_script.py is the main program.\n",
      "Hello, world!\n"
     ]
    }
   ],
   "source": [
    "def say_hello():\n",
    "    print(\"Hello, world!\")\n",
    "\n",
    "\n",
    "print(\"This is my_script.py.\")\n",
    "if __name__ == \"__main__\":\n",
    "    print(\"This block only runs if my_script.py is the main program.\")\n",
    "    say_hello()"
   ]
  },
  {
   "cell_type": "code",
   "execution_count": 4,
   "id": "400586a0",
   "metadata": {},
   "outputs": [
    {
     "data": {
      "text/plain": [
       "[(1, 'a'), (2, 'b'), (3, 'c')]"
      ]
     },
     "execution_count": 4,
     "metadata": {},
     "output_type": "execute_result"
    }
   ],
   "source": [
    "\n",
    "list(zip([1, 2, 3], ['a', 'b', 'c', 'd']))"
   ]
  }
 ],
 "metadata": {
  "kernelspec": {
   "display_name": "Python 3 (ipykernel)",
   "language": "python",
   "name": "python3"
  },
  "language_info": {
   "codemirror_mode": {
    "name": "ipython",
    "version": 3
   },
   "file_extension": ".py",
   "mimetype": "text/x-python",
   "name": "python",
   "nbconvert_exporter": "python",
   "pygments_lexer": "ipython3",
   "version": "3.11.5"
  }
 },
 "nbformat": 4,
 "nbformat_minor": 5
}
