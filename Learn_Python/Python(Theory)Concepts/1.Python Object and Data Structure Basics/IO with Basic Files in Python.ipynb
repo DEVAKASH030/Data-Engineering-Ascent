{
 "cells": [
  {
   "cell_type": "code",
   "execution_count": null,
   "id": "2cdf9f9a",
   "metadata": {},
   "outputs": [],
   "source": [
    "# In jupyter notebook we can create and write content to the file using %%writefile file_name.txt\n",
    "'''\n",
    "%%writefile myfile.txt\n",
    "Hello this is a text file\n",
    "this is the second line\n",
    "this is the third line\n",
    "\n",
    "'''"
   ]
  },
  {
   "cell_type": "code",
   "execution_count": 6,
   "id": "f8aecf59",
   "metadata": {},
   "outputs": [],
   "source": [
    "# The open() function in Python is used to open a file and returns a file object.\n",
    "\n",
    "myfile = open('myfile.txt')"
   ]
  },
  {
   "cell_type": "code",
   "execution_count": 7,
   "id": "31e7ecde",
   "metadata": {},
   "outputs": [
    {
     "ename": "FileNotFoundError",
     "evalue": "[Errno 2] No such file or directory: 'wrong.txt'",
     "output_type": "error",
     "traceback": [
      "\u001b[1;31m---------------------------------------------------------------------------\u001b[0m",
      "\u001b[1;31mFileNotFoundError\u001b[0m                         Traceback (most recent call last)",
      "\u001b[1;32me:\\Learn Python\\My Python Stuff\\IO with Basic Files in Python.ipynb Cell 3\u001b[0m line \u001b[0;36m2\n\u001b[0;32m      <a href='vscode-notebook-cell:/e%3A/Learn%20Python/My%20Python%20Stuff/IO%20with%20Basic%20Files%20in%20Python.ipynb#W2sZmlsZQ%3D%3D?line=0'>1</a>\u001b[0m \u001b[39m# It will throw error(FileNotFoundError) is no such file or directory is there\u001b[39;00m\n\u001b[1;32m----> <a href='vscode-notebook-cell:/e%3A/Learn%20Python/My%20Python%20Stuff/IO%20with%20Basic%20Files%20in%20Python.ipynb#W2sZmlsZQ%3D%3D?line=1'>2</a>\u001b[0m myfile \u001b[39m=\u001b[39m \u001b[39mopen\u001b[39;49m(\u001b[39m'\u001b[39;49m\u001b[39mwrong.txt\u001b[39;49m\u001b[39m'\u001b[39;49m)\n",
      "File \u001b[1;32m~\\AppData\\Roaming\\Python\\Python311\\site-packages\\IPython\\core\\interactiveshell.py:284\u001b[0m, in \u001b[0;36m_modified_open\u001b[1;34m(file, *args, **kwargs)\u001b[0m\n\u001b[0;32m    277\u001b[0m \u001b[39mif\u001b[39;00m file \u001b[39min\u001b[39;00m {\u001b[39m0\u001b[39m, \u001b[39m1\u001b[39m, \u001b[39m2\u001b[39m}:\n\u001b[0;32m    278\u001b[0m     \u001b[39mraise\u001b[39;00m \u001b[39mValueError\u001b[39;00m(\n\u001b[0;32m    279\u001b[0m         \u001b[39mf\u001b[39m\u001b[39m\"\u001b[39m\u001b[39mIPython won\u001b[39m\u001b[39m'\u001b[39m\u001b[39mt let you open fd=\u001b[39m\u001b[39m{\u001b[39;00mfile\u001b[39m}\u001b[39;00m\u001b[39m by default \u001b[39m\u001b[39m\"\u001b[39m\n\u001b[0;32m    280\u001b[0m         \u001b[39m\"\u001b[39m\u001b[39mas it is likely to crash IPython. If you know what you are doing, \u001b[39m\u001b[39m\"\u001b[39m\n\u001b[0;32m    281\u001b[0m         \u001b[39m\"\u001b[39m\u001b[39myou can use builtins\u001b[39m\u001b[39m'\u001b[39m\u001b[39m open.\u001b[39m\u001b[39m\"\u001b[39m\n\u001b[0;32m    282\u001b[0m     )\n\u001b[1;32m--> 284\u001b[0m \u001b[39mreturn\u001b[39;00m io_open(file, \u001b[39m*\u001b[39;49margs, \u001b[39m*\u001b[39;49m\u001b[39m*\u001b[39;49mkwargs)\n",
      "\u001b[1;31mFileNotFoundError\u001b[0m: [Errno 2] No such file or directory: 'wrong.txt'"
     ]
    }
   ],
   "source": [
    "# It will throw error(FileNotFoundError) is no such file or directory is there\n",
    "myfile = open('wrong.txt')"
   ]
  },
  {
   "cell_type": "code",
   "execution_count": 9,
   "id": "6bebfe94",
   "metadata": {},
   "outputs": [
    {
     "data": {
      "text/plain": [
       "'e:\\\\Learn Python\\\\My Python Stuff'"
      ]
     },
     "execution_count": 9,
     "metadata": {},
     "output_type": "execute_result"
    }
   ],
   "source": [
    "# It is used to print the current directory of the file\n",
    "%pwd"
   ]
  },
  {
   "cell_type": "code",
   "execution_count": 10,
   "id": "d9d32009",
   "metadata": {},
   "outputs": [],
   "source": [
    "myfile = open('myfile.txt')"
   ]
  },
  {
   "cell_type": "code",
   "execution_count": 11,
   "id": "9437040b",
   "metadata": {},
   "outputs": [
    {
     "data": {
      "text/plain": [
       "'Hello this is a text file\\nthis is the second line\\nthis is the third line'"
      ]
     },
     "execution_count": 11,
     "metadata": {},
     "output_type": "execute_result"
    }
   ],
   "source": [
    "# This function reads the entire file and returns a string.\n",
    "# The read() function in Python automatically adds a newline character (\\n) to the end of the output by default.\n",
    "# This is because the read() function reads the file one line at a time, and the newline character is the delimiter that\n",
    "# separates the lines in a text file.\n",
    "myfile.read()"
   ]
  },
  {
   "cell_type": "code",
   "execution_count": 12,
   "id": "5eb8589d",
   "metadata": {},
   "outputs": [
    {
     "data": {
      "text/plain": [
       "''"
      ]
     },
     "execution_count": 12,
     "metadata": {},
     "output_type": "execute_result"
    }
   ],
   "source": [
    "# It prints nothing because now cursor is at the end of the line(due to call of read method in previous cell)\n",
    "# In other word the read() method returns an empty byte string when the file object is at the end of the file.\n",
    "myfile.read()"
   ]
  },
  {
   "cell_type": "code",
   "execution_count": 13,
   "id": "689fa1d2",
   "metadata": {},
   "outputs": [],
   "source": [
    "# The seek() function in Python is used to change the position of the file pointer to a given specific position.\n",
    "# File handle is like a cursor, which defines from where the data has to be read or written in the file."
   ]
  },
  {
   "cell_type": "markdown",
   "metadata": {},
   "source": [
    "**Syntax: f.seek(offset, from_what), where f is file pointer. Parameters:**\n",
    "\n",
    "offset: It is the number of bytes to move from the from_what position. It can be positive or negative.\n",
    "from_what: It specifies the position from where the offset should be applied. It can be one of the following:\n",
    "\n",
    "- 0: It means from the beginning of the file.\n",
    "- 1: It means from the current file position.\n",
    "- 2: It means from the end of the file."
   ]
  },
  {
   "cell_type": "code",
   "execution_count": 14,
   "metadata": {},
   "outputs": [
    {
     "data": {
      "text/plain": [
       "0"
      ]
     },
     "execution_count": 14,
     "metadata": {},
     "output_type": "execute_result"
    }
   ],
   "source": [
    "myfile.seek(0)"
   ]
  },
  {
   "cell_type": "code",
   "execution_count": 15,
   "id": "c054b54a",
   "metadata": {},
   "outputs": [
    {
     "data": {
      "text/plain": [
       "'Hello this is a text file\\nthis is the second line\\nthis is the third line'"
      ]
     },
     "execution_count": 15,
     "metadata": {},
     "output_type": "execute_result"
    }
   ],
   "source": [
    "myfile.read()"
   ]
  },
  {
   "cell_type": "code",
   "execution_count": 16,
   "id": "927b0470",
   "metadata": {},
   "outputs": [
    {
     "data": {
      "text/plain": [
       "0"
      ]
     },
     "execution_count": 16,
     "metadata": {},
     "output_type": "execute_result"
    }
   ],
   "source": [
    "myfile.seek(0)"
   ]
  },
  {
   "cell_type": "code",
   "execution_count": 17,
   "id": "86375859",
   "metadata": {},
   "outputs": [
    {
     "data": {
      "text/plain": [
       "'myfile.txt'"
      ]
     },
     "execution_count": 17,
     "metadata": {},
     "output_type": "execute_result"
    }
   ],
   "source": [
    "#It is used to print the name of the file\n",
    "myfile.name"
   ]
  },
  {
   "cell_type": "code",
   "execution_count": 19,
   "id": "eed7d3fe",
   "metadata": {},
   "outputs": [],
   "source": [
    "# contents stores the text of the file return by read() function\n",
    "contents = myfile.read()"
   ]
  },
  {
   "cell_type": "code",
   "execution_count": 20,
   "id": "6b680818",
   "metadata": {},
   "outputs": [
    {
     "data": {
      "text/plain": [
       "'Hello this is a text file\\nthis is the second line\\nthis is the third line'"
      ]
     },
     "execution_count": 20,
     "metadata": {},
     "output_type": "execute_result"
    }
   ],
   "source": [
    "contents"
   ]
  },
  {
   "cell_type": "code",
   "execution_count": 21,
   "id": "add0e6d2",
   "metadata": {},
   "outputs": [
    {
     "data": {
      "text/plain": [
       "0"
      ]
     },
     "execution_count": 21,
     "metadata": {},
     "output_type": "execute_result"
    }
   ],
   "source": [
    "myfile.seek(0)"
   ]
  },
  {
   "cell_type": "code",
   "execution_count": 22,
   "id": "ca165691",
   "metadata": {},
   "outputs": [
    {
     "data": {
      "text/plain": [
       "\"['Hello this is a text file\\\\n', 'this is the second line\\\\n', 'this is the third line']\""
      ]
     },
     "execution_count": 22,
     "metadata": {},
     "output_type": "execute_result"
    }
   ],
   "source": [
    "# The readlines() method in Python is used to read all the lines of a file and returns them as a list of strings.\n",
    "# The newline character at the end of each line is included in the string.\n",
    "str(myfile.readlines())"
   ]
  },
  {
   "cell_type": "markdown",
   "metadata": {},
   "source": [
    "The main difference between readline() and readlines() in Python is that readline() reads a single line from a file, while readlines() reads all the lines from a file."
   ]
  },
  {
   "cell_type": "code",
   "execution_count": null,
   "metadata": {},
   "outputs": [],
   "source": [
    "#The close() function in Python is used to close a file. It is a good practice to close a file after you are finished with it,\n",
    "# as this can help to prevent errors and improve performance.\n",
    "myfile.close()"
   ]
  },
  {
   "cell_type": "code",
   "execution_count": 32,
   "id": "9099212f",
   "metadata": {},
   "outputs": [],
   "source": [
    "# The with statement in Python is a context manager that ensures that an object is properly closed after it is used. This is\n",
    "# especially useful for files, which can be corrupted if they are not closed properly.\n",
    "with open('myfile.txt') as my_newFile:\n",
    "    contents = my_newFile.read()"
   ]
  },
  {
   "cell_type": "code",
   "execution_count": 33,
   "id": "ed22672f",
   "metadata": {},
   "outputs": [
    {
     "data": {
      "text/plain": [
       "'Hello this is a text file\\nthis is the second line\\nthis is the third line'"
      ]
     },
     "execution_count": 33,
     "metadata": {},
     "output_type": "execute_result"
    }
   ],
   "source": [
    "contents"
   ]
  },
  {
   "cell_type": "code",
   "execution_count": 34,
   "metadata": {},
   "outputs": [
    {
     "ename": "ValueError",
     "evalue": "I/O operation on closed file.",
     "output_type": "error",
     "traceback": [
      "\u001b[1;31m---------------------------------------------------------------------------\u001b[0m",
      "\u001b[1;31mValueError\u001b[0m                                Traceback (most recent call last)",
      "\u001b[1;32me:\\Learn Python\\My Python Stuff\\IO with Basic Files in Python.ipynb Cell 22\u001b[0m line \u001b[0;36m1\n\u001b[1;32m----> <a href='vscode-notebook-cell:/e%3A/Learn%20Python/My%20Python%20Stuff/IO%20with%20Basic%20Files%20in%20Python.ipynb#X52sZmlsZQ%3D%3D?line=0'>1</a>\u001b[0m my_newFile\u001b[39m.\u001b[39;49mreadlines()\n",
      "\u001b[1;31mValueError\u001b[0m: I/O operation on closed file."
     ]
    }
   ],
   "source": [
    "# The with statement will automatically close the file after the code inside the block has been executed.\n",
    "my_newFile.readlines()"
   ]
  },
  {
   "cell_type": "code",
   "execution_count": null,
   "id": "08f93f20",
   "metadata": {},
   "outputs": [],
   "source": [
    "# The mode in Python file handling refers to the way you open a file for reading, writing, or appending data.\n",
    "# And we can specify the required mode in the with context manager like below\n",
    "with open('myfile.txt', mode='r') as myfile:\n",
    "    contents = myfile.read()"
   ]
  },
  {
   "cell_type": "code",
   "execution_count": null,
   "id": "30ccdb05",
   "metadata": {},
   "outputs": [
    {
     "data": {
      "text/plain": [
       "'Hello this is a text file\\nthis is the second line\\nthis is the third line\\n'"
      ]
     },
     "execution_count": 66,
     "metadata": {},
     "output_type": "execute_result"
    }
   ],
   "source": [
    "contents"
   ]
  },
  {
   "cell_type": "code",
   "execution_count": 35,
   "id": "e4fdd49f",
   "metadata": {},
   "outputs": [
    {
     "ename": "UnsupportedOperation",
     "evalue": "not readable",
     "output_type": "error",
     "traceback": [
      "\u001b[1;31m---------------------------------------------------------------------------\u001b[0m",
      "\u001b[1;31mUnsupportedOperation\u001b[0m                      Traceback (most recent call last)",
      "\u001b[1;32me:\\Learn Python\\My Python Stuff\\IO with Basic Files in Python.ipynb Cell 25\u001b[0m line \u001b[0;36m2\n\u001b[0;32m      <a href='vscode-notebook-cell:/e%3A/Learn%20Python/My%20Python%20Stuff/IO%20with%20Basic%20Files%20in%20Python.ipynb#X26sZmlsZQ%3D%3D?line=0'>1</a>\u001b[0m \u001b[39mwith\u001b[39;00m \u001b[39mopen\u001b[39m(\u001b[39m'\u001b[39m\u001b[39mmyfile.txt\u001b[39m\u001b[39m'\u001b[39m, mode\u001b[39m=\u001b[39m\u001b[39m'\u001b[39m\u001b[39mw\u001b[39m\u001b[39m'\u001b[39m) \u001b[39mas\u001b[39;00m myfile:\n\u001b[1;32m----> <a href='vscode-notebook-cell:/e%3A/Learn%20Python/My%20Python%20Stuff/IO%20with%20Basic%20Files%20in%20Python.ipynb#X26sZmlsZQ%3D%3D?line=1'>2</a>\u001b[0m     contents \u001b[39m=\u001b[39m myfile\u001b[39m.\u001b[39;49mread()\n",
      "\u001b[1;31mUnsupportedOperation\u001b[0m: not readable"
     ]
    }
   ],
   "source": [
    "# If you have opened the file with write mode then you can't read the file\n",
    "\n",
    "with open('myfile.txt', mode='w') as myfile:\n",
    "    contents = myfile.read()"
   ]
  },
  {
   "cell_type": "markdown",
   "id": "006f6903",
   "metadata": {},
   "source": [
    "**Reading, Writing, Appending Modes**\n",
    "\n",
    "* **mode='r'** is read only\n",
    "* **mode='w'** is write only(will overwrite files or create new!)\n",
    "* **mode='a'** is append only(will add on to files)\n",
    "* **mode='r+'** is reading and writing\n",
    "* **mode='w+'** is writing and reading(Overwrites existing files or creates a new file!)"
   ]
  },
  {
   "cell_type": "code",
   "execution_count": 36,
   "id": "1e1ceb54",
   "metadata": {},
   "outputs": [
    {
     "name": "stdout",
     "output_type": "stream",
     "text": [
      "Overwriting my_new_file.txt\n"
     ]
    }
   ],
   "source": [
    "%%writefile my_new_file.txt\n",
    "ONE ON FIRST\n",
    "TWO ON SECOND\n",
    "THREE ON THIRD"
   ]
  },
  {
   "cell_type": "code",
   "execution_count": 37,
   "id": "ef2624da",
   "metadata": {},
   "outputs": [
    {
     "name": "stdout",
     "output_type": "stream",
     "text": [
      "ONE ON FIRST\n",
      "TWO ON SECOND\n",
      "THREE ON THIRD\n",
      "\n"
     ]
    }
   ],
   "source": [
    "with open('my_new_file.txt', mode='r') as f:\n",
    "    print(f.read())"
   ]
  },
  {
   "cell_type": "code",
   "execution_count": 38,
   "id": "51c78bd4",
   "metadata": {},
   "outputs": [],
   "source": [
    "with open('my_new_file.txt', mode='a') as f:\n",
    "    f.write('\\nFOUR ON FOURTH')"
   ]
  },
  {
   "cell_type": "code",
   "execution_count": 39,
   "id": "c478a852",
   "metadata": {},
   "outputs": [
    {
     "name": "stdout",
     "output_type": "stream",
     "text": [
      "ONE ON FIRST\n",
      "TWO ON SECOND\n",
      "THREE ON THIRD\n",
      "\n",
      "FOUR ON FOURTH\n"
     ]
    }
   ],
   "source": [
    "with open('my_new_file.txt', mode='r') as f:\n",
    "    print(f.read())"
   ]
  },
  {
   "cell_type": "code",
   "execution_count": 40,
   "id": "e40b2324",
   "metadata": {},
   "outputs": [],
   "source": [
    "# Since new.txt file is not available so it will create a new file as mode is w which means it will overwrite the file\n",
    "# if the mentioned file is there otherwise it will create new one.\n",
    "with open('new.txt', mode='w') as f:\n",
    "    f.write(\"I created this new file\")"
   ]
  },
  {
   "cell_type": "code",
   "execution_count": 41,
   "id": "5fe9fbb5",
   "metadata": {},
   "outputs": [
    {
     "name": "stdout",
     "output_type": "stream",
     "text": [
      "I created this new file\n"
     ]
    }
   ],
   "source": [
    "with open('new.txt', 'r') as f:\n",
    "    print(f.read())"
   ]
  }
 ],
 "metadata": {
  "kernelspec": {
   "display_name": "Python 3 (ipykernel)",
   "language": "python",
   "name": "python3"
  },
  "language_info": {
   "codemirror_mode": {
    "name": "ipython",
    "version": 3
   },
   "file_extension": ".py",
   "mimetype": "text/x-python",
   "name": "python",
   "nbconvert_exporter": "python",
   "pygments_lexer": "ipython3",
   "version": "3.11.5"
  }
 },
 "nbformat": 4,
 "nbformat_minor": 5
}
