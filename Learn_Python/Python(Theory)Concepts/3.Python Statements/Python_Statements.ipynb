{
 "cells": [
  {
   "cell_type": "code",
   "execution_count": 10,
   "metadata": {},
   "outputs": [],
   "source": [
    "# Control Flow : control flow refers to the order in which statements are executed based on certain conditions or decisions.\n",
    "# To control this flow of logic we use some keywords(conditional statements):\n",
    "# if\n",
    "# elif\n",
    "# else"
   ]
  },
  {
   "cell_type": "markdown",
   "metadata": {},
   "source": [
    "Syntax of an **if** statement\n",
    "\n",
    "  **if** some_condition:\n",
    "  \n",
    "        # execute some code\n",
    "\n",
    "\n",
    "\n",
    "\n",
    "Syntax of an **if/else** statement\n",
    "\n",
    "  **if** some_condition:\n",
    "  \n",
    "        # execute some code\n",
    "  **else**:\n",
    "  \n",
    "        # do something else\n",
    "\n",
    "\n",
    "To check multiple conditions before else statement executes\n",
    "\n",
    "  **if** some_condition:\n",
    "  \n",
    "        # execute some code\n",
    "      \n",
    " **elif** some_other_condition:\n",
    "      \n",
    "          #do something different\n",
    "  **else**:\n",
    "  \n",
    "        # do something else"
   ]
  },
  {
   "cell_type": "code",
   "execution_count": 11,
   "metadata": {},
   "outputs": [
    {
     "name": "stdout",
     "output_type": "stream",
     "text": [
      "This is true!!\n"
     ]
    }
   ],
   "source": [
    "if True:\n",
    "    print('This is true!!')"
   ]
  },
  {
   "cell_type": "code",
   "execution_count": 12,
   "metadata": {},
   "outputs": [
    {
     "name": "stdout",
     "output_type": "stream",
     "text": [
      "Feed Me!!\n"
     ]
    }
   ],
   "source": [
    "hungry = True\n",
    "if hungry:\n",
    "    print('Feed Me!!')\n",
    "else:\n",
    "    print(\"I'm not hungry !!\")"
   ]
  },
  {
   "cell_type": "code",
   "execution_count": 13,
   "metadata": {},
   "outputs": [
    {
     "name": "stdout",
     "output_type": "stream",
     "text": [
      "Money is Cool!!\n"
     ]
    }
   ],
   "source": [
    "loc = 'Bank'\n",
    "\n",
    "if loc == 'Auto Shop':\n",
    "    print(\"Cars a re cool!\")\n",
    "elif loc == 'Bank':\n",
    "    print(\"Money is Cool!!\")\n",
    "else:\n",
    "    print(\"I don't know much.\")"
   ]
  },
  {
   "cell_type": "markdown",
   "metadata": {},
   "source": [
    "**For Loop** :\n",
    "\n",
    "Many objects in Python are \"iterable\", meaning we can iterate over every element in the object.\n",
    "\n",
    "Such as every element in a list or every character in a string\n",
    "\n",
    "We can use for loops to execute a block of code for every iteration\n",
    "\n",
    "**Iterable** :\n",
    "The term iterable means you can \"iterate\" over the object.\n",
    "\n",
    "For example you can iterate over every character in a string , iterate over every item in a list,\n",
    "iterate over every key in a dictionary\n"
   ]
  },
  {
   "cell_type": "markdown",
   "metadata": {},
   "source": [
    "* Syntax of a for loop\n",
    "\n",
    "  my_iterable = [1,2,3]\n",
    "  \n",
    "  for item_name in my_iterable:\n",
    "\n",
    "         print(item_name)"
   ]
  },
  {
   "cell_type": "code",
   "execution_count": 14,
   "metadata": {},
   "outputs": [
    {
     "name": "stdout",
     "output_type": "stream",
     "text": [
      "1\n",
      "2\n",
      "3\n",
      "4\n",
      "5\n",
      "6\n",
      "7\n",
      "8\n",
      "9\n",
      "10\n"
     ]
    }
   ],
   "source": [
    "mylist = [1, 2, 3, 4, 5, 6, 7, 8, 9, 10]\n",
    "\n",
    "for num in mylist:\n",
    "    print(num)"
   ]
  },
  {
   "cell_type": "code",
   "execution_count": 15,
   "metadata": {},
   "outputs": [
    {
     "name": "stdout",
     "output_type": "stream",
     "text": [
      "Hello\n",
      "Hello\n",
      "Hello\n",
      "Hello\n",
      "Hello\n",
      "Hello\n",
      "Hello\n",
      "Hello\n",
      "Hello\n",
      "Hello\n"
     ]
    }
   ],
   "source": [
    "for num in mylist:\n",
    "    print('Hello')"
   ]
  },
  {
   "cell_type": "code",
   "execution_count": 16,
   "metadata": {},
   "outputs": [
    {
     "name": "stdout",
     "output_type": "stream",
     "text": [
      "Odd Number: 1\n",
      "2\n",
      "Odd Number: 3\n",
      "4\n",
      "Odd Number: 5\n",
      "6\n",
      "Odd Number: 7\n",
      "8\n",
      "Odd Number: 9\n",
      "10\n"
     ]
    }
   ],
   "source": [
    "for num in mylist:\n",
    "    # check for even\n",
    "    if num % 2 == 0:\n",
    "        print(num)\n",
    "    else:\n",
    "        print(f'Odd Number: {num}')"
   ]
  },
  {
   "cell_type": "code",
   "execution_count": 17,
   "metadata": {},
   "outputs": [
    {
     "name": "stdout",
     "output_type": "stream",
     "text": [
      "55\n"
     ]
    }
   ],
   "source": [
    "list_sum = 0\n",
    "\n",
    "for num in mylist:\n",
    "    list_sum += num\n",
    "\n",
    "print(list_sum)"
   ]
  },
  {
   "cell_type": "code",
   "execution_count": 18,
   "metadata": {},
   "outputs": [
    {
     "name": "stdout",
     "output_type": "stream",
     "text": [
      "H\n",
      "e\n",
      "l\n",
      "l\n",
      "o\n",
      " \n",
      "W\n",
      "o\n",
      "r\n",
      "l\n",
      "d\n"
     ]
    }
   ],
   "source": [
    "myString = 'Hello World'\n",
    "\n",
    "for letter in myString:\n",
    "    print(letter)"
   ]
  },
  {
   "cell_type": "code",
   "execution_count": 19,
   "metadata": {},
   "outputs": [
    {
     "name": "stdout",
     "output_type": "stream",
     "text": [
      "Cool!!\n",
      "Cool!!\n",
      "Cool!!\n"
     ]
    }
   ],
   "source": [
    "# In Python, programmers often use an underscore _ as a variable name in a loop when they don't plan to use the loop variable's value.\n",
    "\n",
    "\n",
    "demo_num = [1, 2, 3]\n",
    "\n",
    "for _ in demo_num:\n",
    "    print('Cool!!')\n",
    "\n",
    "# It serves as a convention to indicate that the loop variable is not being used and can be discarded."
   ]
  },
  {
   "cell_type": "code",
   "execution_count": 20,
   "metadata": {},
   "outputs": [
    {
     "name": "stdout",
     "output_type": "stream",
     "text": [
      "1\n",
      "2\n",
      "3\n",
      "4\n",
      "5\n"
     ]
    }
   ],
   "source": [
    "tup = (1, 2, 3, 4, 5)\n",
    "\n",
    "for item in tup:\n",
    "    print(item)"
   ]
  },
  {
   "cell_type": "code",
   "execution_count": 1,
   "metadata": {},
   "outputs": [
    {
     "name": "stdout",
     "output_type": "stream",
     "text": [
      "1\n",
      "2\n",
      "3\n"
     ]
    }
   ],
   "source": [
    "demo_num = [1, 2, 3]\n",
    "\n",
    "for _ in demo_num:\n",
    "    print('item')"
   ]
  },
  {
   "cell_type": "markdown",
   "metadata": {},
   "source": [
    "In this case, the loop is just interested in iterating over the elements of the list, and the actual values of the elements are not being used inside the loop.\n",
    "\n",
    "So, for each iteration, it prints 'item', and since there are three elements in the list, 'item' is printed three times.\n",
    "\n",
    "Do you know what the below code will give output?"
   ]
  },
  {
   "cell_type": "code",
   "execution_count": null,
   "metadata": {},
   "outputs": [],
   "source": [
    "demo_num = [1, 2, 3]\n",
    "for _ in demo_num:\n",
    "    print(_)"
   ]
  },
  {
   "cell_type": "code",
   "execution_count": 22,
   "metadata": {},
   "outputs": [
    {
     "name": "stdout",
     "output_type": "stream",
     "text": [
      "apple\n",
      "banana\n",
      "cherry\n"
     ]
    }
   ],
   "source": [
    "# Tuple Unpacking: Tuple unpacking in Python is a feature that allows you to assign the elements of a tuple to individual variables in a single step.\n",
    "\n",
    "# Define a tuple\n",
    "fruits = ('apple', 'banana', 'cherry')\n",
    "\n",
    "# Tuple unpacking\n",
    "fruit1, fruit2, fruit3 = fruits\n",
    "\n",
    "# Now, each variable holds the corresponding value from the tuple\n",
    "print(fruit1)  # Output: 'apple'\n",
    "print(fruit2)  # Output: 'banana'\n",
    "print(fruit3)  # Output: 'cherry'"
   ]
  },
  {
   "cell_type": "code",
   "execution_count": 23,
   "metadata": {},
   "outputs": [
    {
     "name": "stdout",
     "output_type": "stream",
     "text": [
      "(1, 2)\n",
      "(3, 4)\n",
      "(5, 6)\n",
      "(7, 8)\n"
     ]
    }
   ],
   "source": [
    "# Other examples of tuple unpacking\n",
    "mylist = [(1, 2), (3, 4), (5, 6), (7, 8)]\n",
    "\n",
    "for item in mylist:\n",
    "    print(item)"
   ]
  },
  {
   "cell_type": "code",
   "execution_count": 24,
   "metadata": {},
   "outputs": [
    {
     "name": "stdout",
     "output_type": "stream",
     "text": [
      "The price of apple is 50 cents.\n",
      "The price of banana is 70 cents.\n",
      "The price of cherry is 30 cents.\n"
     ]
    }
   ],
   "source": [
    "# List of tuples\n",
    "fruits_info = [('apple', 50), ('banana', 70), ('cherry', 30)]\n",
    "\n",
    "# Using tuple unpacking in a for loop\n",
    "# we can also write like: for (fruit, price) in fruits_info [Not recommended]\n",
    "for fruit, price in fruits_info:\n",
    "    print(f\"The price of {fruit} is {price} cents.\")"
   ]
  },
  {
   "cell_type": "code",
   "execution_count": 3,
   "metadata": {},
   "outputs": [
    {
     "name": "stdout",
     "output_type": "stream",
     "text": [
      "3\n",
      "7\n"
     ]
    },
    {
     "ename": "ValueError",
     "evalue": "not enough values to unpack (expected 3, got 2)",
     "output_type": "error",
     "traceback": [
      "\u001b[1;31m---------------------------------------------------------------------------\u001b[0m",
      "\u001b[1;31mValueError\u001b[0m                                Traceback (most recent call last)",
      "Cell \u001b[1;32mIn[3], line 3\u001b[0m\n\u001b[0;32m      1\u001b[0m myNewList \u001b[39m=\u001b[39m [(\u001b[39m1\u001b[39m, \u001b[39m2\u001b[39m, \u001b[39m3\u001b[39m), (\u001b[39m5\u001b[39m, \u001b[39m6\u001b[39m, \u001b[39m7\u001b[39m), (\u001b[39m8\u001b[39m, \u001b[39m9\u001b[39m)]\n\u001b[1;32m----> 3\u001b[0m \u001b[39mfor\u001b[39;00m a, b, c \u001b[39min\u001b[39;00m myNewList:\n\u001b[0;32m      4\u001b[0m     \u001b[39mprint\u001b[39m(c)\n",
      "\u001b[1;31mValueError\u001b[0m: not enough values to unpack (expected 3, got 2)"
     ]
    }
   ],
   "source": [
    "myNewList = [(1, 2, 3), (5, 6, 7), (8, 9)]\n",
    "\n",
    "for a, b, c in myNewList:\n",
    "    print(c)"
   ]
  },
  {
   "cell_type": "code",
   "execution_count": 5,
   "metadata": {},
   "outputs": [
    {
     "name": "stdout",
     "output_type": "stream",
     "text": [
      "k1\n",
      "k2\n",
      "k3\n"
     ]
    }
   ],
   "source": [
    "d = {'k1': 1, 'k2': 2, 'k3': 3}\n",
    "\n",
    "for itm in d:\n",
    "    print(itm)  # By default it will print the keys of the dictionaries"
   ]
  },
  {
   "cell_type": "code",
   "execution_count": null,
   "metadata": {},
   "outputs": [
    {
     "name": "stdout",
     "output_type": "stream",
     "text": [
      "('k1', 1)\n",
      "('k2', 2)\n",
      "('k3', 3)\n"
     ]
    }
   ],
   "source": [
    "# Printing the items of the dictionaries\n",
    "\n",
    "for itm in d.items():\n",
    "    print(itm)"
   ]
  },
  {
   "cell_type": "code",
   "execution_count": null,
   "metadata": {},
   "outputs": [
    {
     "name": "stdout",
     "output_type": "stream",
     "text": [
      "k1 1\n",
      "k2 2\n",
      "k3 3\n"
     ]
    }
   ],
   "source": [
    "for key, value in d.items():\n",
    "    print(value)"
   ]
  },
  {
   "cell_type": "code",
   "execution_count": null,
   "metadata": {},
   "outputs": [
    {
     "name": "stdout",
     "output_type": "stream",
     "text": [
      "1\n",
      "2\n",
      "3\n"
     ]
    }
   ],
   "source": [
    "# To get only values\n",
    "\n",
    "for value in d.values():\n",
    "    print(value)"
   ]
  },
  {
   "cell_type": "code",
   "execution_count": null,
   "metadata": {},
   "outputs": [
    {
     "name": "stdout",
     "output_type": "stream",
     "text": [
      "k1\n",
      "k2\n",
      "k3\n"
     ]
    }
   ],
   "source": [
    "# To get only keys\n",
    "\n",
    "for key in d.keys():\n",
    "    print(key)"
   ]
  },
  {
   "cell_type": "markdown",
   "metadata": {},
   "source": [
    "**While Loop**\n",
    "\n",
    "While loops will continue to execute a block of code **while** some condition remains True.\n",
    "\n",
    "For example,**while** my pool is not full, keep filling my pool with water\n",
    "\n",
    "Or **while** my dogs are still hungry, keep feeding my dogs.\n",
    "\n",
    "* Syntax of a while loop\n",
    "  \n",
    "      **while** some_boolean_condition:\n",
    "      \n",
    "           #do something\n",
    "      \n",
    "      else:\n",
    "        #do something different"
   ]
  },
  {
   "cell_type": "code",
   "execution_count": 27,
   "metadata": {},
   "outputs": [
    {
     "name": "stdout",
     "output_type": "stream",
     "text": [
      "The current value of x is 0\n",
      "The current value of x is 1\n",
      "The current value of x is 2\n",
      "The current value of x is 3\n",
      "The current value of x is 4\n"
     ]
    }
   ],
   "source": [
    "x = 0\n",
    "\n",
    "while x < 5:\n",
    "    print(f'The current value of x is {x}')\n",
    "    x += 1"
   ]
  },
  {
   "cell_type": "code",
   "execution_count": null,
   "metadata": {},
   "outputs": [
    {
     "name": "stdout",
     "output_type": "stream",
     "text": [
      "The current value of x is 0\n",
      "The current value of x is 1\n",
      "The current value of x is 2\n",
      "The current value of x is 3\n",
      "The current value of x is 4\n",
      "x is not less than 5\n"
     ]
    }
   ],
   "source": [
    "x = 0\n",
    "while x < 5:\n",
    "    print(f'The current value of x is {x}')\n",
    "    x += 1\n",
    "else:\n",
    "    print('x is not less than 5')"
   ]
  },
  {
   "cell_type": "markdown",
   "metadata": {},
   "source": [
    "**break, continue, pass**\n",
    "\n",
    "We can use break, continue and pass statements in our loops to add additional functionality for various\n",
    "cases. Three statements are defined by:\n",
    "\n",
    "break: Breaks out of the current closest enclosing loop.\n",
    "\n",
    "continue: Goes to the top of the closest enclosing loop.\n",
    "\n",
    "pass: Does nothing at all"
   ]
  },
  {
   "cell_type": "code",
   "execution_count": null,
   "metadata": {},
   "outputs": [],
   "source": [
    "# In Python, pass is a null statement, which means it does nothing when executed. It is used as a placeholder for code that is\n",
    "# syntactically required but has no actual functionality yet.\n",
    "\n",
    "'''\n",
    "The pass statement is often used in situations where you want to define a block of code in a function, loop, or conditional statement, but you haven't written the actual logic yet. It allows you to leave the block empty without causing any syntax errors.\n",
    "'''"
   ]
  },
  {
   "cell_type": "code",
   "execution_count": null,
   "metadata": {},
   "outputs": [
    {
     "name": "stdout",
     "output_type": "stream",
     "text": [
      "End of my script\n"
     ]
    }
   ],
   "source": [
    "# Using Pass\n",
    "m = [4, 5, 8]\n",
    "\n",
    "for n in m:\n",
    "    # comment\n",
    "    pass\n",
    "\n",
    "print('End of my script')"
   ]
  },
  {
   "cell_type": "code",
   "execution_count": 7,
   "metadata": {},
   "outputs": [
    {
     "name": "stdout",
     "output_type": "stream",
     "text": [
      "S\to\tu\tm\ty\ta\tr\ta\tn\tj\ta\tn\t"
     ]
    }
   ],
   "source": [
    "myString = 'Soumyaranjan'\n",
    "\n",
    "for letter in myString:\n",
    "    print(letter, end='\\t')"
   ]
  },
  {
   "cell_type": "code",
   "execution_count": 11,
   "metadata": {},
   "outputs": [
    {
     "name": "stdout",
     "output_type": "stream",
     "text": [
      "S\to\tu\tm\ty\tr\tn\tj\tn\t"
     ]
    }
   ],
   "source": [
    "# Using continue\n",
    "\n",
    "for letter in myString:\n",
    "    if letter == 'a':  # letter a will be skipped from the output string\n",
    "        continue\n",
    "    print(letter, end='\\t')"
   ]
  },
  {
   "cell_type": "code",
   "execution_count": null,
   "metadata": {},
   "outputs": [
    {
     "name": "stdout",
     "output_type": "stream",
     "text": [
      "S\to\tu\tm\ty\ta\t"
     ]
    }
   ],
   "source": [
    "# Using break\n",
    "\n",
    "for letter in myString:\n",
    "    if letter == 'r':\n",
    "        break\n",
    "    print(letter, end='\\t')"
   ]
  },
  {
   "cell_type": "code",
   "execution_count": 21,
   "metadata": {},
   "outputs": [
    {
     "name": "stdout",
     "output_type": "stream",
     "text": [
      "0\n",
      "2\n",
      "4\n"
     ]
    }
   ],
   "source": [
    "x = 0\n",
    "\n",
    "while x < 10:\n",
    "    if x % 2 == 0:\n",
    "        if x > 6:\n",
    "            break\n",
    "        print(x)\n",
    "    x += 1"
   ]
  }
 ],
 "metadata": {
  "kernelspec": {
   "display_name": "Python 3",
   "language": "python",
   "name": "python3"
  },
  "language_info": {
   "codemirror_mode": {
    "name": "ipython",
    "version": 3
   },
   "file_extension": ".py",
   "mimetype": "text/x-python",
   "name": "python",
   "nbconvert_exporter": "python",
   "pygments_lexer": "ipython3",
   "version": "3.11.5"
  },
  "orig_nbformat": 4
 },
 "nbformat": 4,
 "nbformat_minor": 2
}
