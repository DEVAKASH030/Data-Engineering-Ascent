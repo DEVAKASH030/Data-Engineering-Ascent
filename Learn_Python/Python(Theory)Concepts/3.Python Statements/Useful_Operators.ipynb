{
 "cells": [
  {
   "cell_type": "code",
   "execution_count": null,
   "metadata": {},
   "outputs": [],
   "source": [
    "# range() function\n",
    "\n",
    "'''\n",
    "In Python, range is a built-in function used to generate a sequence of numbers\n",
    "\n",
    "The range function can take one, two, or three arguments:\n",
    "\n",
    "range(stop): Generates a sequence of numbers from 0 up to, but not including, the stop value.\n",
    "\n",
    "range(start, stop): Generates a sequence of numbers starting from start up to, but not including, the stop value.\n",
    "\n",
    "range(start, stop, step): Generates a sequence of numbers starting from start, incrementing by step, up to, but not including, the stop value.\n",
    "\n",
    "'''"
   ]
  },
  {
   "cell_type": "code",
   "execution_count": 2,
   "metadata": {},
   "outputs": [
    {
     "name": "stdout",
     "output_type": "stream",
     "text": [
      "0\n",
      "1\n",
      "2\n",
      "3\n",
      "4\n",
      "5\n",
      "6\n",
      "7\n",
      "8\n",
      "9\n"
     ]
    }
   ],
   "source": [
    "for num in range(10):\n",
    "    print(num)  # 0 through 10, excluding 10"
   ]
  },
  {
   "cell_type": "code",
   "execution_count": 3,
   "metadata": {},
   "outputs": [
    {
     "name": "stdout",
     "output_type": "stream",
     "text": [
      "7\n",
      "8\n",
      "9\n",
      "10\n",
      "11\n",
      "12\n"
     ]
    }
   ],
   "source": [
    "for num in range(7, 13):\n",
    "    print(num)  # 7 through 13, excluding 13"
   ]
  },
  {
   "cell_type": "code",
   "execution_count": 6,
   "metadata": {},
   "outputs": [
    {
     "name": "stdout",
     "output_type": "stream",
     "text": [
      "1\n",
      "3\n",
      "5\n",
      "7\n",
      "9\n"
     ]
    }
   ],
   "source": [
    "for num in range(1, 10, 2):\n",
    "    print(num)  # 1 through 10,excluding 10 and counting by 2s"
   ]
  },
  {
   "cell_type": "code",
   "execution_count": 7,
   "metadata": {},
   "outputs": [
    {
     "data": {
      "text/plain": [
       "range(1, 11, 2)"
      ]
     },
     "execution_count": 7,
     "metadata": {},
     "output_type": "execute_result"
    }
   ],
   "source": [
    "range(1, 11, 2)"
   ]
  },
  {
   "cell_type": "code",
   "execution_count": 8,
   "metadata": {},
   "outputs": [
    {
     "data": {
      "text/plain": [
       "[1, 3, 5, 7, 9]"
      ]
     },
     "execution_count": 8,
     "metadata": {},
     "output_type": "execute_result"
    }
   ],
   "source": [
    "list(range(1, 11, 2))"
   ]
  },
  {
   "cell_type": "markdown",
   "metadata": {},
   "source": [
    "**Enumerate**:\n",
    "\n",
    "In simple words, the enumerate function in Python is a built-in function that adds a counter to an iterable (e.g., list, tuple, string, etc.) and returns an iterator that produces **tuples** containing the counter and the corresponding element from the original iterable."
   ]
  },
  {
   "cell_type": "code",
   "execution_count": 9,
   "metadata": {},
   "outputs": [
    {
     "name": "stdout",
     "output_type": "stream",
     "text": [
      "Index 0: apple\n",
      "Index 1: banana\n",
      "Index 2: cherry\n"
     ]
    }
   ],
   "source": [
    "fruits = ['apple', 'banana', 'cherry']\n",
    "\n",
    "# Using enumerate to get a counter and the element from the list\n",
    "for index, fruit in enumerate(fruits):\n",
    "    print(f\"Index {index}: {fruit}\")"
   ]
  },
  {
   "cell_type": "code",
   "execution_count": 2,
   "metadata": {},
   "outputs": [
    {
     "name": "stdout",
     "output_type": "stream",
     "text": [
      "H is at index 0\n",
      "e is at index 1\n",
      "l is at index 2\n",
      "l is at index 3\n",
      "o is at index 4\n",
      "  is at index 5\n",
      "W is at index 6\n",
      "o is at index 7\n",
      "r is at index 8\n",
      "l is at index 9\n",
      "d is at index 10\n"
     ]
    }
   ],
   "source": [
    "# Another example\n",
    "\n",
    "word = 'Hello World'\n",
    "\n",
    "for index, letter in enumerate(word):\n",
    "    print(f'{letter} is at index {index}')"
   ]
  },
  {
   "cell_type": "markdown",
   "metadata": {},
   "source": [
    "**Zip function**\n",
    "\n",
    "The zip function in Python is a built-in function that takes multiple iterables (e.g., lists, tuples) as input and returns an iterator of tuples where each tuple contains elements from the corresponding positions of the input iterables."
   ]
  },
  {
   "cell_type": "code",
   "execution_count": 3,
   "metadata": {},
   "outputs": [
    {
     "name": "stdout",
     "output_type": "stream",
     "text": [
      "(1, 'a', 100)\n",
      "(2, 'b', 200)\n",
      "(3, 'c', 300)\n"
     ]
    }
   ],
   "source": [
    "mylist1 = [1, 2, 3]\n",
    "mylist2 = ['a', 'b', 'c']\n",
    "mylist3 = [100, 200, 300]\n",
    "\n",
    "zip_list = zip(mylist1, mylist2, mylist3)\n",
    "\n",
    "for item in zip_list:\n",
    "    print(item)"
   ]
  },
  {
   "cell_type": "code",
   "execution_count": 3,
   "metadata": {},
   "outputs": [
    {
     "name": "stdout",
     "output_type": "stream",
     "text": [
      "apple: $1.0\n",
      "banana: $0.5\n"
     ]
    }
   ],
   "source": [
    "# It's important to note that the zip function stops generating tuples when it reaches the end of the shortest input iterable.\n",
    "\n",
    "fruits = ['apple', 'banana']\n",
    "prices = [1.0, 0.5, 1.2]\n",
    "\n",
    "# Using zip to combine two lists into tuples\n",
    "for fruit, price in zip(fruits, prices):\n",
    "    print(f\"{fruit}: ${price}\")\n",
    "\n",
    "#  In this example, the resulting iterator will have two tuples because fruits list has two elements which is the shortest list among # them."
   ]
  },
  {
   "cell_type": "markdown",
   "metadata": {},
   "source": [
    "**in operator**\n",
    "\n",
    "\n",
    "The in operator in Python is a membership operator used to check if a value exists in a sequence (e.g., list, tuple, string, set, or dictionary keys). It returns True if the value is present in the sequence, and False otherwise."
   ]
  },
  {
   "cell_type": "code",
   "execution_count": 33,
   "metadata": {},
   "outputs": [
    {
     "data": {
      "text/plain": [
       "False"
      ]
     },
     "execution_count": 33,
     "metadata": {},
     "output_type": "execute_result"
    }
   ],
   "source": [
    "'a' in [1, 2, 3, 4]"
   ]
  },
  {
   "cell_type": "code",
   "execution_count": 34,
   "metadata": {},
   "outputs": [
    {
     "data": {
      "text/plain": [
       "True"
      ]
     },
     "execution_count": 34,
     "metadata": {},
     "output_type": "execute_result"
    }
   ],
   "source": [
    "'x' in ['x', 'y', 'z']"
   ]
  },
  {
   "cell_type": "code",
   "execution_count": 35,
   "metadata": {},
   "outputs": [
    {
     "name": "stdout",
     "output_type": "stream",
     "text": [
      "True\n",
      "False\n"
     ]
    }
   ],
   "source": [
    "sentence = \"Hello, how are you?\"\n",
    "\n",
    "print('how' in sentence)   # Output: True\n",
    "print('python' in sentence)  # Output: False"
   ]
  },
  {
   "cell_type": "code",
   "execution_count": 36,
   "metadata": {},
   "outputs": [
    {
     "name": "stdout",
     "output_type": "stream",
     "text": [
      "True\n",
      "False\n"
     ]
    }
   ],
   "source": [
    "# Checking if a key is in a dictionary:\n",
    "\n",
    "person = {'name': 'Alice', 'age': 30}\n",
    "\n",
    "print('name' in person)  # Output: True\n",
    "print('city' in person)  # Output: False"
   ]
  },
  {
   "cell_type": "code",
   "execution_count": 4,
   "metadata": {},
   "outputs": [
    {
     "name": "stdout",
     "output_type": "stream",
     "text": [
      "False\n",
      "True\n"
     ]
    }
   ],
   "source": [
    "# Checking if a value is in a dictionary:\n",
    "\n",
    "person = {'name': 'Alice', 'age': 30}\n",
    "\n",
    "print('Smith' in person.values())  # Output: True\n",
    "print(30 in person.values())  # Output: False"
   ]
  },
  {
   "cell_type": "code",
   "execution_count": 37,
   "metadata": {},
   "outputs": [
    {
     "name": "stdout",
     "output_type": "stream",
     "text": [
      "True\n",
      "False\n"
     ]
    }
   ],
   "source": [
    "# Checking if a value is in a set:\n",
    "\n",
    "colors = {'red', 'blue', 'green'}\n",
    "\n",
    "print('blue' in colors)  # Output: True\n",
    "print('yellow' in colors)  # Output: False"
   ]
  },
  {
   "cell_type": "markdown",
   "metadata": {},
   "source": [
    "**min() function**\n",
    "\n",
    "In Python, the min() function is a built-in function that is used to find the minimum value among a collection of elements.\n",
    "\n",
    "It takes one or more arguments, which can be iterable data structures like lists, tuples, sets, or even multiple individual values, and returns the smallest element."
   ]
  },
  {
   "cell_type": "code",
   "execution_count": 5,
   "metadata": {},
   "outputs": [
    {
     "name": "stdout",
     "output_type": "stream",
     "text": [
      "1\n"
     ]
    }
   ],
   "source": [
    "# Using min function with list\n",
    "\n",
    "numbers = [5, 2, 8, 1, 9]\n",
    "\n",
    "# Find the minimum value in the list\n",
    "min_number = min(numbers)\n",
    "print(min_number)  # Output: 1"
   ]
  },
  {
   "cell_type": "code",
   "execution_count": 6,
   "metadata": {},
   "outputs": [
    {
     "name": "stdout",
     "output_type": "stream",
     "text": [
      "5\n"
     ]
    }
   ],
   "source": [
    "# Using the min() function with multiple arguments:\n",
    "\n",
    "# Find the minimum value among multiple arguments\n",
    "min_value = min(10, 5, 15, 8)\n",
    "print(min_value)  # Output: 5"
   ]
  },
  {
   "cell_type": "code",
   "execution_count": 8,
   "metadata": {},
   "outputs": [
    {
     "name": "stdout",
     "output_type": "stream",
     "text": [
      "blue\n"
     ]
    }
   ],
   "source": [
    "# Using the min() function with a set:\n",
    "\n",
    "colors = {'red', 'blue', 'green'}\n",
    "\n",
    "# Find the minimum value in the set\n",
    "min_color = min(colors)\n",
    "print(min_color)  # Output: 'blue'\n",
    "\n",
    "# Note : For strings, it returns the element with the smallest lexicographic order."
   ]
  },
  {
   "cell_type": "markdown",
   "metadata": {},
   "source": [
    "**shuffle()**:\n",
    "\n",
    "The shuffle() function in Python is part of the random module and is used to randomly shuffle the elements of a list in place.\n",
    "\n",
    "\n",
    "It rearranges the elements of the list in a random order, effectively changing the order of the elements randomly.\n"
   ]
  },
  {
   "cell_type": "code",
   "execution_count": 1,
   "metadata": {},
   "outputs": [
    {
     "name": "stdout",
     "output_type": "stream",
     "text": [
      "None\n"
     ]
    }
   ],
   "source": [
    "from random import shuffle\n",
    "\n",
    "my_list = [1, 2, 3, 4, 5]\n",
    "\n",
    "# Shuffle the elements of the list\n",
    "shuffle(my_list)\n",
    "\n",
    "print(my_list)  # Output: Randomly shuffled list"
   ]
  },
  {
   "cell_type": "code",
   "execution_count": 5,
   "metadata": {},
   "outputs": [
    {
     "data": {
      "text/plain": [
       "NoneType"
      ]
     },
     "execution_count": 5,
     "metadata": {},
     "output_type": "execute_result"
    }
   ],
   "source": [
    "# Keep in mind that the shuffle() function modifies the original list # directly and does not return a new list.\n",
    "\n",
    "random_list = shuffle(my_list)\n",
    "\n",
    "random_list  # It prints nothing\n",
    "\n",
    "type(random_list)  # NoneType"
   ]
  },
  {
   "cell_type": "code",
   "execution_count": 14,
   "metadata": {},
   "outputs": [
    {
     "data": {
      "text/plain": [
       "4"
      ]
     },
     "execution_count": 14,
     "metadata": {},
     "output_type": "execute_result"
    }
   ],
   "source": [
    "# random.choice() :  Returns a random element from the given sequence # (e.g., list, tuple, string).\n",
    "\n",
    "import random\n",
    "t = (1, 2, 4, 5, 6)\n",
    "random.choice(t)"
   ]
  },
  {
   "cell_type": "code",
   "execution_count": 16,
   "metadata": {},
   "outputs": [
    {
     "name": "stdout",
     "output_type": "stream",
     "text": [
      "18\n"
     ]
    }
   ],
   "source": [
    "# randint : Returns a random integer between a and b (inclusive).\n",
    "\n",
    "from random import randint\n",
    "\n",
    "print(randint(0, 20))"
   ]
  },
  {
   "cell_type": "code",
   "execution_count": 17,
   "metadata": {},
   "outputs": [
    {
     "data": {
      "text/plain": [
       "20"
      ]
     },
     "execution_count": 17,
     "metadata": {},
     "output_type": "execute_result"
    }
   ],
   "source": [
    "myRandNum = randint(9, 23)\n",
    "\n",
    "myRandNum"
   ]
  },
  {
   "cell_type": "code",
   "execution_count": 19,
   "metadata": {},
   "outputs": [
    {
     "data": {
      "text/plain": [
       "0.4517728508731289"
      ]
     },
     "execution_count": 19,
     "metadata": {},
     "output_type": "execute_result"
    }
   ],
   "source": [
    "# random() : Returns a random floating-point number between 0 and 1 # # (including 0 but excluding 1).\n",
    "\n",
    "\n",
    "from random import random\n",
    "\n",
    "mynum = random()\n",
    "\n",
    "mynum"
   ]
  },
  {
   "cell_type": "code",
   "execution_count": 22,
   "metadata": {},
   "outputs": [],
   "source": [
    "# input : In Python, the input() function is used to take user input # # from the keyboard while the program is running.\n",
    "result = input('Favorite number:')"
   ]
  },
  {
   "cell_type": "code",
   "execution_count": 24,
   "metadata": {},
   "outputs": [
    {
     "data": {
      "text/plain": [
       "str"
      ]
     },
     "execution_count": 24,
     "metadata": {},
     "output_type": "execute_result"
    }
   ],
   "source": [
    "type(result)"
   ]
  },
  {
   "cell_type": "code",
   "execution_count": 29,
   "metadata": {},
   "outputs": [],
   "source": [
    "# Keep in mind that the input() function always returns a string, even if the user enters a number\n",
    "\n",
    "r = int(input('Your Favorite Number : '))"
   ]
  },
  {
   "cell_type": "code",
   "execution_count": 30,
   "metadata": {},
   "outputs": [
    {
     "data": {
      "text/plain": [
       "int"
      ]
     },
     "execution_count": 30,
     "metadata": {},
     "output_type": "execute_result"
    }
   ],
   "source": [
    "type(r)"
   ]
  }
 ],
 "metadata": {
  "kernelspec": {
   "display_name": "Python 3",
   "language": "python",
   "name": "python3"
  },
  "language_info": {
   "codemirror_mode": {
    "name": "ipython",
    "version": 3
   },
   "file_extension": ".py",
   "mimetype": "text/x-python",
   "name": "python",
   "nbconvert_exporter": "python",
   "pygments_lexer": "ipython3",
   "version": "3.11.5"
  },
  "orig_nbformat": 4
 },
 "nbformat": 4,
 "nbformat_minor": 2
}
